{
 "cells": [
  {
   "cell_type": "code",
   "execution_count": 240,
   "metadata": {},
   "outputs": [],
   "source": [
    "import numpy as np\n",
    "import pandas as pd\n",
    "#import modin.pandas as pd\n",
    "\n",
    "import matplotlib.pyplot as plt\n",
    "import seaborn as sns\n",
    "\n",
    "from scipy import sparse\n",
    "from tqdm import tqdm\n",
    "\n",
    "%matplotlib inline"
   ]
  },
  {
   "cell_type": "code",
   "execution_count": 2,
   "metadata": {},
   "outputs": [],
   "source": [
    "# !pip install modin"
   ]
  },
  {
   "cell_type": "markdown",
   "metadata": {},
   "source": [
    "# Сырые данные"
   ]
  },
  {
   "cell_type": "markdown",
   "metadata": {},
   "source": [
    "## Считываем данные из .csv"
   ]
  },
  {
   "cell_type": "markdown",
   "metadata": {},
   "source": [
    "Некоторые данные (такие как рубрики и признаки), представлены строками значений. Преобразуем их в списки чисел. "
   ]
  },
  {
   "cell_type": "code",
   "execution_count": 3,
   "metadata": {},
   "outputs": [],
   "source": [
    "to_list = lambda rubrics: [int(rubric) for rubric in str(rubrics).split(' ')]\n",
    "def apply_to_columns(df, columns, func=to_list):\n",
    "    for column in columns:\n",
    "        df.loc[~df[column].isnull(), column] = df.loc[~df[column].isnull(), column].apply(func)"
   ]
  },
  {
   "cell_type": "markdown",
   "metadata": {},
   "source": [
    "В первую очередь нам понадобятся данные по __пользователям__, __организациям__ и сами __отзывы__. "
   ]
  },
  {
   "cell_type": "code",
   "execution_count": 4,
   "metadata": {},
   "outputs": [
    {
     "name": "stdout",
     "output_type": "stream",
     "text": [
      "Users:  1252801\n"
     ]
    },
    {
     "data": {
      "text/html": [
       "<div>\n",
       "<style scoped>\n",
       "    .dataframe tbody tr th:only-of-type {\n",
       "        vertical-align: middle;\n",
       "    }\n",
       "\n",
       "    .dataframe tbody tr th {\n",
       "        vertical-align: top;\n",
       "    }\n",
       "\n",
       "    .dataframe thead th {\n",
       "        text-align: right;\n",
       "    }\n",
       "</style>\n",
       "<table border=\"1\" class=\"dataframe\">\n",
       "  <thead>\n",
       "    <tr style=\"text-align: right;\">\n",
       "      <th></th>\n",
       "      <th>user_id</th>\n",
       "      <th>city</th>\n",
       "    </tr>\n",
       "  </thead>\n",
       "  <tbody>\n",
       "    <tr>\n",
       "      <th>0</th>\n",
       "      <td>523295021912509756</td>\n",
       "      <td>msk</td>\n",
       "    </tr>\n",
       "    <tr>\n",
       "      <th>1</th>\n",
       "      <td>11952159487361099606</td>\n",
       "      <td>msk</td>\n",
       "    </tr>\n",
       "    <tr>\n",
       "      <th>2</th>\n",
       "      <td>16879036589969590999</td>\n",
       "      <td>msk</td>\n",
       "    </tr>\n",
       "  </tbody>\n",
       "</table>\n",
       "</div>"
      ],
      "text/plain": [
       "                user_id city\n",
       "0    523295021912509756  msk\n",
       "1  11952159487361099606  msk\n",
       "2  16879036589969590999  msk"
      ]
     },
     "execution_count": 4,
     "metadata": {},
     "output_type": "execute_result"
    }
   ],
   "source": [
    "users = pd.read_csv('data/users.csv') # Информация о городе проживания пользователя:\n",
    "print('Users: ', users['user_id'].nunique())\n",
    "users.head(3)"
   ]
  },
  {
   "cell_type": "markdown",
   "metadata": {},
   "source": [
    "# NLP"
   ]
  },
  {
   "cell_type": "markdown",
   "metadata": {},
   "source": [
    "Описание извлекаемых из отзывов аспектов. Множество аспектов извлекается из отзыва с помощью NLP-алгоритма и может быть неточным.\n"
   ]
  },
  {
   "cell_type": "code",
   "execution_count": 5,
   "metadata": {},
   "outputs": [
    {
     "data": {
      "text/html": [
       "<div>\n",
       "<style scoped>\n",
       "    .dataframe tbody tr th:only-of-type {\n",
       "        vertical-align: middle;\n",
       "    }\n",
       "\n",
       "    .dataframe tbody tr th {\n",
       "        vertical-align: top;\n",
       "    }\n",
       "\n",
       "    .dataframe thead th {\n",
       "        text-align: right;\n",
       "    }\n",
       "</style>\n",
       "<table border=\"1\" class=\"dataframe\">\n",
       "  <thead>\n",
       "    <tr style=\"text-align: right;\">\n",
       "      <th></th>\n",
       "      <th>aspect_id</th>\n",
       "      <th>aspect_name</th>\n",
       "    </tr>\n",
       "  </thead>\n",
       "  <tbody>\n",
       "    <tr>\n",
       "      <th>62</th>\n",
       "      <td>279</td>\n",
       "      <td>Русская Кухня</td>\n",
       "    </tr>\n",
       "    <tr>\n",
       "      <th>137</th>\n",
       "      <td>376</td>\n",
       "      <td>Банкет</td>\n",
       "    </tr>\n",
       "    <tr>\n",
       "      <th>77</th>\n",
       "      <td>294</td>\n",
       "      <td>Паназиатская Кухня</td>\n",
       "    </tr>\n",
       "    <tr>\n",
       "      <th>66</th>\n",
       "      <td>283</td>\n",
       "      <td>Узбекская Кухня</td>\n",
       "    </tr>\n",
       "    <tr>\n",
       "      <th>19</th>\n",
       "      <td>20</td>\n",
       "      <td>Спортивные трансляции</td>\n",
       "    </tr>\n",
       "  </tbody>\n",
       "</table>\n",
       "</div>"
      ],
      "text/plain": [
       "     aspect_id            aspect_name\n",
       "62         279          Русская Кухня\n",
       "137        376                 Банкет\n",
       "77         294     Паназиатская Кухня\n",
       "66         283        Узбекская Кухня\n",
       "19          20  Спортивные трансляции"
      ]
     },
     "execution_count": 5,
     "metadata": {},
     "output_type": "execute_result"
    }
   ],
   "source": [
    "aspects = pd.read_csv('data/aspects.csv')\n",
    "aspects.sample(5)"
   ]
  },
  {
   "cell_type": "markdown",
   "metadata": {},
   "source": [
    "Описание особенностей организаций. Как правило, множество особенностей организации заполняется ее владельцем \n",
    "и может быть неточным."
   ]
  },
  {
   "cell_type": "code",
   "execution_count": 6,
   "metadata": {},
   "outputs": [
    {
     "data": {
      "text/html": [
       "<div>\n",
       "<style scoped>\n",
       "    .dataframe tbody tr th:only-of-type {\n",
       "        vertical-align: middle;\n",
       "    }\n",
       "\n",
       "    .dataframe tbody tr th {\n",
       "        vertical-align: top;\n",
       "    }\n",
       "\n",
       "    .dataframe thead th {\n",
       "        text-align: right;\n",
       "    }\n",
       "</style>\n",
       "<table border=\"1\" class=\"dataframe\">\n",
       "  <thead>\n",
       "    <tr style=\"text-align: right;\">\n",
       "      <th></th>\n",
       "      <th>feature_id</th>\n",
       "      <th>feature_name</th>\n",
       "    </tr>\n",
       "  </thead>\n",
       "  <tbody>\n",
       "    <tr>\n",
       "      <th>9</th>\n",
       "      <td>10428</td>\n",
       "      <td>hall_capacity</td>\n",
       "    </tr>\n",
       "    <tr>\n",
       "      <th>51</th>\n",
       "      <td>3501745827</td>\n",
       "      <td>food_product_delivery</td>\n",
       "    </tr>\n",
       "    <tr>\n",
       "      <th>62</th>\n",
       "      <td>3502010938</td>\n",
       "      <td>wheelchair_accessible</td>\n",
       "    </tr>\n",
       "    <tr>\n",
       "      <th>45</th>\n",
       "      <td>3501539205</td>\n",
       "      <td>vinotheque</td>\n",
       "    </tr>\n",
       "    <tr>\n",
       "      <th>55</th>\n",
       "      <td>3501773763</td>\n",
       "      <td>automatic_door</td>\n",
       "    </tr>\n",
       "  </tbody>\n",
       "</table>\n",
       "</div>"
      ],
      "text/plain": [
       "    feature_id           feature_name\n",
       "9        10428          hall_capacity\n",
       "51  3501745827  food_product_delivery\n",
       "62  3502010938  wheelchair_accessible\n",
       "45  3501539205             vinotheque\n",
       "55  3501773763         automatic_door"
      ]
     },
     "execution_count": 6,
     "metadata": {},
     "output_type": "execute_result"
    }
   ],
   "source": [
    "features = pd.read_csv('data/features.csv')\n",
    "features.sample(5)"
   ]
  },
  {
   "cell_type": "code",
   "execution_count": 150,
   "metadata": {},
   "outputs": [
    {
     "name": "stdout",
     "output_type": "stream",
     "text": [
      "orgs 66405\n"
     ]
    },
    {
     "data": {
      "text/html": [
       "<div>\n",
       "<style scoped>\n",
       "    .dataframe tbody tr th:only-of-type {\n",
       "        vertical-align: middle;\n",
       "    }\n",
       "\n",
       "    .dataframe tbody tr th {\n",
       "        vertical-align: top;\n",
       "    }\n",
       "\n",
       "    .dataframe thead th {\n",
       "        text-align: right;\n",
       "    }\n",
       "</style>\n",
       "<table border=\"1\" class=\"dataframe\">\n",
       "  <thead>\n",
       "    <tr style=\"text-align: right;\">\n",
       "      <th></th>\n",
       "      <th>org_id</th>\n",
       "      <th>city</th>\n",
       "      <th>average_bill</th>\n",
       "      <th>rating</th>\n",
       "      <th>rubrics_id</th>\n",
       "      <th>features_id</th>\n",
       "    </tr>\n",
       "  </thead>\n",
       "  <tbody>\n",
       "    <tr>\n",
       "      <th>0</th>\n",
       "      <td>16848414477362211020</td>\n",
       "      <td>spb</td>\n",
       "      <td>1000.0</td>\n",
       "      <td>4.479702</td>\n",
       "      <td>[30776, 31375]</td>\n",
       "      <td>[1018, 1509, 11177, 11617, 11629, 11704, 11867...</td>\n",
       "    </tr>\n",
       "    <tr>\n",
       "      <th>1</th>\n",
       "      <td>1430604733320164116</td>\n",
       "      <td>spb</td>\n",
       "      <td>1000.0</td>\n",
       "      <td>4.514509</td>\n",
       "      <td>[30776, 30770]</td>\n",
       "      <td>[246, 1018, 11617, 11629, 11704, 11867, 20422,...</td>\n",
       "    </tr>\n",
       "    <tr>\n",
       "      <th>2</th>\n",
       "      <td>9880309324224147401</td>\n",
       "      <td>spb</td>\n",
       "      <td>1000.0</td>\n",
       "      <td>3.884615</td>\n",
       "      <td>[30770, 30774]</td>\n",
       "      <td>[1018, 11177, 11617, 11629, 11704, 11867, 2042...</td>\n",
       "    </tr>\n",
       "    <tr>\n",
       "      <th>3</th>\n",
       "      <td>5617879987171966456</td>\n",
       "      <td>spb</td>\n",
       "      <td>1000.0</td>\n",
       "      <td>NaN</td>\n",
       "      <td>[30774, 30775]</td>\n",
       "      <td>[1018, 1509, 10596, 11177, 11629, 11634, 11704...</td>\n",
       "    </tr>\n",
       "    <tr>\n",
       "      <th>4</th>\n",
       "      <td>5241461680470612149</td>\n",
       "      <td>spb</td>\n",
       "      <td>1000.0</td>\n",
       "      <td>4.532468</td>\n",
       "      <td>[30776]</td>\n",
       "      <td>[1018, 11177, 11617, 11629, 11704, 11867, 2042...</td>\n",
       "    </tr>\n",
       "  </tbody>\n",
       "</table>\n",
       "</div>"
      ],
      "text/plain": [
       "                 org_id city  average_bill    rating      rubrics_id  \\\n",
       "0  16848414477362211020  spb        1000.0  4.479702  [30776, 31375]   \n",
       "1   1430604733320164116  spb        1000.0  4.514509  [30776, 30770]   \n",
       "2   9880309324224147401  spb        1000.0  3.884615  [30770, 30774]   \n",
       "3   5617879987171966456  spb        1000.0       NaN  [30774, 30775]   \n",
       "4   5241461680470612149  spb        1000.0  4.532468         [30776]   \n",
       "\n",
       "                                         features_id  \n",
       "0  [1018, 1509, 11177, 11617, 11629, 11704, 11867...  \n",
       "1  [246, 1018, 11617, 11629, 11704, 11867, 20422,...  \n",
       "2  [1018, 11177, 11617, 11629, 11704, 11867, 2042...  \n",
       "3  [1018, 1509, 10596, 11177, 11629, 11634, 11704...  \n",
       "4  [1018, 11177, 11617, 11629, 11704, 11867, 2042...  "
      ]
     },
     "execution_count": 150,
     "metadata": {},
     "output_type": "execute_result"
    }
   ],
   "source": [
    "orgs = pd.read_csv('data/organisations.csv')\n",
    "print('orgs', len(orgs))\n",
    "columns = ['rubrics_id', 'features_id'] # create lists\n",
    "apply_to_columns(orgs, columns)\n",
    "\n",
    "orgs.head(5)"
   ]
  },
  {
   "cell_type": "markdown",
   "metadata": {},
   "source": [
    "`organisations.csv` - Информация об организациях:\n",
    "\n",
    "* `org_id:` идентификатор организации\n",
    "* `city_id:` город организации\n",
    "* `average_bill:` средний чек в рублях (округленный с точностью до 500 рублей)\n",
    "* `avg_rating:` средний рейтинг (в том числе с учетом не перечисленных в файле reviews.csv отзывов и оценок)\n",
    "* `rubric_id:` рубрика опрганизации\n",
    "* `feature_ids:` набор известных особенностей данной организации."
   ]
  },
  {
   "cell_type": "code",
   "execution_count": 151,
   "metadata": {},
   "outputs": [
    {
     "data": {
      "text/html": [
       "<div>\n",
       "<style scoped>\n",
       "    .dataframe tbody tr th:only-of-type {\n",
       "        vertical-align: middle;\n",
       "    }\n",
       "\n",
       "    .dataframe tbody tr th {\n",
       "        vertical-align: top;\n",
       "    }\n",
       "\n",
       "    .dataframe thead th {\n",
       "        text-align: right;\n",
       "    }\n",
       "</style>\n",
       "<table border=\"1\" class=\"dataframe\">\n",
       "  <thead>\n",
       "    <tr style=\"text-align: right;\">\n",
       "      <th></th>\n",
       "      <th>org_id</th>\n",
       "      <th>city</th>\n",
       "      <th>average_bill</th>\n",
       "      <th>rating</th>\n",
       "      <th>rubrics_id</th>\n",
       "      <th>org_features_id</th>\n",
       "      <th>org_feature_count</th>\n",
       "    </tr>\n",
       "  </thead>\n",
       "  <tbody>\n",
       "    <tr>\n",
       "      <th>12129</th>\n",
       "      <td>8397957854640439951</td>\n",
       "      <td>spb</td>\n",
       "      <td>NaN</td>\n",
       "      <td>5.000000</td>\n",
       "      <td>[30519]</td>\n",
       "      <td>[11177, 11629, 11704, 11867, 273469383, 350161...</td>\n",
       "      <td>6</td>\n",
       "    </tr>\n",
       "    <tr>\n",
       "      <th>7849</th>\n",
       "      <td>10938088155189314887</td>\n",
       "      <td>msk</td>\n",
       "      <td>500.0</td>\n",
       "      <td>4.190000</td>\n",
       "      <td>[30777, 30774]</td>\n",
       "      <td>[1018, 11617, 20422]</td>\n",
       "      <td>3</td>\n",
       "    </tr>\n",
       "    <tr>\n",
       "      <th>51534</th>\n",
       "      <td>16514892677454463859</td>\n",
       "      <td>msk</td>\n",
       "      <td>NaN</td>\n",
       "      <td>4.642857</td>\n",
       "      <td>[30774]</td>\n",
       "      <td>NaN</td>\n",
       "      <td>0</td>\n",
       "    </tr>\n",
       "  </tbody>\n",
       "</table>\n",
       "</div>"
      ],
      "text/plain": [
       "                     org_id city  average_bill    rating      rubrics_id  \\\n",
       "12129   8397957854640439951  spb           NaN  5.000000         [30519]   \n",
       "7849   10938088155189314887  msk         500.0  4.190000  [30777, 30774]   \n",
       "51534  16514892677454463859  msk           NaN  4.642857         [30774]   \n",
       "\n",
       "                                         org_features_id  org_feature_count  \n",
       "12129  [11177, 11629, 11704, 11867, 273469383, 350161...                  6  \n",
       "7849                                [1018, 11617, 20422]                  3  \n",
       "51534                                                NaN                  0  "
      ]
     },
     "execution_count": 151,
     "metadata": {},
     "output_type": "execute_result"
    }
   ],
   "source": [
    "def count_feature(x):\n",
    "    try: return len(x)\n",
    "    except: return 0\n",
    "\n",
    "orgs['feature_count'] = orgs['features_id'].apply(count_feature)\n",
    "orgs.rename(columns = {'feature_count':'org_feature_count',\n",
    "                      'features_id':'org_features_id'}, inplace=True)\n",
    "\n",
    "orgs.sample(3)"
   ]
  },
  {
   "cell_type": "code",
   "execution_count": 152,
   "metadata": {},
   "outputs": [],
   "source": [
    "# orgs.org_feature_count.hist(bins=30)"
   ]
  },
  {
   "cell_type": "code",
   "execution_count": null,
   "metadata": {},
   "outputs": [],
   "source": []
  },
  {
   "cell_type": "code",
   "execution_count": 153,
   "metadata": {},
   "outputs": [],
   "source": [
    "# # orgs.feature_count.hist()\n",
    "# orgs.average_bill.value_counts()"
   ]
  },
  {
   "cell_type": "markdown",
   "metadata": {},
   "source": [
    " "
   ]
  },
  {
   "cell_type": "markdown",
   "metadata": {},
   "source": [
    "Чтобы не делать __join__ каждый раз, когда нам потребуется узнать, из какого города организация или пользователь, сразу добавим эту информацию в отзывы - `reviews.csv` - обучающее множество собрано за `X = 1217` дней, тестовое множество – за последующие `Y = 107` дней.\n",
    "\n",
    "В этом файле дана информация об отзывах и оценках, оставленных некоторым множеством жителей Москвы и Санкт-Петерубрга в течение обучающего периода:\n",
    "\n",
    "* `user_id`: идентификатор пользователя\n",
    "* `org_id`: идентификатор организации\n",
    "* `ts`: время отзыва (в днях от начала обучающего периода)\n",
    "* `rating`: поставленная оценка\n",
    "* `aspect_ids`: набор упомянутых в тексте отзыва аспектов."
   ]
  },
  {
   "cell_type": "code",
   "execution_count": 154,
   "metadata": {},
   "outputs": [
    {
     "name": "stdout",
     "output_type": "stream",
     "text": [
      "Reviews:  3640835\n",
      "Users review:  1252801\n",
      "Ogs review:  66405\n",
      "Приклеим информацию по юзерам\n",
      "Приклеим информацию по организациям\n",
      "Удалим дубли\n",
      "Выброшено дублей:  58038\n"
     ]
    },
    {
     "data": {
      "text/html": [
       "<div>\n",
       "<style scoped>\n",
       "    .dataframe tbody tr th:only-of-type {\n",
       "        vertical-align: middle;\n",
       "    }\n",
       "\n",
       "    .dataframe tbody tr th {\n",
       "        vertical-align: top;\n",
       "    }\n",
       "\n",
       "    .dataframe thead th {\n",
       "        text-align: right;\n",
       "    }\n",
       "</style>\n",
       "<table border=\"1\" class=\"dataframe\">\n",
       "  <thead>\n",
       "    <tr style=\"text-align: right;\">\n",
       "      <th></th>\n",
       "      <th>user_id</th>\n",
       "      <th>org_id</th>\n",
       "      <th>rating</th>\n",
       "      <th>ts</th>\n",
       "      <th>aspects</th>\n",
       "      <th>user_city</th>\n",
       "      <th>org_city</th>\n",
       "      <th>org_rating</th>\n",
       "      <th>org_feature_count</th>\n",
       "      <th>average_bill</th>\n",
       "    </tr>\n",
       "  </thead>\n",
       "  <tbody>\n",
       "    <tr>\n",
       "      <th>1475131</th>\n",
       "      <td>266675283170233630</td>\n",
       "      <td>16696633557167690806</td>\n",
       "      <td>5.0</td>\n",
       "      <td>1164</td>\n",
       "      <td>[7]</td>\n",
       "      <td>msk</td>\n",
       "      <td>msk</td>\n",
       "      <td>3.946685</td>\n",
       "      <td>12</td>\n",
       "      <td>1000.0</td>\n",
       "    </tr>\n",
       "    <tr>\n",
       "      <th>2876364</th>\n",
       "      <td>10444996810724216495</td>\n",
       "      <td>3211406205074298861</td>\n",
       "      <td>2.0</td>\n",
       "      <td>1170</td>\n",
       "      <td>NaN</td>\n",
       "      <td>msk</td>\n",
       "      <td>msk</td>\n",
       "      <td>4.395833</td>\n",
       "      <td>0</td>\n",
       "      <td>NaN</td>\n",
       "    </tr>\n",
       "    <tr>\n",
       "      <th>2349663</th>\n",
       "      <td>17054127033113514606</td>\n",
       "      <td>13225228120465186798</td>\n",
       "      <td>3.0</td>\n",
       "      <td>612</td>\n",
       "      <td>NaN</td>\n",
       "      <td>msk</td>\n",
       "      <td>msk</td>\n",
       "      <td>4.446033</td>\n",
       "      <td>3</td>\n",
       "      <td>NaN</td>\n",
       "    </tr>\n",
       "    <tr>\n",
       "      <th>1973337</th>\n",
       "      <td>17634016419731128869</td>\n",
       "      <td>14114500137164303425</td>\n",
       "      <td>5.0</td>\n",
       "      <td>611</td>\n",
       "      <td>NaN</td>\n",
       "      <td>spb</td>\n",
       "      <td>spb</td>\n",
       "      <td>4.140753</td>\n",
       "      <td>9</td>\n",
       "      <td>NaN</td>\n",
       "    </tr>\n",
       "    <tr>\n",
       "      <th>244158</th>\n",
       "      <td>14499419197861400193</td>\n",
       "      <td>13025842553497468165</td>\n",
       "      <td>5.0</td>\n",
       "      <td>825</td>\n",
       "      <td>NaN</td>\n",
       "      <td>spb</td>\n",
       "      <td>spb</td>\n",
       "      <td>4.336904</td>\n",
       "      <td>10</td>\n",
       "      <td>NaN</td>\n",
       "    </tr>\n",
       "    <tr>\n",
       "      <th>3062886</th>\n",
       "      <td>6188326781478318054</td>\n",
       "      <td>1793775470084163321</td>\n",
       "      <td>4.0</td>\n",
       "      <td>585</td>\n",
       "      <td>NaN</td>\n",
       "      <td>spb</td>\n",
       "      <td>spb</td>\n",
       "      <td>4.360964</td>\n",
       "      <td>9</td>\n",
       "      <td>NaN</td>\n",
       "    </tr>\n",
       "    <tr>\n",
       "      <th>465989</th>\n",
       "      <td>12379504198126656967</td>\n",
       "      <td>3636221534643660721</td>\n",
       "      <td>5.0</td>\n",
       "      <td>380</td>\n",
       "      <td>NaN</td>\n",
       "      <td>msk</td>\n",
       "      <td>msk</td>\n",
       "      <td>4.343353</td>\n",
       "      <td>18</td>\n",
       "      <td>1000.0</td>\n",
       "    </tr>\n",
       "  </tbody>\n",
       "</table>\n",
       "</div>"
      ],
      "text/plain": [
       "                      user_id                org_id  rating    ts aspects  \\\n",
       "1475131    266675283170233630  16696633557167690806     5.0  1164     [7]   \n",
       "2876364  10444996810724216495   3211406205074298861     2.0  1170     NaN   \n",
       "2349663  17054127033113514606  13225228120465186798     3.0   612     NaN   \n",
       "1973337  17634016419731128869  14114500137164303425     5.0   611     NaN   \n",
       "244158   14499419197861400193  13025842553497468165     5.0   825     NaN   \n",
       "3062886   6188326781478318054   1793775470084163321     4.0   585     NaN   \n",
       "465989   12379504198126656967   3636221534643660721     5.0   380     NaN   \n",
       "\n",
       "        user_city org_city  org_rating  org_feature_count  average_bill  \n",
       "1475131       msk      msk    3.946685                 12        1000.0  \n",
       "2876364       msk      msk    4.395833                  0           NaN  \n",
       "2349663       msk      msk    4.446033                  3           NaN  \n",
       "1973337       spb      spb    4.140753                  9           NaN  \n",
       "244158        spb      spb    4.336904                 10           NaN  \n",
       "3062886       spb      spb    4.360964                  9           NaN  \n",
       "465989        msk      msk    4.343353                 18        1000.0  "
      ]
     },
     "execution_count": 154,
     "metadata": {},
     "output_type": "execute_result"
    }
   ],
   "source": [
    "reviews = pd.read_csv('data/reviews.csv', low_memory=False)\n",
    "\n",
    "print('Reviews: ', len(reviews))\n",
    "print('Users review: ', reviews.user_id.nunique())\n",
    "print('Ogs review: ', reviews.org_id.nunique())\n",
    "\n",
    "# encode users ids as numeric\n",
    "print('Приклеим информацию по юзерам')\n",
    "reviews = reviews.merge(users, on='user_id', how='left')\n",
    "reviews = reviews.rename({'city' : 'user_city'}, axis=1)\n",
    "\n",
    "print('Приклеим информацию по организациям')\n",
    "orgs.rename({'rating': 'org_rating'}, axis=1, inplace=True)\n",
    "reviews = reviews.merge(orgs[['org_id', 'city', 'org_rating', 'org_feature_count','average_bill']], on='org_id', how='left') # encode orgs ids as numeric\n",
    "reviews = reviews.rename({'city': 'org_city'}, axis=1)\n",
    "\n",
    "columns = ['aspects'] # create lists\n",
    "apply_to_columns(reviews, columns)\n",
    "\n",
    "print('Удалим дубли')\n",
    "len_before_drop_duplics = len(reviews)\n",
    "reviews.drop_duplicates(['user_id', 'org_id', 'rating', 'ts','user_city', 'org_city'], inplace=True) # Удаляем дубли\n",
    "len_after_drop_duplics = len(reviews)\n",
    "print('Выброшено дублей: ', len_before_drop_duplics - len_after_drop_duplics)\n",
    "\n",
    "reviews.sample(7)"
   ]
  },
  {
   "cell_type": "code",
   "execution_count": 155,
   "metadata": {},
   "outputs": [
    {
     "name": "stdout",
     "output_type": "stream",
     "text": [
      "Добавим фичей\n",
      "Добавим фичей по туристам\n",
      "Добавим фичей по аспектам\n",
      "Добавим фичей популярности по всем пользователям\n"
     ]
    }
   ],
   "source": [
    "print(\"Добавим фичей\")    \n",
    "\n",
    "\n",
    "print('Добавим фичей по туристам')\n",
    "tourist_only = reviews[reviews['org_city'] != reviews['user_city']].copy()\n",
    "tourist_only = tourist_only.groupby(by='org_id', as_index = False).agg(org_tourist_mean_rating = ('rating', 'mean'),\n",
    "                                                                       org_tourist_popularity = ('rating', 'count'))\n",
    "reviews = reviews.merge(tourist_only[['org_id', 'org_tourist_mean_rating', 'org_tourist_popularity']], on='org_id', how='left')\n",
    "#Заполним пропуски по местам, где вообще не было раньше туристов\n",
    "reviews[['org_tourist_mean_rating', 'org_tourist_popularity']] = reviews[['org_tourist_mean_rating', 'org_tourist_popularity']].fillna(0)\n",
    "\n",
    "print('Добавим фичей по аспектам')\n",
    "reviews['aspect_count'] = reviews['aspects'].apply(count_feature)\n",
    "\n",
    "print('Добавим фичей популярности по всем пользователям')\n",
    "popularity = reviews.groupby(by='org_id', as_index = False).agg(org_popularity = ('user_id', 'count'),\n",
    "                                                               org_rating_agg = ('rating', 'mean'),\n",
    "                                                               org_aspect_mean = ('aspect_count', 'mean'))\n",
    "reviews = reviews.merge(popularity[['org_id', 'org_popularity','org_rating_agg','org_aspect_mean']], on='org_id', how='left') # encode orgs ids as numeric\n",
    "activity = reviews.groupby(by='user_id', as_index = False).agg(\n",
    "    user_mean_rating = ('rating', 'mean'),\n",
    "    user_review_activity = ('rating', 'count'),\n",
    "    user_aspect_activity = ('aspect_count', 'sum'))\n",
    "reviews = reviews.merge(activity[['user_id', 'user_mean_rating',\n",
    "                                  'user_review_activity', 'user_aspect_activity']], on='user_id', how='left') # encode orgs ids as numeric\n",
    "\n",
    "reviews.sort_values(by=['org_popularity', 'org_feature_count', 'org_rating', 'org_rating_agg', 'aspect_count', 'org_aspect_mean'], inplace=True, ascending=False)\n",
    "reviews.head(5)\n",
    "\n",
    "del popularity, activity, tourist_only"
   ]
  },
  {
   "cell_type": "markdown",
   "metadata": {},
   "source": [
    "**Отлично, теперь с отзывами будет удобно работать.**  Посмотрим на распределение новых отзывов по дням, чтобы понять, как лучше организовать валидацию. "
   ]
  },
  {
   "cell_type": "code",
   "execution_count": 163,
   "metadata": {},
   "outputs": [
    {
     "data": {
      "text/html": [
       "<div>\n",
       "<style scoped>\n",
       "    .dataframe tbody tr th:only-of-type {\n",
       "        vertical-align: middle;\n",
       "    }\n",
       "\n",
       "    .dataframe tbody tr th {\n",
       "        vertical-align: top;\n",
       "    }\n",
       "\n",
       "    .dataframe thead th {\n",
       "        text-align: right;\n",
       "    }\n",
       "</style>\n",
       "<table border=\"1\" class=\"dataframe\">\n",
       "  <thead>\n",
       "    <tr style=\"text-align: right;\">\n",
       "      <th></th>\n",
       "      <th>user_id</th>\n",
       "      <th>org_id</th>\n",
       "      <th>rating</th>\n",
       "      <th>ts</th>\n",
       "      <th>aspects</th>\n",
       "      <th>user_city</th>\n",
       "      <th>org_city</th>\n",
       "      <th>org_rating</th>\n",
       "      <th>org_feature_count</th>\n",
       "      <th>average_bill</th>\n",
       "      <th>org_tourist_mean_rating</th>\n",
       "      <th>org_tourist_popularity</th>\n",
       "      <th>aspect_count</th>\n",
       "      <th>org_popularity</th>\n",
       "      <th>org_rating_agg</th>\n",
       "      <th>org_aspect_mean</th>\n",
       "      <th>user_mean_rating</th>\n",
       "      <th>user_review_activity</th>\n",
       "      <th>user_aspect_activity</th>\n",
       "    </tr>\n",
       "  </thead>\n",
       "  <tbody>\n",
       "    <tr>\n",
       "      <th>3218939</th>\n",
       "      <td>9577943789262093074</td>\n",
       "      <td>4008472015869315090</td>\n",
       "      <td>5.0</td>\n",
       "      <td>949</td>\n",
       "      <td>NaN</td>\n",
       "      <td>msk</td>\n",
       "      <td>msk</td>\n",
       "      <td>4.193825</td>\n",
       "      <td>10</td>\n",
       "      <td>500.0</td>\n",
       "      <td>3.750000</td>\n",
       "      <td>4.0</td>\n",
       "      <td>0</td>\n",
       "      <td>324</td>\n",
       "      <td>4.243827</td>\n",
       "      <td>0.314815</td>\n",
       "      <td>4.866667</td>\n",
       "      <td>15</td>\n",
       "      <td>3</td>\n",
       "    </tr>\n",
       "    <tr>\n",
       "      <th>14083</th>\n",
       "      <td>7655352102409070275</td>\n",
       "      <td>8877628355418324137</td>\n",
       "      <td>5.0</td>\n",
       "      <td>503</td>\n",
       "      <td>NaN</td>\n",
       "      <td>msk</td>\n",
       "      <td>spb</td>\n",
       "      <td>4.198259</td>\n",
       "      <td>5</td>\n",
       "      <td>500.0</td>\n",
       "      <td>4.333333</td>\n",
       "      <td>75.0</td>\n",
       "      <td>0</td>\n",
       "      <td>406</td>\n",
       "      <td>4.140394</td>\n",
       "      <td>0.133005</td>\n",
       "      <td>5.000000</td>\n",
       "      <td>1</td>\n",
       "      <td>0</td>\n",
       "    </tr>\n",
       "    <tr>\n",
       "      <th>2053605</th>\n",
       "      <td>5504031695685006779</td>\n",
       "      <td>9072877885475050764</td>\n",
       "      <td>1.0</td>\n",
       "      <td>665</td>\n",
       "      <td>NaN</td>\n",
       "      <td>msk</td>\n",
       "      <td>msk</td>\n",
       "      <td>3.976471</td>\n",
       "      <td>4</td>\n",
       "      <td>NaN</td>\n",
       "      <td>0.000000</td>\n",
       "      <td>0.0</td>\n",
       "      <td>0</td>\n",
       "      <td>45</td>\n",
       "      <td>3.888889</td>\n",
       "      <td>0.777778</td>\n",
       "      <td>1.000000</td>\n",
       "      <td>1</td>\n",
       "      <td>0</td>\n",
       "    </tr>\n",
       "    <tr>\n",
       "      <th>669369</th>\n",
       "      <td>1780399877470594425</td>\n",
       "      <td>14569355903647645386</td>\n",
       "      <td>3.0</td>\n",
       "      <td>795</td>\n",
       "      <td>NaN</td>\n",
       "      <td>msk</td>\n",
       "      <td>msk</td>\n",
       "      <td>4.190923</td>\n",
       "      <td>12</td>\n",
       "      <td>1000.0</td>\n",
       "      <td>4.583333</td>\n",
       "      <td>12.0</td>\n",
       "      <td>0</td>\n",
       "      <td>383</td>\n",
       "      <td>4.156658</td>\n",
       "      <td>0.462141</td>\n",
       "      <td>3.888889</td>\n",
       "      <td>9</td>\n",
       "      <td>0</td>\n",
       "    </tr>\n",
       "    <tr>\n",
       "      <th>3235855</th>\n",
       "      <td>1466483782255012489</td>\n",
       "      <td>6848688350703886248</td>\n",
       "      <td>4.0</td>\n",
       "      <td>741</td>\n",
       "      <td>NaN</td>\n",
       "      <td>spb</td>\n",
       "      <td>spb</td>\n",
       "      <td>4.505340</td>\n",
       "      <td>11</td>\n",
       "      <td>1000.0</td>\n",
       "      <td>4.641026</td>\n",
       "      <td>39.0</td>\n",
       "      <td>0</td>\n",
       "      <td>2069</td>\n",
       "      <td>4.517892</td>\n",
       "      <td>0.325278</td>\n",
       "      <td>4.727273</td>\n",
       "      <td>11</td>\n",
       "      <td>3</td>\n",
       "    </tr>\n",
       "    <tr>\n",
       "      <th>2567855</th>\n",
       "      <td>2361037119629062480</td>\n",
       "      <td>13573322486152844808</td>\n",
       "      <td>5.0</td>\n",
       "      <td>669</td>\n",
       "      <td>NaN</td>\n",
       "      <td>msk</td>\n",
       "      <td>msk</td>\n",
       "      <td>NaN</td>\n",
       "      <td>3</td>\n",
       "      <td>NaN</td>\n",
       "      <td>4.734286</td>\n",
       "      <td>350.0</td>\n",
       "      <td>0</td>\n",
       "      <td>21502</td>\n",
       "      <td>4.699465</td>\n",
       "      <td>0.028555</td>\n",
       "      <td>5.000000</td>\n",
       "      <td>1</td>\n",
       "      <td>0</td>\n",
       "    </tr>\n",
       "    <tr>\n",
       "      <th>1976846</th>\n",
       "      <td>1041129642990352262</td>\n",
       "      <td>8334705288682517030</td>\n",
       "      <td>5.0</td>\n",
       "      <td>629</td>\n",
       "      <td>NaN</td>\n",
       "      <td>spb</td>\n",
       "      <td>spb</td>\n",
       "      <td>4.222892</td>\n",
       "      <td>28</td>\n",
       "      <td>500.0</td>\n",
       "      <td>4.266667</td>\n",
       "      <td>30.0</td>\n",
       "      <td>0</td>\n",
       "      <td>194</td>\n",
       "      <td>4.206186</td>\n",
       "      <td>0.479381</td>\n",
       "      <td>3.500000</td>\n",
       "      <td>2</td>\n",
       "      <td>2</td>\n",
       "    </tr>\n",
       "    <tr>\n",
       "      <th>2583307</th>\n",
       "      <td>13712302282481243757</td>\n",
       "      <td>13573322486152844808</td>\n",
       "      <td>5.0</td>\n",
       "      <td>633</td>\n",
       "      <td>NaN</td>\n",
       "      <td>msk</td>\n",
       "      <td>msk</td>\n",
       "      <td>NaN</td>\n",
       "      <td>3</td>\n",
       "      <td>NaN</td>\n",
       "      <td>4.734286</td>\n",
       "      <td>350.0</td>\n",
       "      <td>0</td>\n",
       "      <td>21502</td>\n",
       "      <td>4.699465</td>\n",
       "      <td>0.028555</td>\n",
       "      <td>4.666667</td>\n",
       "      <td>3</td>\n",
       "      <td>0</td>\n",
       "    </tr>\n",
       "    <tr>\n",
       "      <th>322934</th>\n",
       "      <td>5119703794116638843</td>\n",
       "      <td>1397149796097415274</td>\n",
       "      <td>5.0</td>\n",
       "      <td>542</td>\n",
       "      <td>NaN</td>\n",
       "      <td>msk</td>\n",
       "      <td>msk</td>\n",
       "      <td>3.945946</td>\n",
       "      <td>8</td>\n",
       "      <td>500.0</td>\n",
       "      <td>0.000000</td>\n",
       "      <td>0.0</td>\n",
       "      <td>0</td>\n",
       "      <td>19</td>\n",
       "      <td>3.736842</td>\n",
       "      <td>0.263158</td>\n",
       "      <td>3.666667</td>\n",
       "      <td>3</td>\n",
       "      <td>2</td>\n",
       "    </tr>\n",
       "    <tr>\n",
       "      <th>74250</th>\n",
       "      <td>3624436884452551248</td>\n",
       "      <td>1793775470084163321</td>\n",
       "      <td>4.0</td>\n",
       "      <td>1209</td>\n",
       "      <td>NaN</td>\n",
       "      <td>spb</td>\n",
       "      <td>spb</td>\n",
       "      <td>4.360964</td>\n",
       "      <td>9</td>\n",
       "      <td>NaN</td>\n",
       "      <td>4.448454</td>\n",
       "      <td>194.0</td>\n",
       "      <td>0</td>\n",
       "      <td>4293</td>\n",
       "      <td>4.304824</td>\n",
       "      <td>0.000000</td>\n",
       "      <td>3.666667</td>\n",
       "      <td>3</td>\n",
       "      <td>0</td>\n",
       "    </tr>\n",
       "  </tbody>\n",
       "</table>\n",
       "</div>"
      ],
      "text/plain": [
       "                      user_id                org_id  rating    ts aspects  \\\n",
       "3218939   9577943789262093074   4008472015869315090     5.0   949     NaN   \n",
       "14083     7655352102409070275   8877628355418324137     5.0   503     NaN   \n",
       "2053605   5504031695685006779   9072877885475050764     1.0   665     NaN   \n",
       "669369    1780399877470594425  14569355903647645386     3.0   795     NaN   \n",
       "3235855   1466483782255012489   6848688350703886248     4.0   741     NaN   \n",
       "2567855   2361037119629062480  13573322486152844808     5.0   669     NaN   \n",
       "1976846   1041129642990352262   8334705288682517030     5.0   629     NaN   \n",
       "2583307  13712302282481243757  13573322486152844808     5.0   633     NaN   \n",
       "322934    5119703794116638843   1397149796097415274     5.0   542     NaN   \n",
       "74250     3624436884452551248   1793775470084163321     4.0  1209     NaN   \n",
       "\n",
       "        user_city org_city  org_rating  org_feature_count  average_bill  \\\n",
       "3218939       msk      msk    4.193825                 10         500.0   \n",
       "14083         msk      spb    4.198259                  5         500.0   \n",
       "2053605       msk      msk    3.976471                  4           NaN   \n",
       "669369        msk      msk    4.190923                 12        1000.0   \n",
       "3235855       spb      spb    4.505340                 11        1000.0   \n",
       "2567855       msk      msk         NaN                  3           NaN   \n",
       "1976846       spb      spb    4.222892                 28         500.0   \n",
       "2583307       msk      msk         NaN                  3           NaN   \n",
       "322934        msk      msk    3.945946                  8         500.0   \n",
       "74250         spb      spb    4.360964                  9           NaN   \n",
       "\n",
       "         org_tourist_mean_rating  org_tourist_popularity  aspect_count  \\\n",
       "3218939                 3.750000                     4.0             0   \n",
       "14083                   4.333333                    75.0             0   \n",
       "2053605                 0.000000                     0.0             0   \n",
       "669369                  4.583333                    12.0             0   \n",
       "3235855                 4.641026                    39.0             0   \n",
       "2567855                 4.734286                   350.0             0   \n",
       "1976846                 4.266667                    30.0             0   \n",
       "2583307                 4.734286                   350.0             0   \n",
       "322934                  0.000000                     0.0             0   \n",
       "74250                   4.448454                   194.0             0   \n",
       "\n",
       "         org_popularity  org_rating_agg  org_aspect_mean  user_mean_rating  \\\n",
       "3218939             324        4.243827         0.314815          4.866667   \n",
       "14083               406        4.140394         0.133005          5.000000   \n",
       "2053605              45        3.888889         0.777778          1.000000   \n",
       "669369              383        4.156658         0.462141          3.888889   \n",
       "3235855            2069        4.517892         0.325278          4.727273   \n",
       "2567855           21502        4.699465         0.028555          5.000000   \n",
       "1976846             194        4.206186         0.479381          3.500000   \n",
       "2583307           21502        4.699465         0.028555          4.666667   \n",
       "322934               19        3.736842         0.263158          3.666667   \n",
       "74250              4293        4.304824         0.000000          3.666667   \n",
       "\n",
       "         user_review_activity  user_aspect_activity  \n",
       "3218939                    15                     3  \n",
       "14083                       1                     0  \n",
       "2053605                     1                     0  \n",
       "669369                      9                     0  \n",
       "3235855                    11                     3  \n",
       "2567855                     1                     0  \n",
       "1976846                     2                     2  \n",
       "2583307                     3                     0  \n",
       "322934                      3                     2  \n",
       "74250                       3                     0  "
      ]
     },
     "execution_count": 163,
     "metadata": {},
     "output_type": "execute_result"
    }
   ],
   "source": [
    "reviews.sample(10)"
   ]
  },
  {
   "cell_type": "code",
   "execution_count": 164,
   "metadata": {},
   "outputs": [],
   "source": [
    "# cor_mat = reviews.corr()\n",
    "# sns.heatmap(cor_mat, square=True)"
   ]
  },
  {
   "cell_type": "code",
   "execution_count": 165,
   "metadata": {},
   "outputs": [
    {
     "name": "stdout",
     "output_type": "stream",
     "text": [
      "Index(['user_id', 'org_id', 'rating', 'ts', 'aspects', 'user_city', 'org_city',\n",
      "       'org_rating', 'org_feature_count', 'average_bill',\n",
      "       'org_tourist_mean_rating', 'org_tourist_popularity', 'aspect_count',\n",
      "       'org_popularity', 'org_rating_agg', 'org_aspect_mean',\n",
      "       'user_mean_rating', 'user_review_activity', 'user_aspect_activity'],\n",
      "      dtype='object')\n"
     ]
    }
   ],
   "source": [
    "print(reviews.columns) # org_rating_agg user_mean_rating org_rating"
   ]
  },
  {
   "cell_type": "code",
   "execution_count": 159,
   "metadata": {},
   "outputs": [
    {
     "data": {
      "image/png": "[encoded data removed]",
      "text/plain": [
       "<Figure size 576x576 with 1 Axes>"
      ]
     },
     "metadata": {
      "needs_background": "light"
     },
     "output_type": "display_data"
    }
   ],
   "source": [
    "sns.displot(data=reviews, x='ts', height=8)\n",
    "plt.title('Распределение отзывов по дням')\n",
    "plt.show()"
   ]
  },
  {
   "cell_type": "markdown",
   "metadata": {},
   "source": [
    "# Train-test split"
   ]
  },
  {
   "cell_type": "code",
   "execution_count": 160,
   "metadata": {},
   "outputs": [],
   "source": [
    "from func import clear_df, extract_unique, count_unique, filter_reviews, train_test_split, process_reviews"
   ]
  },
  {
   "cell_type": "code",
   "execution_count": 161,
   "metadata": {},
   "outputs": [
    {
     "name": "stdout",
     "output_type": "stream",
     "text": [
      "Дней 1216\n"
     ]
    }
   ],
   "source": [
    "print('Дней', reviews['ts'].max())"
   ]
  },
  {
   "cell_type": "markdown",
   "metadata": {},
   "source": [
    "**Всего в выборку попали отызывы за 1216 дней.**  Отложим в тестовую выборку отзывы за последние **100** дней."
   ]
  },
  {
   "cell_type": "code",
   "execution_count": 162,
   "metadata": {},
   "outputs": [],
   "source": [
    "train_reviews, test_reviews = train_test_split(reviews, 1116)\n",
    "X_test, y_test = process_reviews(test_reviews)"
   ]
  },
  {
   "cell_type": "markdown",
   "metadata": {},
   "source": [
    "Посмотрим, сколько всего уникальных пользователей попало в эту тестовую выборку:"
   ]
  },
  {
   "cell_type": "code",
   "execution_count": 20,
   "metadata": {},
   "outputs": [
    {
     "data": {
      "text/plain": [
       "12044"
      ]
     },
     "execution_count": 20,
     "metadata": {},
     "output_type": "execute_result"
    }
   ],
   "source": [
    "len(X_test)"
   ]
  },
  {
   "cell_type": "markdown",
   "metadata": {},
   "source": [
    "# Метрика"
   ]
  },
  {
   "cell_type": "markdown",
   "metadata": {},
   "source": [
    "Метрика принимает на вход два DataFrame, имеющих такую же структуру, как и **y_test**. `print_score` домножает реальное значение метрики на `100` так же, как и в контесте. Подобная имплементация используется для оценки **submission**."
   ]
  },
  {
   "cell_type": "code",
   "execution_count": 21,
   "metadata": {},
   "outputs": [],
   "source": [
    "from func import MNAP, print_score"
   ]
  },
  {
   "cell_type": "code",
   "execution_count": 22,
   "metadata": {},
   "outputs": [],
   "source": [
    "N = 20\n",
    "MNAP_N = MNAP(N)"
   ]
  },
  {
   "cell_type": "markdown",
   "metadata": {},
   "source": [
    "# Подходы без машинного обучения"
   ]
  },
  {
   "cell_type": "code",
   "execution_count": 56,
   "metadata": {},
   "outputs": [],
   "source": [
    "spb_orgs = orgs[orgs['city'] == 'spb']['org_id']\n",
    "msk_orgs = orgs[orgs['city'] == 'msk']['org_id']\n",
    "test_users_with_locations = X_test.merge(users, on='user_id')"
   ]
  },
  {
   "cell_type": "markdown",
   "metadata": {},
   "source": [
    "## N самых популярных мест"
   ]
  },
  {
   "cell_type": "markdown",
   "metadata": {},
   "source": [
    "Предыдущий подход, очевидно, не очень удачно предсказывает, какие места посетит пользователей. \n",
    "\n",
    "Попробуем улучшить стратегию: будем предлагать пользователям самые популярные места, то есть те, на которые оставлено больше всего отзывов. "
   ]
  },
  {
   "cell_type": "code",
   "execution_count": 23,
   "metadata": {},
   "outputs": [],
   "source": [
    "msk_orgs = train_reviews[(train_reviews['rating'] >= 4) & (train_reviews['org_city'] == 'msk')]['org_id']\n",
    "msk_orgs = msk_orgs.value_counts().index[:N].to_list()\n",
    "\n",
    "spb_orgs = train_reviews[(train_reviews['rating'] >= 4) & (train_reviews['org_city'] == 'spb')]['org_id']\n",
    "spb_orgs = spb_orgs.value_counts().index[:N].to_list()"
   ]
  },
  {
   "cell_type": "code",
   "execution_count": 24,
   "metadata": {},
   "outputs": [
    {
     "name": "stdout",
     "output_type": "stream",
     "text": [
      "Score: 4.24\n"
     ]
    }
   ],
   "source": [
    "choose = lambda x: spb_orgs if x['city'] == 'msk' else msk_orgs\n",
    "target = test_users_with_locations.apply(choose, axis=1)\n",
    "\n",
    "predictions = X_test.copy()\n",
    "predictions['target'] = target\n",
    "\n",
    "print_score(MNAP_N(y_test, predictions))"
   ]
  },
  {
   "cell_type": "markdown",
   "metadata": {},
   "source": [
    "Отлично, метрика немного улучшилась. Но стоит попробовать доработать эту тактику. "
   ]
  },
  {
   "cell_type": "markdown",
   "metadata": {},
   "source": [
    "## N самых популярных мест среди туристов"
   ]
  },
  {
   "cell_type": "code",
   "execution_count": 25,
   "metadata": {},
   "outputs": [],
   "source": [
    "tourist_reviews = train_reviews[train_reviews['rating'] >= 4.0]\n",
    "\n",
    "# набор отзывов только от туристов\n",
    "tourist_reviews = tourist_reviews[tourist_reviews['user_city'] != tourist_reviews['org_city']]\n",
    "\n",
    "# выбираем самые популярные места среди туристов из Москвы и Питера\n",
    "msk_orgs = tourist_reviews[tourist_reviews['org_city'] == 'msk']['org_id']\n",
    "msk_orgs = msk_orgs.value_counts().index[:N].to_list()\n",
    "\n",
    "spb_orgs = tourist_reviews[tourist_reviews['org_city'] == 'spb']['org_id']\n",
    "spb_orgs = spb_orgs.value_counts().index[:N].to_list()"
   ]
  },
  {
   "cell_type": "code",
   "execution_count": 26,
   "metadata": {},
   "outputs": [
    {
     "name": "stdout",
     "output_type": "stream",
     "text": [
      "Score: 6.44\n"
     ]
    }
   ],
   "source": [
    "choose = lambda x: spb_orgs if x['city'] == 'msk' else msk_orgs\n",
    "target = test_users_with_locations.apply(choose, axis=1)\n",
    "\n",
    "predictions = X_test.copy()\n",
    "predictions['target'] = target\n",
    "\n",
    "print_score(MNAP_N(y_test, predictions))"
   ]
  },
  {
   "cell_type": "markdown",
   "metadata": {},
   "source": [
    "Метрика улучшилась ещё!"
   ]
  },
  {
   "cell_type": "code",
   "execution_count": 27,
   "metadata": {},
   "outputs": [
    {
     "data": {
      "text/plain": [
       "<AxesSubplot:>"
      ]
     },
     "execution_count": 27,
     "metadata": {},
     "output_type": "execute_result"
    },
    {
     "data": {
      "image/png": "[encoded data removed]",
      "text/plain": [
       "<Figure size 432x288 with 1 Axes>"
      ]
     },
     "metadata": {
      "needs_background": "light"
     },
     "output_type": "display_data"
    }
   ],
   "source": [
    "reviews.org_feature_count.hist()"
   ]
  },
  {
   "cell_type": "markdown",
   "metadata": {},
   "source": [
    "## N самых популярных мест среди туристов с учетом оценки заведения"
   ]
  },
  {
   "cell_type": "code",
   "execution_count": 212,
   "metadata": {},
   "outputs": [],
   "source": [
    "tourist_reviews = train_reviews[(train_reviews['rating'] >= 4.0) & (train_reviews['org_rating'] >=  4.1)\n",
    "                               & (train_reviews['user_mean_rating'] >=  4)]\n",
    "  \n",
    "     \n",
    "    \n",
    "# org_rating_agg user_mean_rating org_rating\n",
    "# набор отзывов только от туристов\n",
    "tourist_reviews = tourist_reviews[tourist_reviews['user_city'] != tourist_reviews['org_city']]\n",
    "\n",
    "# выбираем самые популярные места среди туристов из Москвы и Питера\n",
    "msk_orgs = tourist_reviews[tourist_reviews['org_city'] == 'msk']['org_id']\n",
    "msk_orgs = msk_orgs.value_counts().index[:N].to_list()\n",
    "\n",
    "spb_orgs = tourist_reviews[tourist_reviews['org_city'] == 'spb']['org_id']\n",
    "spb_orgs = spb_orgs.value_counts().index[:N].to_list()"
   ]
  },
  {
   "cell_type": "code",
   "execution_count": 213,
   "metadata": {},
   "outputs": [
    {
     "name": "stdout",
     "output_type": "stream",
     "text": [
      "Score: 6.52\n"
     ]
    }
   ],
   "source": [
    "choose = lambda x: spb_orgs if x['city'] == 'msk' else msk_orgs\n",
    "target = test_users_with_locations.apply(choose, axis=1)\n",
    "\n",
    "predictions = X_test.copy()\n",
    "predictions['target'] = target\n",
    "\n",
    "print_score(MNAP_N(y_test, predictions))"
   ]
  },
  {
   "cell_type": "markdown",
   "metadata": {},
   "source": [
    "Метрика улучшилась ещё немного."
   ]
  },
  {
   "cell_type": "markdown",
   "metadata": {},
   "source": [
    "## N / rubrics_count самых популярных мест из каждой рубрики"
   ]
  },
  {
   "cell_type": "code",
   "execution_count": 30,
   "metadata": {},
   "outputs": [],
   "source": [
    "from func import extract_top_by_rubrics"
   ]
  },
  {
   "cell_type": "code",
   "execution_count": 31,
   "metadata": {},
   "outputs": [
    {
     "data": {
      "text/html": [
       "<div>\n",
       "<style scoped>\n",
       "    .dataframe tbody tr th:only-of-type {\n",
       "        vertical-align: middle;\n",
       "    }\n",
       "\n",
       "    .dataframe tbody tr th {\n",
       "        vertical-align: top;\n",
       "    }\n",
       "\n",
       "    .dataframe thead th {\n",
       "        text-align: right;\n",
       "    }\n",
       "</style>\n",
       "<table border=\"1\" class=\"dataframe\">\n",
       "  <thead>\n",
       "    <tr style=\"text-align: right;\">\n",
       "      <th></th>\n",
       "      <th>org_id</th>\n",
       "      <th>city</th>\n",
       "      <th>average_bill</th>\n",
       "      <th>org_rating</th>\n",
       "      <th>rubrics_id</th>\n",
       "      <th>features_id</th>\n",
       "      <th>org_feature_count</th>\n",
       "    </tr>\n",
       "  </thead>\n",
       "  <tbody>\n",
       "    <tr>\n",
       "      <th>0</th>\n",
       "      <td>16848414477362211020</td>\n",
       "      <td>spb</td>\n",
       "      <td>1000.0</td>\n",
       "      <td>4.479702</td>\n",
       "      <td>[30776, 31375]</td>\n",
       "      <td>[1018, 1509, 11177, 11617, 11629, 11704, 11867...</td>\n",
       "      <td>11</td>\n",
       "    </tr>\n",
       "    <tr>\n",
       "      <th>1</th>\n",
       "      <td>1430604733320164116</td>\n",
       "      <td>spb</td>\n",
       "      <td>1000.0</td>\n",
       "      <td>4.514509</td>\n",
       "      <td>[30776, 30770]</td>\n",
       "      <td>[246, 1018, 11617, 11629, 11704, 11867, 20422,...</td>\n",
       "      <td>10</td>\n",
       "    </tr>\n",
       "  </tbody>\n",
       "</table>\n",
       "</div>"
      ],
      "text/plain": [
       "                 org_id city  average_bill  org_rating      rubrics_id  \\\n",
       "0  16848414477362211020  spb        1000.0    4.479702  [30776, 31375]   \n",
       "1   1430604733320164116  spb        1000.0    4.514509  [30776, 30770]   \n",
       "\n",
       "                                         features_id  org_feature_count  \n",
       "0  [1018, 1509, 11177, 11617, 11629, 11704, 11867...                 11  \n",
       "1  [246, 1018, 11617, 11629, 11704, 11867, 20422,...                 10  "
      ]
     },
     "execution_count": 31,
     "metadata": {},
     "output_type": "execute_result"
    }
   ],
   "source": [
    "orgs.head(2)"
   ]
  },
  {
   "cell_type": "code",
   "execution_count": 49,
   "metadata": {},
   "outputs": [
    {
     "data": {
      "text/html": [
       "<div>\n",
       "<style scoped>\n",
       "    .dataframe tbody tr th:only-of-type {\n",
       "        vertical-align: middle;\n",
       "    }\n",
       "\n",
       "    .dataframe tbody tr th {\n",
       "        vertical-align: top;\n",
       "    }\n",
       "\n",
       "    .dataframe thead th {\n",
       "        text-align: right;\n",
       "    }\n",
       "</style>\n",
       "<table border=\"1\" class=\"dataframe\">\n",
       "  <thead>\n",
       "    <tr style=\"text-align: right;\">\n",
       "      <th></th>\n",
       "      <th>org_id</th>\n",
       "      <th>rubrics_id</th>\n",
       "    </tr>\n",
       "  </thead>\n",
       "  <tbody>\n",
       "    <tr>\n",
       "      <th>0</th>\n",
       "      <td>9104453017196776235</td>\n",
       "      <td>[31495, 30774]</td>\n",
       "    </tr>\n",
       "    <tr>\n",
       "      <th>1</th>\n",
       "      <td>9104453017196776235</td>\n",
       "      <td>[31495, 30774]</td>\n",
       "    </tr>\n",
       "    <tr>\n",
       "      <th>2</th>\n",
       "      <td>9104453017196776235</td>\n",
       "      <td>[31495, 30774]</td>\n",
       "    </tr>\n",
       "    <tr>\n",
       "      <th>3</th>\n",
       "      <td>9104453017196776235</td>\n",
       "      <td>[31495, 30774]</td>\n",
       "    </tr>\n",
       "    <tr>\n",
       "      <th>4</th>\n",
       "      <td>9104453017196776235</td>\n",
       "      <td>[31495, 30774]</td>\n",
       "    </tr>\n",
       "    <tr>\n",
       "      <th>...</th>\n",
       "      <td>...</td>\n",
       "      <td>...</td>\n",
       "    </tr>\n",
       "    <tr>\n",
       "      <th>3582792</th>\n",
       "      <td>10528864831168312063</td>\n",
       "      <td>[30775]</td>\n",
       "    </tr>\n",
       "    <tr>\n",
       "      <th>3582793</th>\n",
       "      <td>10743345342945927825</td>\n",
       "      <td>[30776, 30775]</td>\n",
       "    </tr>\n",
       "    <tr>\n",
       "      <th>3582794</th>\n",
       "      <td>15416008873049229749</td>\n",
       "      <td>[30771]</td>\n",
       "    </tr>\n",
       "    <tr>\n",
       "      <th>3582795</th>\n",
       "      <td>9536174753219613502</td>\n",
       "      <td>[30776]</td>\n",
       "    </tr>\n",
       "    <tr>\n",
       "      <th>3582796</th>\n",
       "      <td>12278544804805634929</td>\n",
       "      <td>[30774, 30771, 30776, 31375]</td>\n",
       "    </tr>\n",
       "  </tbody>\n",
       "</table>\n",
       "<p>3582797 rows × 2 columns</p>\n",
       "</div>"
      ],
      "text/plain": [
       "                       org_id                    rubrics_id\n",
       "0         9104453017196776235                [31495, 30774]\n",
       "1         9104453017196776235                [31495, 30774]\n",
       "2         9104453017196776235                [31495, 30774]\n",
       "3         9104453017196776235                [31495, 30774]\n",
       "4         9104453017196776235                [31495, 30774]\n",
       "...                       ...                           ...\n",
       "3582792  10528864831168312063                       [30775]\n",
       "3582793  10743345342945927825                [30776, 30775]\n",
       "3582794  15416008873049229749                       [30771]\n",
       "3582795   9536174753219613502                       [30776]\n",
       "3582796  12278544804805634929  [30774, 30771, 30776, 31375]\n",
       "\n",
       "[3582797 rows x 2 columns]"
      ]
     },
     "execution_count": 49,
     "metadata": {},
     "output_type": "execute_result"
    }
   ],
   "source": [
    "# reviews_ = reviews.merge(orgs, on='org_id')[['org_id', 'rubrics_id']]\n",
    "# reviews_"
   ]
  },
  {
   "cell_type": "code",
   "execution_count": null,
   "metadata": {},
   "outputs": [],
   "source": [
    "# reviews_ = reviews_.explode('rubrics_id')#.groupby('rubrics_id').size()"
   ]
  },
  {
   "cell_type": "code",
   "execution_count": 62,
   "metadata": {},
   "outputs": [],
   "source": [
    "# reviews_.groupby('rubrics_id').size()"
   ]
  },
  {
   "cell_type": "code",
   "execution_count": null,
   "metadata": {},
   "outputs": [],
   "source": []
  },
  {
   "cell_type": "code",
   "execution_count": 45,
   "metadata": {},
   "outputs": [
    {
     "name": "stdout",
     "output_type": "stream",
     "text": [
      "Empty DataFrame\n",
      "Columns: [rubric_id, 0]\n",
      "Index: []\n",
      "Empty DataFrame\n",
      "Columns: [rubric_id, 0]\n",
      "Index: []\n"
     ]
    }
   ],
   "source": [
    "msk_orgs = extract_top_by_rubrics(orgs, tourist_reviews[tourist_reviews['org_city'] == 'msk'], N, print_rubrics=True)\n",
    "spb_orgs = extract_top_by_rubrics(orgs, tourist_reviews[tourist_reviews['org_city'] == 'spb'], N, print_rubrics=True)"
   ]
  },
  {
   "cell_type": "code",
   "execution_count": 35,
   "metadata": {},
   "outputs": [
    {
     "name": "stdout",
     "output_type": "stream",
     "text": [
      "Score: 5.74\n"
     ]
    }
   ],
   "source": [
    "choose = lambda x: spb_orgs if x['city'] == 'msk' else msk_orgs\n",
    "target = test_users_with_locations.apply(choose, axis=1)\n",
    "\n",
    "predictions = X_test.copy()\n",
    "predictions['target'] = target\n",
    "\n",
    "print_score(MNAP_N(y_test, predictions))"
   ]
  },
  {
   "cell_type": "markdown",
   "metadata": {},
   "source": [
    "# Время ML! Коллаборативная фильтрация"
   ]
  },
  {
   "cell_type": "markdown",
   "metadata": {},
   "source": [
    "## Memory-based\n",
    "\n",
    "Для этой группы методов требуется явное построение матрицы __пользователь-организация__ (__interaction matrix__), где на пересечении `i`-ой строки и `j`-ого столбца будет рейтинг, который `i`-ый пользователь выставил `j`-ой организации или же пропуск, если рейтинг не был установлен. "
   ]
  },
  {
   "cell_type": "code",
   "execution_count": 36,
   "metadata": {},
   "outputs": [],
   "source": [
    "from func import reduce_reviews, create_mappings, map_ids, interaction_matrix"
   ]
  },
  {
   "cell_type": "markdown",
   "metadata": {},
   "source": [
    "## ALS"
   ]
  },
  {
   "cell_type": "code",
   "execution_count": 37,
   "metadata": {},
   "outputs": [],
   "source": [
    "import implicit  # !pip install implicit"
   ]
  },
  {
   "cell_type": "code",
   "execution_count": 38,
   "metadata": {},
   "outputs": [],
   "source": [
    "def make_predictions(interactions, X_test, N, mod='ALS'):\n",
    "    '''\n",
    "    make_predictions(interactions, X_test, N)\n",
    "        Делает рекомендации для пользователей из <X_test> на основе матрицы взаимодействий. \n",
    "        \n",
    "        Parameters\n",
    "        ----------\n",
    "        interactions : scipy.sparse.csr_matrix\n",
    "            Разреженная матрица взаимодействий.\n",
    "            \n",
    "        X_test : pd.DataFrame\n",
    "            Набор тестовых пользователей, для которых нужно сделать рекомендации. \n",
    "        \n",
    "        N : int\n",
    "            Число рекомендаций для каждого пользователя. \n",
    "        \n",
    "        Returns\n",
    "        -------\n",
    "        predictions : pd.DataFrame\n",
    "            DataFrame с колонками <user_id> и <target>. \n",
    "            В <target> содержится список рекомендованных для пользователя org_id.\n",
    "        \n",
    "    '''\n",
    "    \n",
    "    \n",
    "    predictions = X_test[['user_id']].copy()\n",
    "    predictions['target'] = pd.Series(dtype=object)\n",
    "    predictions = predictions.set_index('user_id')\n",
    "    \n",
    "    \n",
    "    interactions, (train_users_len, inner_orgs_len), mappings = interactions\n",
    "    (index_to_uid, uid_to_index), (index_to_oid, oid_to_index) = mappings\n",
    "\n",
    "    base_model = implicit.als.AlternatingLeastSquares(#use_gpu=True, \n",
    "        factors=30,  iterations=1000, \n",
    "        regularization=0.05,  random_state=42,\n",
    "        num_threads = 4,\n",
    "        #calculate_training_loss=True\n",
    "    )\n",
    "    base_model.fit(interactions.T)\n",
    "\n",
    "    \n",
    "    orgs_to_filter = list(np.arange(inner_orgs_len))\n",
    "\n",
    "    recommendations = base_model.recommend_all(\n",
    "        interactions,\n",
    "        N=N,\n",
    "        filter_already_liked_items=True,\n",
    "        filter_items=orgs_to_filter,\n",
    "        show_progress=True\n",
    "    )\n",
    "    \n",
    "    for user_id in tqdm(X_test['user_id'].values, leave=False):\n",
    "        predictions.loc[user_id, 'target'] = list(\n",
    "            map(\n",
    "                lambda org_index: index_to_oid[org_index], \n",
    "                recommendations[uid_to_index[user_id]]\n",
    "            )\n",
    "        )\n",
    "        \n",
    "    return predictions.reset_index()"
   ]
  },
  {
   "cell_type": "code",
   "execution_count": 39,
   "metadata": {},
   "outputs": [
    {
     "name": "stderr",
     "output_type": "stream",
     "text": [
      "2021-10-09 15:37:55,212 [11968] WARNING  py.warnings:109: [JupyterRequire] C:\\Users\\sasha\\anaconda3\\lib\\site-packages\\pandas\\core\\generic.py:6392: SettingWithCopyWarning: \n",
      "A value is trying to be set on a copy of a slice from a DataFrame\n",
      "\n",
      "See the caveats in the documentation: https://pandas.pydata.org/pandas-docs/stable/user_guide/indexing.html#returning-a-view-versus-a-copy\n",
      "  return self._update_inplace(result)\n",
      "\n"
     ]
    },
    {
     "data": {
      "text/plain": [
       "0"
      ]
     },
     "execution_count": 39,
     "metadata": {},
     "output_type": "execute_result"
    }
   ],
   "source": [
    "#mean_rating = train_reviews['rating'].mean()\n",
    "train_reviews['rating'].fillna(0, inplace=True)\n",
    "\n",
    "\n",
    "train_reviews = train_reviews[train_reviews['rating'] >= 3]\n",
    " \n",
    "# train_reviews.dropna(inplace=True)\n",
    "train_reviews.rating.isnull().sum()"
   ]
  },
  {
   "cell_type": "code",
   "execution_count": 40,
   "metadata": {},
   "outputs": [],
   "source": [
    "# train_reviews.isnull().sum()"
   ]
  },
  {
   "cell_type": "code",
   "execution_count": 61,
   "metadata": {},
   "outputs": [
    {
     "ename": "NameError",
     "evalue": "name 'interaction_matrix' is not defined",
     "output_type": "error",
     "traceback": [
      "\u001b[1;31m---------------------------------------------------------------------------\u001b[0m",
      "\u001b[1;31mNameError\u001b[0m                                 Traceback (most recent call last)",
      "\u001b[1;32m<ipython-input-61-8a62afcc3bfd>\u001b[0m in \u001b[0;36m<module>\u001b[1;34m\u001b[0m\n\u001b[1;32m----> 1\u001b[1;33m msk_interactions = interaction_matrix(train_reviews,\n\u001b[0m\u001b[0;32m      2\u001b[0m                                       \u001b[0mtest_users_with_locations\u001b[0m\u001b[1;33m[\u001b[0m\u001b[0mtest_users_with_locations\u001b[0m\u001b[1;33m[\u001b[0m\u001b[1;34m'city'\u001b[0m\u001b[1;33m]\u001b[0m \u001b[1;33m==\u001b[0m \u001b[1;34m'msk'\u001b[0m\u001b[1;33m]\u001b[0m\u001b[1;33m,\u001b[0m\u001b[1;33m\u001b[0m\u001b[1;33m\u001b[0m\u001b[0m\n\u001b[0;32m      3\u001b[0m                                       city = 'msk')\n\u001b[0;32m      4\u001b[0m \u001b[1;33m\u001b[0m\u001b[0m\n\u001b[0;32m      5\u001b[0m spb_interactions = interaction_matrix(train_reviews,\n",
      "\u001b[1;31mNameError\u001b[0m: name 'interaction_matrix' is not defined"
     ]
    }
   ],
   "source": [
    "msk_interactions = interaction_matrix(train_reviews,\n",
    "                                      test_users_with_locations[test_users_with_locations['city'] == 'msk'],\n",
    "                                      city = 'msk')\n",
    "\n",
    "spb_interactions = interaction_matrix(train_reviews,\n",
    "                                      test_users_with_locations[test_users_with_locations['city'] == 'spb'],\n",
    "                                      city = 'spb')       \n",
    "        \n",
    "test_msk_users = test_users_with_locations[test_users_with_locations['city'] == 'msk']\n",
    "test_spb_users = test_users_with_locations[test_users_with_locations['city'] == 'spb']\n",
    "\n",
    "# # Делаем предсказания\n",
    "# msk_predictions = make_predictions(msk_interactions, test_msk_users, N)\n",
    "# spb_predictions = make_predictions(spb_interactions, test_spb_users, N)\n",
    "\n",
    "# predictions = pd.concat([msk_predictions, spb_predictions])\n",
    "\n",
    "# print_score(MNAP_N(y_test, predictions))"
   ]
  },
  {
   "cell_type": "markdown",
   "metadata": {},
   "source": [
    "# Submission\n",
    "\n",
    "Выберем лучший метод на валидации, переобучим его на всей выборке и сделаем предсказание на тестовой выборке. \n",
    "\n",
    "**Формат вывода:**\n",
    "Для каждого пользователя из файла `test_users.csv` необходимо приложить список из не более чем 20 организаций, относящихся к городу, отличному от города проживания пользователя."
   ]
  },
  {
   "cell_type": "markdown",
   "metadata": {},
   "source": [
    "## Without ML"
   ]
  },
  {
   "cell_type": "code",
   "execution_count": null,
   "metadata": {},
   "outputs": [],
   "source": [
    "# набор отзывов только от туристов\n",
    "\n",
    "\n",
    "tourist_reviews = reviews[(reviews['rating'] >= 4.0)\n",
    "                          & (reviews['org_rating'] >= 4.0)\n",
    "                          & (reviews['user_mean_rating'] >=  4.0)]\n",
    "\n",
    "tourist_reviews = tourist_reviews[tourist_reviews['user_city'] != tourist_reviews['org_city']]\n",
    "\n",
    "# выбираем самые популярные места среди туристов из Москвы и Питера\n",
    "msk_orgs = tourist_reviews[tourist_reviews['org_city'] == 'msk']['org_id']\n",
    "msk_orgs = msk_orgs.value_counts().index[:N].to_list()\n",
    "\n",
    "spb_orgs = tourist_reviews[tourist_reviews['org_city'] == 'spb']['org_id']\n",
    "spb_orgs = spb_orgs.value_counts().index[:N].to_list()\n",
    "\n",
    "\n",
    "msk_orgs = str(' '.join(map(str, msk_orgs)))\n",
    "spb_orgs = str(' '.join(map(str, spb_orgs)))"
   ]
  },
  {
   "cell_type": "code",
   "execution_count": null,
   "metadata": {},
   "outputs": [],
   "source": [
    "test_users = pd.read_csv('data/test_users.csv')\n",
    "test_users['city'] = test_users.merge(users, on='user_id')['city']\n",
    "test_users.head(3)"
   ]
  },
  {
   "cell_type": "code",
   "execution_count": null,
   "metadata": {},
   "outputs": [],
   "source": [
    "choose = lambda x: spb_orgs if x['city'] == 'msk' else msk_orgs\n",
    "target = test_users.apply(choose, axis=1)\n",
    " \n",
    "predictions = test_users[['user_id']]\n",
    "predictions['target'] = target\n",
    "\n",
    "print(predictions.head(3))\n",
    "\n",
    "predictions.to_csv('answers_best_valid.csv', index=None)"
   ]
  },
  {
   "cell_type": "code",
   "execution_count": null,
   "metadata": {},
   "outputs": [],
   "source": [
    " "
   ]
  },
  {
   "cell_type": "code",
   "execution_count": null,
   "metadata": {},
   "outputs": [],
   "source": [
    " "
   ]
  },
  {
   "cell_type": "markdown",
   "metadata": {},
   "source": [
    "## With ML"
   ]
  },
  {
   "cell_type": "code",
   "execution_count": null,
   "metadata": {},
   "outputs": [],
   "source": []
  },
  {
   "cell_type": "code",
   "execution_count": null,
   "metadata": {},
   "outputs": [],
   "source": [
    "mean_rating = reviews['rating'].mean()\n",
    "reviews['rating'].fillna(mean_rating, inplace=True)\n",
    "reviews = reviews[reviews['rating'] > 3]\n",
    "reviews.head()"
   ]
  },
  {
   "cell_type": "code",
   "execution_count": null,
   "metadata": {},
   "outputs": [],
   "source": [
    "test_users = pd.read_csv('data/test_users.csv')\n",
    "test_users = test_users.merge(users, on='user_id')\n",
    "\n",
    "msk_interactions = interaction_matrix(\n",
    "    reviews,                                  \n",
    "    test_users[test_users['city'] == 'msk'][['user_id', 'city']],\n",
    "    city = 'msk'\n",
    ")\n",
    "\n",
    "spb_interactions = interaction_matrix(\n",
    "    reviews,\n",
    "    test_users[test_users['city'] == 'spb'][['user_id', 'city']],\n",
    "    city = 'spb'\n",
    ")\n",
    "\n",
    "# msk_predictions = make_predictions(msk_interactions, test_msk_users, N)\n",
    "# spb_predictions = make_predictions(spb_interactions, test_spb_users, N)\n",
    "\n",
    "# predictions = pd.concat([msk_predictions, spb_predictions])"
   ]
  },
  {
   "cell_type": "code",
   "execution_count": null,
   "metadata": {},
   "outputs": [],
   "source": [
    "predictions['target'] = predictions['target'].apply(lambda orgs: ' '.join(map(str, orgs)))\n",
    "predictions.head(2)"
   ]
  },
  {
   "cell_type": "code",
   "execution_count": null,
   "metadata": {},
   "outputs": [],
   "source": [
    "predictions.to_csv('answers_ml.csv', index=None)"
   ]
  },
  {
   "cell_type": "code",
   "execution_count": null,
   "metadata": {},
   "outputs": [],
   "source": [
    " "
   ]
  },
  {
   "cell_type": "markdown",
   "metadata": {},
   "source": [
    "# Surprise - SVD/KNN и другие (Андрей/Саша)"
   ]
  },
  {
   "cell_type": "code",
   "execution_count": 33,
   "metadata": {},
   "outputs": [],
   "source": [
    "from surprise import Reader, Dataset\n",
    "\n",
    "from surprise import SVD,SVDpp\n",
    "from surprise import NMF,BaselineOnly, NormalPredictor, KNNWithZScore, SlopeOne, CoClustering\n",
    "from surprise.model_selection import cross_validate\n",
    "from surprise.model_selection import GridSearchCV\n",
    "\n",
    "from __future__ import (absolute_import, division, print_function,\n",
    "                        unicode_literals)\n",
    "\n",
    "from collections import defaultdict"
   ]
  },
  {
   "cell_type": "code",
   "execution_count": 34,
   "metadata": {
    "scrolled": true
   },
   "outputs": [
    {
     "name": "stdout",
     "output_type": "stream",
     "text": [
      "Not Filtered reviews 3582797\n",
      "Filtered reviews     3078840\n"
     ]
    }
   ],
   "source": [
    "print('Not Filtered reviews', len(reviews))\n",
    "surprise_reviews = reviews[(reviews.rating > 2) & (reviews.org_rating > 3.5)]\n",
    "print('Filtered reviews    ', len(surprise_reviews))"
   ]
  },
  {
   "cell_type": "code",
   "execution_count": 41,
   "metadata": {},
   "outputs": [
    {
     "name": "stderr",
     "output_type": "stream",
     "text": [
      "2021-10-08 16:53:29,008 [15256] WARNING  py.warnings:109: [JupyterRequire] C:\\Users\\sasha\\anaconda3\\lib\\site-packages\\pandas\\core\\frame.py:5039: SettingWithCopyWarning: \n",
      "A value is trying to be set on a copy of a slice from a DataFrame\n",
      "\n",
      "See the caveats in the documentation: https://pandas.pydata.org/pandas-docs/stable/user_guide/indexing.html#returning-a-view-versus-a-copy\n",
      "  return super().rename(\n",
      "\n"
     ]
    }
   ],
   "source": [
    "# First train an SVD algorithm on the movielens dataset.\n",
    "\n",
    "surprise_reviews.rename(columns = {'user_id': 'userID',\n",
    "                          'org_id':'itemID'}, inplace=True)\n",
    "\n",
    "reader = Reader(rating_scale=(4.0, 5.0))\n",
    "\n",
    "\n",
    "# The columns must correspond to user id, item id and ratings (in that order).\n",
    "tourist_reviews.rename(columns = {'user_id': 'userID',\n",
    "                          'org_id':'itemID'}, inplace=True)\n",
    "\n",
    "data = Dataset.load_from_df(tourist_reviews[['userID', 'itemID', 'rating']], reader)\n",
    "# data = Dataset.load_from_df(surprise_reviews[['userID', 'itemID', 'rating']], reader)\n",
    "\n",
    "trainset = data.build_full_trainset()\n",
    "\n",
    "algo = SVD(n_epochs=25, verbose=True, random_state=42)"
   ]
  },
  {
   "cell_type": "code",
   "execution_count": 54,
   "metadata": {},
   "outputs": [],
   "source": [
    "print('Обучение')\n",
    "algo.fit(trainset)"
   ]
  },
  {
   "cell_type": "code",
   "execution_count": 43,
   "metadata": {},
   "outputs": [
    {
     "data": {
      "text/html": [
       "<div>\n",
       "<style scoped>\n",
       "    .dataframe tbody tr th:only-of-type {\n",
       "        vertical-align: middle;\n",
       "    }\n",
       "\n",
       "    .dataframe tbody tr th {\n",
       "        vertical-align: top;\n",
       "    }\n",
       "\n",
       "    .dataframe thead th {\n",
       "        text-align: right;\n",
       "    }\n",
       "</style>\n",
       "<table border=\"1\" class=\"dataframe\">\n",
       "  <thead>\n",
       "    <tr style=\"text-align: right;\">\n",
       "      <th></th>\n",
       "      <th>userID</th>\n",
       "      <th>itemID</th>\n",
       "      <th>rating</th>\n",
       "      <th>ts</th>\n",
       "      <th>aspects</th>\n",
       "      <th>user_city</th>\n",
       "      <th>org_city</th>\n",
       "      <th>org_rating</th>\n",
       "      <th>aspect_count</th>\n",
       "      <th>org_popularity</th>\n",
       "      <th>org_rating_agg</th>\n",
       "      <th>org_aspect_mean</th>\n",
       "      <th>user_mean_rating</th>\n",
       "      <th>user_review_activity</th>\n",
       "      <th>user_aspect_activity</th>\n",
       "    </tr>\n",
       "  </thead>\n",
       "  <tbody>\n",
       "    <tr>\n",
       "      <th>1161175</th>\n",
       "      <td>194140494906478980</td>\n",
       "      <td>9104453017196776235</td>\n",
       "      <td>5.0</td>\n",
       "      <td>752</td>\n",
       "      <td>[2, 6]</td>\n",
       "      <td>msk</td>\n",
       "      <td>msk</td>\n",
       "      <td>4.638082</td>\n",
       "      <td>2</td>\n",
       "      <td>55931</td>\n",
       "      <td>4.622125</td>\n",
       "      <td>0.004988</td>\n",
       "      <td>4.400000</td>\n",
       "      <td>5</td>\n",
       "      <td>9</td>\n",
       "    </tr>\n",
       "    <tr>\n",
       "      <th>1273560</th>\n",
       "      <td>699456224774688518</td>\n",
       "      <td>9104453017196776235</td>\n",
       "      <td>5.0</td>\n",
       "      <td>585</td>\n",
       "      <td>[2, 6]</td>\n",
       "      <td>msk</td>\n",
       "      <td>msk</td>\n",
       "      <td>4.638082</td>\n",
       "      <td>2</td>\n",
       "      <td>55931</td>\n",
       "      <td>4.622125</td>\n",
       "      <td>0.004988</td>\n",
       "      <td>5.000000</td>\n",
       "      <td>1</td>\n",
       "      <td>2</td>\n",
       "    </tr>\n",
       "    <tr>\n",
       "      <th>1759025</th>\n",
       "      <td>3765868620138337538</td>\n",
       "      <td>9104453017196776235</td>\n",
       "      <td>5.0</td>\n",
       "      <td>319</td>\n",
       "      <td>[2, 23]</td>\n",
       "      <td>msk</td>\n",
       "      <td>msk</td>\n",
       "      <td>4.638082</td>\n",
       "      <td>2</td>\n",
       "      <td>55931</td>\n",
       "      <td>4.622125</td>\n",
       "      <td>0.004988</td>\n",
       "      <td>4.357143</td>\n",
       "      <td>14</td>\n",
       "      <td>4</td>\n",
       "    </tr>\n",
       "    <tr>\n",
       "      <th>2911343</th>\n",
       "      <td>377770453372744966</td>\n",
       "      <td>9104453017196776235</td>\n",
       "      <td>3.0</td>\n",
       "      <td>716</td>\n",
       "      <td>[2, 6]</td>\n",
       "      <td>msk</td>\n",
       "      <td>msk</td>\n",
       "      <td>4.638082</td>\n",
       "      <td>2</td>\n",
       "      <td>55931</td>\n",
       "      <td>4.622125</td>\n",
       "      <td>0.004988</td>\n",
       "      <td>4.400000</td>\n",
       "      <td>5</td>\n",
       "      <td>7</td>\n",
       "    </tr>\n",
       "    <tr>\n",
       "      <th>4663</th>\n",
       "      <td>2790039151844604473</td>\n",
       "      <td>9104453017196776235</td>\n",
       "      <td>5.0</td>\n",
       "      <td>1158</td>\n",
       "      <td>[2]</td>\n",
       "      <td>msk</td>\n",
       "      <td>msk</td>\n",
       "      <td>4.638082</td>\n",
       "      <td>1</td>\n",
       "      <td>55931</td>\n",
       "      <td>4.622125</td>\n",
       "      <td>0.004988</td>\n",
       "      <td>5.000000</td>\n",
       "      <td>1</td>\n",
       "      <td>1</td>\n",
       "    </tr>\n",
       "  </tbody>\n",
       "</table>\n",
       "</div>"
      ],
      "text/plain": [
       "                      userID               itemID  rating    ts  aspects  \\\n",
       "1161175   194140494906478980  9104453017196776235     5.0   752   [2, 6]   \n",
       "1273560   699456224774688518  9104453017196776235     5.0   585   [2, 6]   \n",
       "1759025  3765868620138337538  9104453017196776235     5.0   319  [2, 23]   \n",
       "2911343   377770453372744966  9104453017196776235     3.0   716   [2, 6]   \n",
       "4663     2790039151844604473  9104453017196776235     5.0  1158      [2]   \n",
       "\n",
       "        user_city org_city  org_rating  aspect_count  org_popularity  \\\n",
       "1161175       msk      msk    4.638082             2           55931   \n",
       "1273560       msk      msk    4.638082             2           55931   \n",
       "1759025       msk      msk    4.638082             2           55931   \n",
       "2911343       msk      msk    4.638082             2           55931   \n",
       "4663          msk      msk    4.638082             1           55931   \n",
       "\n",
       "         org_rating_agg  org_aspect_mean  user_mean_rating  \\\n",
       "1161175        4.622125         0.004988          4.400000   \n",
       "1273560        4.622125         0.004988          5.000000   \n",
       "1759025        4.622125         0.004988          4.357143   \n",
       "2911343        4.622125         0.004988          4.400000   \n",
       "4663           4.622125         0.004988          5.000000   \n",
       "\n",
       "         user_review_activity  user_aspect_activity  \n",
       "1161175                     5                     9  \n",
       "1273560                     1                     2  \n",
       "1759025                    14                     4  \n",
       "2911343                     5                     7  \n",
       "4663                        1                     1  "
      ]
     },
     "execution_count": 43,
     "metadata": {},
     "output_type": "execute_result"
    }
   ],
   "source": [
    "surprise_reviews.head()"
   ]
  },
  {
   "cell_type": "code",
   "execution_count": 214,
   "metadata": {},
   "outputs": [
    {
     "data": {
      "text/html": [
       "<div>\n",
       "<style scoped>\n",
       "    .dataframe tbody tr th:only-of-type {\n",
       "        vertical-align: middle;\n",
       "    }\n",
       "\n",
       "    .dataframe tbody tr th {\n",
       "        vertical-align: top;\n",
       "    }\n",
       "\n",
       "    .dataframe thead th {\n",
       "        text-align: right;\n",
       "    }\n",
       "</style>\n",
       "<table border=\"1\" class=\"dataframe\">\n",
       "  <thead>\n",
       "    <tr style=\"text-align: right;\">\n",
       "      <th></th>\n",
       "      <th>user_id</th>\n",
       "      <th>city</th>\n",
       "    </tr>\n",
       "  </thead>\n",
       "  <tbody>\n",
       "    <tr>\n",
       "      <th>5102</th>\n",
       "      <td>5026676867235415026</td>\n",
       "      <td>msk</td>\n",
       "    </tr>\n",
       "    <tr>\n",
       "      <th>13349</th>\n",
       "      <td>7149203965599958700</td>\n",
       "      <td>msk</td>\n",
       "    </tr>\n",
       "    <tr>\n",
       "      <th>1365</th>\n",
       "      <td>12526888473773129644</td>\n",
       "      <td>msk</td>\n",
       "    </tr>\n",
       "  </tbody>\n",
       "</table>\n",
       "</div>"
      ],
      "text/plain": [
       "                    user_id city\n",
       "5102    5026676867235415026  msk\n",
       "13349   7149203965599958700  msk\n",
       "1365   12526888473773129644  msk"
      ]
     },
     "execution_count": 214,
     "metadata": {},
     "output_type": "execute_result"
    }
   ],
   "source": [
    "test_users = pd.read_csv('data/test_users.csv')\n",
    "users = pd.read_csv('data/users.csv')\n",
    "test_users = test_users.merge(users, on='user_id')\n",
    "test_users.sample(3)"
   ]
  },
  {
   "cell_type": "code",
   "execution_count": 59,
   "metadata": {},
   "outputs": [],
   "source": [
    "final_preds_dict = {}\n",
    "thresh = 4\n",
    "\n",
    "f = lambda orgs: ' '.join(map(str, orgs))\n",
    "\n",
    "\n",
    "def rep_dict(preds, MIN, item, rating): \n",
    "    for k in preds.keys():\n",
    "        if preds[k] == MIN:\n",
    "            preds.pop(k)\n",
    "            preds[item] = rating\n",
    "            return preds    \n",
    "\n",
    "def gen_recomend(no_city='msk', limit = 50, thresh=4, ton_n=20, baseline=False):\n",
    "    \n",
    "    \n",
    "    sur_reviews = surprise_reviews[(surprise_reviews.rating >= 3) & (surprise_reviews.org_rating > 4)]\n",
    "    \n",
    "    items  = sur_reviews[~(sur_reviews['org_city']==no_city)]['itemID'].unique()# выбираем те орги, где не был юзер\n",
    "\n",
    "    users_list = test_users[test_users['city']==no_city]['user_id'].values\n",
    "    \n",
    "    print('users', len(users_list))\n",
    "    print('items', len(items))\n",
    "    \n",
    "    for user in tqdm(users_list):\n",
    "        preds_item = {}\n",
    "#         print('-- user: -->', user)\n",
    "\n",
    "        filter_ = reviews[reviews['user_id']==user]['org_id'].values # Проверяем,что Item не в списке просмотренных\n",
    "        filtered_items = [i for i in items if i not in filter_][:limit]\n",
    "        for item in filtered_items: # TODO убрать костыль\n",
    "            \n",
    "            if not baseline:\n",
    "                print('not baseline')\n",
    "                rating = algo.predict(uid=user, iid=item).est\n",
    "            else:\n",
    "                rating = 5\n",
    "\n",
    "            if len(preds_item.keys()) < ton_n: # warm start\n",
    "                preds_item[item] = rating\n",
    "                \n",
    "            elif rating > thresh and not baseline:\n",
    "                MIN = min(preds_item.values()) # Можно вычислять не каждый раз\n",
    "                if rating > MIN:\n",
    "                    preds_item = rep_dict(preds_item, MIN, item, rating)\n",
    "                    \n",
    "            else:\n",
    "                break\n",
    "\n",
    "        assert len(preds_item.keys()) == ton_n\n",
    "        final_preds_dict[user] = f(preds_item.keys())\n",
    "    \n",
    "    print('-----Готово------')\n",
    "    return final_preds_dict\n",
    "        #print()\n",
    "        "
   ]
  },
  {
   "cell_type": "code",
   "execution_count": 60,
   "metadata": {},
   "outputs": [],
   "source": [
    " "
   ]
  },
  {
   "cell_type": "code",
   "execution_count": 61,
   "metadata": {},
   "outputs": [
    {
     "name": "stdout",
     "output_type": "stream",
     "text": [
      "users 14638\n",
      "items 11757\n"
     ]
    },
    {
     "name": "stderr",
     "output_type": "stream",
     "text": [
      "  0%|▏                                                                              | 36/14638 [00:07<53:04,  4.59it/s]\n",
      "\n",
      "KeyboardInterrupt\n",
      "\n"
     ]
    }
   ],
   "source": [
    "msk_preds_dict = gen_recomend(no_city='msk', limit = 40, baseline=True, ton_n=20)\n",
    "spb_preds_dict = gen_recomend(no_city='spb', limit = 40, baseline=True, ton_n=20)"
   ]
  },
  {
   "cell_type": "code",
   "execution_count": 286,
   "metadata": {},
   "outputs": [
    {
     "ename": "NameError",
     "evalue": "name 'spb_preds_dict' is not defined",
     "output_type": "error",
     "traceback": [
      "\u001b[1;31m---------------------------------------------------------------------------\u001b[0m",
      "\u001b[1;31mNameError\u001b[0m                                 Traceback (most recent call last)",
      "\u001b[1;32m<ipython-input-286-52be90bdf0c1>\u001b[0m in \u001b[0;36m<module>\u001b[1;34m\u001b[0m\n\u001b[1;32m----> 1\u001b[1;33m \u001b[0mspb_preds_dict\u001b[0m\u001b[1;33m.\u001b[0m\u001b[0mupdate\u001b[0m\u001b[1;33m(\u001b[0m\u001b[0mmsk_preds_dict\u001b[0m\u001b[1;33m)\u001b[0m\u001b[1;33m\u001b[0m\u001b[1;33m\u001b[0m\u001b[0m\n\u001b[0m\u001b[0;32m      2\u001b[0m \u001b[1;33m\u001b[0m\u001b[0m\n\u001b[0;32m      3\u001b[0m \u001b[0mD\u001b[0m \u001b[1;33m=\u001b[0m \u001b[1;33m{\u001b[0m\u001b[1;33m}\u001b[0m\u001b[1;33m\u001b[0m\u001b[1;33m\u001b[0m\u001b[0m\n\u001b[0;32m      4\u001b[0m \u001b[1;33m\u001b[0m\u001b[0m\n\u001b[0;32m      5\u001b[0m \u001b[1;32mfor\u001b[0m \u001b[0mk\u001b[0m\u001b[1;33m,\u001b[0m \u001b[0mv\u001b[0m \u001b[1;32min\u001b[0m \u001b[0mspb_preds_dict\u001b[0m\u001b[1;33m.\u001b[0m\u001b[0mitems\u001b[0m\u001b[1;33m(\u001b[0m\u001b[1;33m)\u001b[0m\u001b[1;33m:\u001b[0m\u001b[1;33m\u001b[0m\u001b[1;33m\u001b[0m\u001b[0m\n",
      "\u001b[1;31mNameError\u001b[0m: name 'spb_preds_dict' is not defined"
     ]
    }
   ],
   "source": [
    "spb_preds_dict.update(msk_preds_dict)\n",
    "\n",
    "D = {}\n",
    "\n",
    "for k, v in spb_preds_dict.items():\n",
    "    D[k] = v\n",
    "assert len(D) == len(spb_preds_dict) == 14638 + 2329\n",
    "\n",
    "users = test_users['user_id'].values\n",
    "test_users['target'] = None\n",
    "for i, u in enumerate(users):\n",
    "    test_users.at[i, 'target'] = D[u]\n",
    "    \n",
    "test_users.drop('city', axis=1).to_csv('fil_baseline.csv', index=False)\n",
    "test_users"
   ]
  },
  {
   "cell_type": "code",
   "execution_count": null,
   "metadata": {},
   "outputs": [],
   "source": [
    " "
   ]
  },
  {
   "cell_type": "code",
   "execution_count": null,
   "metadata": {},
   "outputs": [],
   "source": [
    " "
   ]
  },
  {
   "cell_type": "markdown",
   "metadata": {},
   "source": [
    "# Использование NLP данных \n",
    "item-based approches"
   ]
  },
  {
   "cell_type": "code",
   "execution_count": 47,
   "metadata": {},
   "outputs": [],
   "source": [
    "orgs = pd.read_csv('data/organisations.csv')\n",
    "org_cols = ['org_id', 'org_city', 'org_rating',\n",
    "            'org_feature_count', 'org_tourist_mean_rating','org_rating_agg',\n",
    "            'org_tourist_popularity','org_popularity','org_aspect_mean']\n",
    "\n",
    "org_features = reviews[org_cols].copy()\n",
    "org_features.drop_duplicates(inplace=True)"
   ]
  },
  {
   "cell_type": "code",
   "execution_count": 48,
   "metadata": {},
   "outputs": [
    {
     "data": {
      "text/html": [
       "<div>\n",
       "<style scoped>\n",
       "    .dataframe tbody tr th:only-of-type {\n",
       "        vertical-align: middle;\n",
       "    }\n",
       "\n",
       "    .dataframe tbody tr th {\n",
       "        vertical-align: top;\n",
       "    }\n",
       "\n",
       "    .dataframe thead th {\n",
       "        text-align: right;\n",
       "    }\n",
       "</style>\n",
       "<table border=\"1\" class=\"dataframe\">\n",
       "  <thead>\n",
       "    <tr style=\"text-align: right;\">\n",
       "      <th></th>\n",
       "      <th>org_id</th>\n",
       "      <th>org_city</th>\n",
       "      <th>org_rating</th>\n",
       "      <th>org_feature_count</th>\n",
       "      <th>org_tourist_mean_rating</th>\n",
       "      <th>org_rating_agg</th>\n",
       "      <th>org_tourist_popularity</th>\n",
       "      <th>org_popularity</th>\n",
       "      <th>org_aspect_mean</th>\n",
       "      <th>average_bill</th>\n",
       "      <th>rubrics_id</th>\n",
       "      <th>features_id</th>\n",
       "    </tr>\n",
       "  </thead>\n",
       "  <tbody>\n",
       "    <tr>\n",
       "      <th>59626</th>\n",
       "      <td>15343828394400065091</td>\n",
       "      <td>msk</td>\n",
       "      <td>4.219512</td>\n",
       "      <td>2</td>\n",
       "      <td>5.0</td>\n",
       "      <td>4.350000</td>\n",
       "      <td>2.0</td>\n",
       "      <td>60</td>\n",
       "      <td>0.200000</td>\n",
       "      <td>NaN</td>\n",
       "      <td>30774</td>\n",
       "      <td>1018 3501779478</td>\n",
       "    </tr>\n",
       "    <tr>\n",
       "      <th>5867</th>\n",
       "      <td>13760711751547548892</td>\n",
       "      <td>msk</td>\n",
       "      <td>3.815789</td>\n",
       "      <td>10</td>\n",
       "      <td>0.0</td>\n",
       "      <td>4.444444</td>\n",
       "      <td>0.0</td>\n",
       "      <td>18</td>\n",
       "      <td>0.722222</td>\n",
       "      <td>1000.0</td>\n",
       "      <td>30776</td>\n",
       "      <td>1018 11617 11629 11704 11867 20422 273469383 2...</td>\n",
       "    </tr>\n",
       "    <tr>\n",
       "      <th>56746</th>\n",
       "      <td>621739252194426927</td>\n",
       "      <td>msk</td>\n",
       "      <td>NaN</td>\n",
       "      <td>1</td>\n",
       "      <td>0.0</td>\n",
       "      <td>5.000000</td>\n",
       "      <td>0.0</td>\n",
       "      <td>1</td>\n",
       "      <td>1.000000</td>\n",
       "      <td>NaN</td>\n",
       "      <td>30519 30774 31495</td>\n",
       "      <td>1018</td>\n",
       "    </tr>\n",
       "  </tbody>\n",
       "</table>\n",
       "</div>"
      ],
      "text/plain": [
       "                     org_id org_city  org_rating  org_feature_count  \\\n",
       "59626  15343828394400065091      msk    4.219512                  2   \n",
       "5867   13760711751547548892      msk    3.815789                 10   \n",
       "56746    621739252194426927      msk         NaN                  1   \n",
       "\n",
       "       org_tourist_mean_rating  org_rating_agg  org_tourist_popularity  \\\n",
       "59626                      5.0        4.350000                     2.0   \n",
       "5867                       0.0        4.444444                     0.0   \n",
       "56746                      0.0        5.000000                     0.0   \n",
       "\n",
       "       org_popularity  org_aspect_mean  average_bill         rubrics_id  \\\n",
       "59626              60         0.200000           NaN              30774   \n",
       "5867               18         0.722222        1000.0              30776   \n",
       "56746               1         1.000000           NaN  30519 30774 31495   \n",
       "\n",
       "                                             features_id  \n",
       "59626                                    1018 3501779478  \n",
       "5867   1018 11617 11629 11704 11867 20422 273469383 2...  \n",
       "56746                                               1018  "
      ]
     },
     "execution_count": 48,
     "metadata": {},
     "output_type": "execute_result"
    }
   ],
   "source": [
    "org_features = org_features.merge(orgs[['org_id', 'average_bill', 'rubrics_id', 'features_id']], on='org_id', how='right')\n",
    "org_features[['rubrics_id','features_id']] = org_features[['rubrics_id','features_id']].fillna('')\n",
    "org_features.sample(3)"
   ]
  },
  {
   "cell_type": "code",
   "execution_count": 50,
   "metadata": {},
   "outputs": [],
   "source": [
    "assert len(org_features[(org_features['rubrics_id'].isnull()) & (org_features['features_id'].isnull())]) == 0"
   ]
  },
  {
   "cell_type": "code",
   "execution_count": 51,
   "metadata": {},
   "outputs": [
    {
     "name": "stdout",
     "output_type": "stream",
     "text": [
      "До 66405\n",
      "После 13363\n"
     ]
    }
   ],
   "source": [
    "print('До', len(org_features)) \n",
    "org_features = org_features[(org_features['org_rating'] >= 4) & (org_features['org_tourist_popularity'] > 0)]\n",
    "print('После', len(org_features)) "
   ]
  },
  {
   "cell_type": "code",
   "execution_count": 75,
   "metadata": {},
   "outputs": [
    {
     "data": {
      "text/html": [
       "<div>\n",
       "<style scoped>\n",
       "    .dataframe tbody tr th:only-of-type {\n",
       "        vertical-align: middle;\n",
       "    }\n",
       "\n",
       "    .dataframe tbody tr th {\n",
       "        vertical-align: top;\n",
       "    }\n",
       "\n",
       "    .dataframe thead th {\n",
       "        text-align: right;\n",
       "    }\n",
       "</style>\n",
       "<table border=\"1\" class=\"dataframe\">\n",
       "  <thead>\n",
       "    <tr style=\"text-align: right;\">\n",
       "      <th></th>\n",
       "      <th>org_id</th>\n",
       "      <th>org_city</th>\n",
       "      <th>org_rating</th>\n",
       "      <th>org_feature_count</th>\n",
       "      <th>org_tourist_mean_rating</th>\n",
       "      <th>org_rating_agg</th>\n",
       "      <th>org_tourist_popularity</th>\n",
       "      <th>org_popularity</th>\n",
       "      <th>org_aspect_mean</th>\n",
       "      <th>average_bill</th>\n",
       "      <th>rubrics_id</th>\n",
       "      <th>features_id</th>\n",
       "      <th>text</th>\n",
       "    </tr>\n",
       "  </thead>\n",
       "  <tbody>\n",
       "    <tr>\n",
       "      <th>45897</th>\n",
       "      <td>13781785978458860749</td>\n",
       "      <td>spb</td>\n",
       "      <td>4.659091</td>\n",
       "      <td>20</td>\n",
       "      <td>4.9</td>\n",
       "      <td>4.666667</td>\n",
       "      <td>10.0</td>\n",
       "      <td>27</td>\n",
       "      <td>0.296296</td>\n",
       "      <td>2500.0</td>\n",
       "      <td>30774 30776</td>\n",
       "      <td>246 1018 1509 11177 11617 11629 11704 11867 20...</td>\n",
       "      <td>30774 30776246 1018 1509 11177 11617 11629 117...</td>\n",
       "    </tr>\n",
       "    <tr>\n",
       "      <th>10177</th>\n",
       "      <td>7336126396593054170</td>\n",
       "      <td>msk</td>\n",
       "      <td>4.120773</td>\n",
       "      <td>4</td>\n",
       "      <td>5.0</td>\n",
       "      <td>4.196581</td>\n",
       "      <td>3.0</td>\n",
       "      <td>117</td>\n",
       "      <td>0.487179</td>\n",
       "      <td>NaN</td>\n",
       "      <td>30776</td>\n",
       "      <td>1018 11617 11629 3501779478</td>\n",
       "      <td>307761018 11617 11629 3501779478</td>\n",
       "    </tr>\n",
       "    <tr>\n",
       "      <th>49306</th>\n",
       "      <td>16420734374395567188</td>\n",
       "      <td>msk</td>\n",
       "      <td>4.517857</td>\n",
       "      <td>20</td>\n",
       "      <td>5.0</td>\n",
       "      <td>4.598540</td>\n",
       "      <td>4.0</td>\n",
       "      <td>138</td>\n",
       "      <td>1.014493</td>\n",
       "      <td>1500.0</td>\n",
       "      <td>30776</td>\n",
       "      <td>246 1018 1509 11177 11617 11629 11704 11839 11...</td>\n",
       "      <td>30776246 1018 1509 11177 11617 11629 11704 118...</td>\n",
       "    </tr>\n",
       "  </tbody>\n",
       "</table>\n",
       "</div>"
      ],
      "text/plain": [
       "                     org_id org_city  org_rating  org_feature_count  \\\n",
       "45897  13781785978458860749      spb    4.659091                 20   \n",
       "10177   7336126396593054170      msk    4.120773                  4   \n",
       "49306  16420734374395567188      msk    4.517857                 20   \n",
       "\n",
       "       org_tourist_mean_rating  org_rating_agg  org_tourist_popularity  \\\n",
       "45897                      4.9        4.666667                    10.0   \n",
       "10177                      5.0        4.196581                     3.0   \n",
       "49306                      5.0        4.598540                     4.0   \n",
       "\n",
       "       org_popularity  org_aspect_mean  average_bill   rubrics_id  \\\n",
       "45897              27         0.296296        2500.0  30774 30776   \n",
       "10177             117         0.487179           NaN        30776   \n",
       "49306             138         1.014493        1500.0        30776   \n",
       "\n",
       "                                             features_id  \\\n",
       "45897  246 1018 1509 11177 11617 11629 11704 11867 20...   \n",
       "10177                        1018 11617 11629 3501779478   \n",
       "49306  246 1018 1509 11177 11617 11629 11704 11839 11...   \n",
       "\n",
       "                                                    text  \n",
       "45897  30774 30776246 1018 1509 11177 11617 11629 117...  \n",
       "10177                   307761018 11617 11629 3501779478  \n",
       "49306  30776246 1018 1509 11177 11617 11629 11704 118...  "
      ]
     },
     "execution_count": 75,
     "metadata": {},
     "output_type": "execute_result"
    }
   ],
   "source": [
    "org_features['text'] =  org_features['rubrics_id'] + org_features['features_id']\n",
    "org_features.sample(1)"
   ]
  },
  {
   "cell_type": "markdown",
   "metadata": {},
   "source": [
    "## Model TfidfVectorizer"
   ]
  },
  {
   "cell_type": "code",
   "execution_count": 66,
   "metadata": {},
   "outputs": [],
   "source": [
    "from sklearn.feature_extraction.text import TfidfVectorizer\n",
    "\n",
    "tf = TfidfVectorizer(analyzer='word', ngram_range=(1, 2), min_df=0)\n",
    "\n",
    "matrix = tf.fit_transform(org_features['text'])"
   ]
  },
  {
   "cell_type": "code",
   "execution_count": 67,
   "metadata": {},
   "outputs": [],
   "source": [
    "# orgs.org_id.nunique()"
   ]
  },
  {
   "cell_type": "code",
   "execution_count": 68,
   "metadata": {},
   "outputs": [],
   "source": [
    "from sklearn.metrics.pairwise import linear_kernel\n",
    "\n",
    "cosine_similarities = linear_kernel(matrix, matrix)"
   ]
  },
  {
   "cell_type": "code",
   "execution_count": 70,
   "metadata": {},
   "outputs": [],
   "source": [
    "movie_title = org_features['org_id']"
   ]
  },
  {
   "cell_type": "code",
   "execution_count": 282,
   "metadata": {},
   "outputs": [],
   "source": [
    "indices = pd.Series(org_features.index, index=org_features['org_id'])\n",
    "\n",
    "f = lambda orgs: ' '.join(map(str, orgs))\n",
    "\n",
    "def item_recommend_by_item(original_title, top_n = 20, string_format = True, filter_this_city = None):\n",
    "\n",
    "    idx = indices[original_title]\n",
    "    sim_scores = list(enumerate(cosine_similarities[idx]))\n",
    "    sim_scores = sorted(sim_scores, key=lambda x: x[1], reverse=True)\n",
    "    sim_scores = sim_scores[1:31] # TODO фигня какае-то\n",
    "    movie_indices = [i[0] for i in sim_scores]\n",
    "\n",
    "    if filter_this_city is not None:\n",
    "        recoms = [i for i in movie_title.iloc[movie_indices] if i not in filter_this_city][:top_n]\n",
    "        assert len(recoms) == top_n\n",
    "    if string_format:\n",
    "        \n",
    "        return f(recoms)\n",
    "    \n",
    "    return recoms"
   ]
  },
  {
   "cell_type": "code",
   "execution_count": 283,
   "metadata": {},
   "outputs": [
    {
     "data": {
      "text/plain": [
       "'10372168324263760432 1532407218667788426 8123997949364979769 2886272411128436952 6848688350703886248 5659873519308527469 1117450955247384735 3147015073065317414 8362072971451504049 16354016823072778549 6577438793190394985 8227892226937816184 6112508257762746641 7677014565103478282 14540854680567268928 3116833563327929169 17202863923158278919 5062953570852735656 3187371427276178827 584134206767502645'"
      ]
     },
     "execution_count": 283,
     "metadata": {},
     "output_type": "execute_result"
    }
   ],
   "source": [
    "recoms = item_recommend_by_item(16848414477362211020, filter_this_city = [1, 2])\n",
    "recoms"
   ]
  },
  {
   "cell_type": "code",
   "execution_count": 252,
   "metadata": {},
   "outputs": [
    {
     "data": {
      "text/plain": [
       "9104453017196776235"
      ]
     },
     "execution_count": 252,
     "metadata": {},
     "output_type": "execute_result"
    }
   ],
   "source": [
    "def get_favorite(user, top = 0):\n",
    "    visited_item = reviews[reviews['user_id'] == user].sort_values(by = ['rating', 'org_rating'], ascending = False)['org_id']\n",
    "    assert len(visited_item) > 0,  'Вставить загружку из популярных мест'\n",
    "    return visited_item.iloc[top]\n",
    "\n",
    "get_favorite(699456224774688518, top=0)"
   ]
  },
  {
   "cell_type": "code",
   "execution_count": 253,
   "metadata": {},
   "outputs": [
    {
     "data": {
      "text/html": [
       "<div>\n",
       "<style scoped>\n",
       "    .dataframe tbody tr th:only-of-type {\n",
       "        vertical-align: middle;\n",
       "    }\n",
       "\n",
       "    .dataframe tbody tr th {\n",
       "        vertical-align: top;\n",
       "    }\n",
       "\n",
       "    .dataframe thead th {\n",
       "        text-align: right;\n",
       "    }\n",
       "</style>\n",
       "<table border=\"1\" class=\"dataframe\">\n",
       "  <thead>\n",
       "    <tr style=\"text-align: right;\">\n",
       "      <th></th>\n",
       "      <th>user_id</th>\n",
       "      <th>city</th>\n",
       "    </tr>\n",
       "  </thead>\n",
       "  <tbody>\n",
       "    <tr>\n",
       "      <th>0</th>\n",
       "      <td>3545210947248911048</td>\n",
       "      <td>msk</td>\n",
       "    </tr>\n",
       "    <tr>\n",
       "      <th>1</th>\n",
       "      <td>15271987121288045390</td>\n",
       "      <td>msk</td>\n",
       "    </tr>\n",
       "    <tr>\n",
       "      <th>2</th>\n",
       "      <td>15016858616184265932</td>\n",
       "      <td>msk</td>\n",
       "    </tr>\n",
       "  </tbody>\n",
       "</table>\n",
       "</div>"
      ],
      "text/plain": [
       "                user_id city\n",
       "0   3545210947248911048  msk\n",
       "1  15271987121288045390  msk\n",
       "2  15016858616184265932  msk"
      ]
     },
     "execution_count": 253,
     "metadata": {},
     "output_type": "execute_result"
    }
   ],
   "source": [
    "# выбираем самые популярные места среди туристов из Москвы и Питера\n",
    "msk_orgs_all = org_features[org_features['org_city'] == 'msk']['org_id']\n",
    "msk_orgs = msk_orgs_all.value_counts().index[:N].to_list()\n",
    "\n",
    "spb_orgs_all = org_features[org_features['org_city'] == 'spb']['org_id']\n",
    "spb_orgs = spb_orgs_all.value_counts().index[:N].to_list()\n",
    "\n",
    "\n",
    "msk_orgs = str(' '.join(map(str, msk_orgs)))\n",
    "spb_orgs = str(' '.join(map(str, spb_orgs)))\n",
    "\n",
    "test_users = pd.read_csv('data/test_users.csv')\n",
    "users = pd.read_csv('data/users.csv')\n",
    "test_users = test_users.merge(users, on='user_id')\n",
    "test_users.head(3)"
   ]
  },
  {
   "cell_type": "code",
   "execution_count": 279,
   "metadata": {},
   "outputs": [
    {
     "name": "stderr",
     "output_type": "stream",
     "text": [
      "100%|███████████████████████████████████████████████████████████████████████████| 16967/16967 [02:38<00:00, 106.99it/s]\n"
     ]
    }
   ],
   "source": [
    "filter_this_city_choise = lambda city: spb_orgs_all if city == 'msk' else msk_orgs_all\n",
    "choise = lambda city: spb_orgs if city == 'msk' else msk_orgs\n",
    "\n",
    "for user, city in tqdm(test_users[['user_id','city']].values):\n",
    "    filter_this_city = filter_this_city_choise(city)\n",
    "    visited_item = get_favorite(user, top=0)\n",
    "    \n",
    "    try:\n",
    "        recoms = item_recommend_by_item(visited_item, filter_this_city = filter_this_city)\n",
    "    except:\n",
    "        recoms = choise(city)\n",
    "\n",
    "    test_users.at[test_users['user_id']==user, 'target'] = recoms"
   ]
  },
  {
   "cell_type": "code",
   "execution_count": 284,
   "metadata": {},
   "outputs": [
    {
     "data": {
      "text/html": [
       "<div>\n",
       "<style scoped>\n",
       "    .dataframe tbody tr th:only-of-type {\n",
       "        vertical-align: middle;\n",
       "    }\n",
       "\n",
       "    .dataframe tbody tr th {\n",
       "        vertical-align: top;\n",
       "    }\n",
       "\n",
       "    .dataframe thead th {\n",
       "        text-align: right;\n",
       "    }\n",
       "</style>\n",
       "<table border=\"1\" class=\"dataframe\">\n",
       "  <thead>\n",
       "    <tr style=\"text-align: right;\">\n",
       "      <th></th>\n",
       "      <th>user_id</th>\n",
       "      <th>city</th>\n",
       "      <th>target</th>\n",
       "    </tr>\n",
       "  </thead>\n",
       "  <tbody>\n",
       "    <tr>\n",
       "      <th>0</th>\n",
       "      <td>3545210947248911048</td>\n",
       "      <td>msk</td>\n",
       "      <td>1293335111489340321 4109208953532773386 660941...</td>\n",
       "    </tr>\n",
       "    <tr>\n",
       "      <th>1</th>\n",
       "      <td>15271987121288045390</td>\n",
       "      <td>msk</td>\n",
       "      <td>16848414477362211020 15898295476454639770 1536...</td>\n",
       "    </tr>\n",
       "    <tr>\n",
       "      <th>2</th>\n",
       "      <td>15016858616184265932</td>\n",
       "      <td>msk</td>\n",
       "      <td>16848414477362211020 15898295476454639770 1536...</td>\n",
       "    </tr>\n",
       "    <tr>\n",
       "      <th>3</th>\n",
       "      <td>12457244142928722989</td>\n",
       "      <td>msk</td>\n",
       "      <td>16848414477362211020 15898295476454639770 1536...</td>\n",
       "    </tr>\n",
       "    <tr>\n",
       "      <th>4</th>\n",
       "      <td>13339684649926251468</td>\n",
       "      <td>spb</td>\n",
       "      <td>16178015845392112422 5469965391523691418 11351...</td>\n",
       "    </tr>\n",
       "    <tr>\n",
       "      <th>...</th>\n",
       "      <td>...</td>\n",
       "      <td>...</td>\n",
       "      <td>...</td>\n",
       "    </tr>\n",
       "    <tr>\n",
       "      <th>16962</th>\n",
       "      <td>1191875913294598364</td>\n",
       "      <td>msk</td>\n",
       "      <td>16848414477362211020 15898295476454639770 1536...</td>\n",
       "    </tr>\n",
       "    <tr>\n",
       "      <th>16963</th>\n",
       "      <td>3866507700167344338</td>\n",
       "      <td>msk</td>\n",
       "      <td>16848414477362211020 15898295476454639770 1536...</td>\n",
       "    </tr>\n",
       "    <tr>\n",
       "      <th>16964</th>\n",
       "      <td>11434952144484188987</td>\n",
       "      <td>msk</td>\n",
       "      <td>16848414477362211020 15898295476454639770 1536...</td>\n",
       "    </tr>\n",
       "    <tr>\n",
       "      <th>16965</th>\n",
       "      <td>7010426792722803474</td>\n",
       "      <td>spb</td>\n",
       "      <td>11484547793853272480 7430373696641345570 32173...</td>\n",
       "    </tr>\n",
       "    <tr>\n",
       "      <th>16966</th>\n",
       "      <td>10418580312382148954</td>\n",
       "      <td>msk</td>\n",
       "      <td>16848414477362211020 15898295476454639770 1536...</td>\n",
       "    </tr>\n",
       "  </tbody>\n",
       "</table>\n",
       "<p>16967 rows × 3 columns</p>\n",
       "</div>"
      ],
      "text/plain": [
       "                    user_id city  \\\n",
       "0       3545210947248911048  msk   \n",
       "1      15271987121288045390  msk   \n",
       "2      15016858616184265932  msk   \n",
       "3      12457244142928722989  msk   \n",
       "4      13339684649926251468  spb   \n",
       "...                     ...  ...   \n",
       "16962   1191875913294598364  msk   \n",
       "16963   3866507700167344338  msk   \n",
       "16964  11434952144484188987  msk   \n",
       "16965   7010426792722803474  spb   \n",
       "16966  10418580312382148954  msk   \n",
       "\n",
       "                                                  target  \n",
       "0      1293335111489340321 4109208953532773386 660941...  \n",
       "1      16848414477362211020 15898295476454639770 1536...  \n",
       "2      16848414477362211020 15898295476454639770 1536...  \n",
       "3      16848414477362211020 15898295476454639770 1536...  \n",
       "4      16178015845392112422 5469965391523691418 11351...  \n",
       "...                                                  ...  \n",
       "16962  16848414477362211020 15898295476454639770 1536...  \n",
       "16963  16848414477362211020 15898295476454639770 1536...  \n",
       "16964  16848414477362211020 15898295476454639770 1536...  \n",
       "16965  11484547793853272480 7430373696641345570 32173...  \n",
       "16966  16848414477362211020 15898295476454639770 1536...  \n",
       "\n",
       "[16967 rows x 3 columns]"
      ]
     },
     "execution_count": 284,
     "metadata": {},
     "output_type": "execute_result"
    }
   ],
   "source": [
    "test_users.sample(10)"
   ]
  },
  {
   "cell_type": "code",
   "execution_count": 285,
   "metadata": {},
   "outputs": [],
   "source": [
    "test_users.drop('city', axis=1).to_csv('answers_NLP_cos_sim.csv', index=None)"
   ]
  },
  {
   "cell_type": "markdown",
   "metadata": {},
   "source": [
    "# LightFM (Саша)"
   ]
  },
  {
   "cell_type": "code",
   "execution_count": null,
   "metadata": {},
   "outputs": [],
   "source": []
  },
  {
   "cell_type": "code",
   "execution_count": null,
   "metadata": {},
   "outputs": [],
   "source": []
  },
  {
   "cell_type": "code",
   "execution_count": null,
   "metadata": {},
   "outputs": [],
   "source": [
    "from lightfm import LightFM\n",
    "from lightfm.datasets import fetch_movielens\n",
    "from lightfm.evaluation import precision_at_k\n",
    "\n",
    "# Instantiate and train the model\n",
    "\n",
    "\n",
    "predictions = X_test[['user_id']].copy()\n",
    "predictions['target'] = pd.Series(dtype=object)\n",
    "predictions = predictions.set_index('user_id')\n",
    "\n",
    "\n",
    "msk_interactions = interaction_matrix(train_reviews,\n",
    "                                      test_users_with_locations[test_users_with_locations['city'] == 'msk'],\n",
    "                                      city = 'msk')\n",
    "\n",
    "interactions, (train_users_len, inner_orgs_len), mappings = msk_interactions\n",
    "(index_to_uid, uid_to_index), (index_to_oid, oid_to_index) = mappings"
   ]
  },
  {
   "cell_type": "code",
   "execution_count": null,
   "metadata": {},
   "outputs": [],
   "source": [
    "model = LightFM(loss='warp')\n",
    "\n",
    "model.fit(interactions,\n",
    "#           user_features=user_features,\n",
    "#           item_features=item_features,\n",
    "          epochs=20)\n",
    "print('Обучился')\n",
    "test_item_ids = np.arange(inner_orgs_len)\n",
    "test_user_ids = np.arange(train_users_len)\n",
    "\n",
    "predictions = model.predict(test_user_ids,\n",
    "                            test_item_ids,\n",
    "#                             user_features=user_features,\n",
    "#                             item_features=item_features\n",
    "                           )\n",
    "\n",
    "\n",
    "# # Evaluate the trained model\n",
    "# test_precision = precision_at_k(model, data['test'], k=5).mean()\n",
    "# test_precision"
   ]
  },
  {
   "cell_type": "code",
   "execution_count": null,
   "metadata": {},
   "outputs": [],
   "source": [
    " "
   ]
  }
 ],
 "metadata": {
  "jupytercloud": {
   "vault": {
    "secrets": [
     {
      "name": "yt_secrets",
      "uuid": "sec-01fd5qjpw0xwwpv6t83wc41tp8"
     }
    ]
   }
  },
  "kernelspec": {
   "display_name": "Python 3",
   "language": "python",
   "name": "python3"
  },
  "language_info": {
   "codemirror_mode": {
    "name": "ipython",
    "version": 3
   },
   "file_extension": ".py",
   "mimetype": "text/x-python",
   "name": "python",
   "nbconvert_exporter": "python",
   "pygments_lexer": "ipython3",
   "version": "3.8.5"
  },
  "toc": {
   "base_numbering": 1,
   "nav_menu": {},
   "number_sections": true,
   "sideBar": true,
   "skip_h1_title": false,
   "title_cell": "Table of Contents",
   "title_sidebar": "Contents",
   "toc_cell": false,
   "toc_position": {},
   "toc_section_display": true,
   "toc_window_display": false
  }
 },
 "nbformat": 4,
 "nbformat_minor": 5
}
