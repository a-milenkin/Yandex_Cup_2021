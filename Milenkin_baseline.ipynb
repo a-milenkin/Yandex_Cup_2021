{
 "cells": [
  {
   "cell_type": "code",
   "execution_count": null,
   "metadata": {},
   "outputs": [],
   "source": [
    "import numpy as np\n",
    "import pandas as pd\n",
    "\n",
    "import matplotlib.pyplot as plt\n",
    "import seaborn as sns\n",
    "\n",
    "from scipy import sparse\n",
    "from tqdm.notebook import tqdm\n",
    "\n",
    "%matplotlib inline"
   ]
  },
  {
   "cell_type": "code",
   "execution_count": null,
   "metadata": {},
   "outputs": [],
   "source": [
    " "
   ]
  },
  {
   "cell_type": "markdown",
   "metadata": {},
   "source": [
    "# Сырые данные"
   ]
  },
  {
   "cell_type": "markdown",
   "metadata": {},
   "source": [
    "## Считываем данные из .csv"
   ]
  },
  {
   "cell_type": "markdown",
   "metadata": {},
   "source": [
    "Некоторые данные (такие как рубрики и признаки), представлены строками значений. Преобразуем их в списки чисел. "
   ]
  },
  {
   "cell_type": "code",
   "execution_count": null,
   "metadata": {},
   "outputs": [],
   "source": [
    "to_list = lambda rubrics: [int(rubric) for rubric in str(rubrics).split(' ')]\n",
    "def apply_to_columns(df, columns, func=to_list):\n",
    "    for column in columns:\n",
    "        df.loc[~df[column].isnull(), column] = df.loc[~df[column].isnull(), column].apply(func)"
   ]
  },
  {
   "cell_type": "markdown",
   "metadata": {},
   "source": [
    "В первую очередь нам понадобятся данные по __пользователям__, __организациям__ и сами __отзывы__. "
   ]
  },
  {
   "cell_type": "code",
   "execution_count": null,
   "metadata": {},
   "outputs": [],
   "source": [
    "users = pd.read_csv('data/users.csv') # Информация о городе проживания пользователя:\n",
    "print('Users: ', users['user_id'].nunique())\n",
    "users.head(3)"
   ]
  },
  {
   "cell_type": "code",
   "execution_count": null,
   "metadata": {},
   "outputs": [],
   "source": [
    "orgs = pd.read_csv('data/organisations.csv') # Описание извлекаемых из отзывов аспектов. \n",
    "# Множество аспектов извлекается из отзыва с помощью NLP-алгоритма и может быть неточным.\n",
    "print('Orgs: ', orgs['org_id'].nunique())\n",
    "orgs.city.value_counts()"
   ]
  },
  {
   "cell_type": "markdown",
   "metadata": {},
   "source": [
    "`organisations.csv` - Информация об организациях:\n",
    "\n",
    "* `org_id:` идентификатор организации\n",
    "* `city_id:` город организации\n",
    "* `average_bill:` средний чек в рублях (округленный с точностью до 500 рублей)\n",
    "* `avg_rating:` средний рейтинг (в том числе с учетом не перечисленных в файле reviews.csv отзывов и оценок)\n",
    "* `rubric_id:` рубрика опрганизации\n",
    "* `feature_ids:` набор известных особенностей данной организации."
   ]
  },
  {
   "cell_type": "code",
   "execution_count": 5,
   "metadata": {},
   "outputs": [
    {
     "data": {
      "text/html": [
       "<div>\n",
       "<style scoped>\n",
       "    .dataframe tbody tr th:only-of-type {\n",
       "        vertical-align: middle;\n",
       "    }\n",
       "\n",
       "    .dataframe tbody tr th {\n",
       "        vertical-align: top;\n",
       "    }\n",
       "\n",
       "    .dataframe thead th {\n",
       "        text-align: right;\n",
       "    }\n",
       "</style>\n",
       "<table border=\"1\" class=\"dataframe\">\n",
       "  <thead>\n",
       "    <tr style=\"text-align: right;\">\n",
       "      <th></th>\n",
       "      <th>org_id</th>\n",
       "      <th>city</th>\n",
       "      <th>average_bill</th>\n",
       "      <th>rating</th>\n",
       "      <th>rubrics_id</th>\n",
       "      <th>features_id</th>\n",
       "    </tr>\n",
       "  </thead>\n",
       "  <tbody>\n",
       "    <tr>\n",
       "      <th>23622</th>\n",
       "      <td>14333231505069945775</td>\n",
       "      <td>msk</td>\n",
       "      <td>1500.0</td>\n",
       "      <td>5.00000</td>\n",
       "      <td>[30776]</td>\n",
       "      <td>[246, 1018, 1509, 11177, 11617, 11629, 11867, ...</td>\n",
       "    </tr>\n",
       "    <tr>\n",
       "      <th>36695</th>\n",
       "      <td>10881793911849420234</td>\n",
       "      <td>msk</td>\n",
       "      <td>NaN</td>\n",
       "      <td>5.00000</td>\n",
       "      <td>[30776]</td>\n",
       "      <td>NaN</td>\n",
       "    </tr>\n",
       "    <tr>\n",
       "      <th>30229</th>\n",
       "      <td>7496799255859246316</td>\n",
       "      <td>spb</td>\n",
       "      <td>500.0</td>\n",
       "      <td>4.31405</td>\n",
       "      <td>[30776, 30774]</td>\n",
       "      <td>[246, 1018, 1509, 11177, 11617, 11629, 11704, ...</td>\n",
       "    </tr>\n",
       "  </tbody>\n",
       "</table>\n",
       "</div>"
      ],
      "text/plain": [
       "                     org_id city  average_bill   rating      rubrics_id  \\\n",
       "23622  14333231505069945775  msk        1500.0  5.00000         [30776]   \n",
       "36695  10881793911849420234  msk           NaN  5.00000         [30776]   \n",
       "30229   7496799255859246316  spb         500.0  4.31405  [30776, 30774]   \n",
       "\n",
       "                                             features_id  \n",
       "23622  [246, 1018, 1509, 11177, 11617, 11629, 11867, ...  \n",
       "36695                                                NaN  \n",
       "30229  [246, 1018, 1509, 11177, 11617, 11629, 11704, ...  "
      ]
     },
     "execution_count": 5,
     "metadata": {},
     "output_type": "execute_result"
    }
   ],
   "source": [
    "columns = ['rubrics_id', 'features_id'] # create lists\n",
    "apply_to_columns(orgs, columns)\n",
    "orgs.sample(3)"
   ]
  },
  {
   "cell_type": "code",
   "execution_count": 6,
   "metadata": {},
   "outputs": [],
   "source": [
    "def count_feature(x):\n",
    "    try:\n",
    "        return len(x)\n",
    "    except:\n",
    "        return 0\n",
    "    \n",
    "orgs['feature_count'] = orgs['features_id'].apply(count_feature)"
   ]
  },
  {
   "cell_type": "code",
   "execution_count": 49,
   "metadata": {},
   "outputs": [],
   "source": [
    "# # orgs.feature_count.hist()\n",
    "# orgs.average_bill.value_counts()"
   ]
  },
  {
   "cell_type": "markdown",
   "metadata": {},
   "source": [
    " "
   ]
  },
  {
   "cell_type": "markdown",
   "metadata": {},
   "source": [
    "Чтобы не делать __join__ каждый раз, когда нам потребуется узнать, из какого города организация или пользователь, сразу добавим эту информацию в отзывы - `reviews.csv` - обучающее множество собрано за `X = 1217` дней, тестовое множество – за последующие `Y = 107` дней.\n",
    "\n",
    "В этом файле дана информация об отзывах и оценках, оставленных некоторым множеством жителей Москвы и Санкт-Петерубрга в течение обучающего периода:\n",
    "\n",
    "* `user_id`: идентификатор пользователя\n",
    "* `org_id`: идентификатор организации\n",
    "* `ts`: время отзыва (в днях от начала обучающего периода)\n",
    "* `rating`: поставленная оценка\n",
    "* `aspect_ids`: набор упомянутых в тексте отзыва аспектов."
   ]
  },
  {
   "cell_type": "code",
   "execution_count": 8,
   "metadata": {},
   "outputs": [
    {
     "name": "stdout",
     "output_type": "stream",
     "text": [
      "Reviews:  3640835\n",
      "Users review:  1252801\n",
      "Приклеим информацию по юзерам\n",
      "Приклеим информацию по организациям\n",
      "Удалим дубли\n",
      "Выброшено дублей:  58038\n"
     ]
    },
    {
     "data": {
      "text/html": [
       "<div>\n",
       "<style scoped>\n",
       "    .dataframe tbody tr th:only-of-type {\n",
       "        vertical-align: middle;\n",
       "    }\n",
       "\n",
       "    .dataframe tbody tr th {\n",
       "        vertical-align: top;\n",
       "    }\n",
       "\n",
       "    .dataframe thead th {\n",
       "        text-align: right;\n",
       "    }\n",
       "</style>\n",
       "<table border=\"1\" class=\"dataframe\">\n",
       "  <thead>\n",
       "    <tr style=\"text-align: right;\">\n",
       "      <th></th>\n",
       "      <th>user_id</th>\n",
       "      <th>org_id</th>\n",
       "      <th>rating</th>\n",
       "      <th>ts</th>\n",
       "      <th>aspects</th>\n",
       "      <th>user_city</th>\n",
       "      <th>org_city</th>\n",
       "      <th>org_rating</th>\n",
       "    </tr>\n",
       "  </thead>\n",
       "  <tbody>\n",
       "    <tr>\n",
       "      <th>1294607</th>\n",
       "      <td>2415553412889707877</td>\n",
       "      <td>9848824086403219628</td>\n",
       "      <td>3.0</td>\n",
       "      <td>969</td>\n",
       "      <td>NaN</td>\n",
       "      <td>msk</td>\n",
       "      <td>msk</td>\n",
       "      <td>4.073394</td>\n",
       "    </tr>\n",
       "    <tr>\n",
       "      <th>870141</th>\n",
       "      <td>16168320046015192682</td>\n",
       "      <td>4865323687709925224</td>\n",
       "      <td>5.0</td>\n",
       "      <td>463</td>\n",
       "      <td>NaN</td>\n",
       "      <td>msk</td>\n",
       "      <td>msk</td>\n",
       "      <td>3.944611</td>\n",
       "    </tr>\n",
       "    <tr>\n",
       "      <th>113860</th>\n",
       "      <td>3528343187284594679</td>\n",
       "      <td>1301476812852578714</td>\n",
       "      <td>5.0</td>\n",
       "      <td>811</td>\n",
       "      <td>[38, 250]</td>\n",
       "      <td>msk</td>\n",
       "      <td>msk</td>\n",
       "      <td>4.478261</td>\n",
       "    </tr>\n",
       "    <tr>\n",
       "      <th>1516344</th>\n",
       "      <td>12178905968123592159</td>\n",
       "      <td>6755179149394338096</td>\n",
       "      <td>5.0</td>\n",
       "      <td>841</td>\n",
       "      <td>NaN</td>\n",
       "      <td>msk</td>\n",
       "      <td>msk</td>\n",
       "      <td>4.450528</td>\n",
       "    </tr>\n",
       "    <tr>\n",
       "      <th>1023424</th>\n",
       "      <td>17054877391689562803</td>\n",
       "      <td>7477408291653861791</td>\n",
       "      <td>5.0</td>\n",
       "      <td>1141</td>\n",
       "      <td>NaN</td>\n",
       "      <td>spb</td>\n",
       "      <td>spb</td>\n",
       "      <td>4.605860</td>\n",
       "    </tr>\n",
       "    <tr>\n",
       "      <th>1868201</th>\n",
       "      <td>3171699618276461571</td>\n",
       "      <td>8345870835765512040</td>\n",
       "      <td>3.0</td>\n",
       "      <td>565</td>\n",
       "      <td>NaN</td>\n",
       "      <td>msk</td>\n",
       "      <td>msk</td>\n",
       "      <td>NaN</td>\n",
       "    </tr>\n",
       "    <tr>\n",
       "      <th>3357894</th>\n",
       "      <td>1670080024081568636</td>\n",
       "      <td>12046097390037935713</td>\n",
       "      <td>5.0</td>\n",
       "      <td>271</td>\n",
       "      <td>NaN</td>\n",
       "      <td>spb</td>\n",
       "      <td>spb</td>\n",
       "      <td>4.518920</td>\n",
       "    </tr>\n",
       "    <tr>\n",
       "      <th>3047753</th>\n",
       "      <td>11653300097075988327</td>\n",
       "      <td>9098912819528182116</td>\n",
       "      <td>5.0</td>\n",
       "      <td>1118</td>\n",
       "      <td>NaN</td>\n",
       "      <td>spb</td>\n",
       "      <td>spb</td>\n",
       "      <td>3.727273</td>\n",
       "    </tr>\n",
       "    <tr>\n",
       "      <th>615765</th>\n",
       "      <td>5001108453817132419</td>\n",
       "      <td>17479897902602796445</td>\n",
       "      <td>5.0</td>\n",
       "      <td>698</td>\n",
       "      <td>[4, 6]</td>\n",
       "      <td>spb</td>\n",
       "      <td>spb</td>\n",
       "      <td>4.331950</td>\n",
       "    </tr>\n",
       "    <tr>\n",
       "      <th>248925</th>\n",
       "      <td>16343343894900170502</td>\n",
       "      <td>15022016214424952049</td>\n",
       "      <td>5.0</td>\n",
       "      <td>905</td>\n",
       "      <td>[9]</td>\n",
       "      <td>spb</td>\n",
       "      <td>spb</td>\n",
       "      <td>4.718638</td>\n",
       "    </tr>\n",
       "  </tbody>\n",
       "</table>\n",
       "</div>"
      ],
      "text/plain": [
       "                      user_id                org_id  rating    ts    aspects  \\\n",
       "1294607   2415553412889707877   9848824086403219628     3.0   969        NaN   \n",
       "870141   16168320046015192682   4865323687709925224     5.0   463        NaN   \n",
       "113860    3528343187284594679   1301476812852578714     5.0   811  [38, 250]   \n",
       "1516344  12178905968123592159   6755179149394338096     5.0   841        NaN   \n",
       "1023424  17054877391689562803   7477408291653861791     5.0  1141        NaN   \n",
       "1868201   3171699618276461571   8345870835765512040     3.0   565        NaN   \n",
       "3357894   1670080024081568636  12046097390037935713     5.0   271        NaN   \n",
       "3047753  11653300097075988327   9098912819528182116     5.0  1118        NaN   \n",
       "615765    5001108453817132419  17479897902602796445     5.0   698     [4, 6]   \n",
       "248925   16343343894900170502  15022016214424952049     5.0   905        [9]   \n",
       "\n",
       "        user_city org_city  org_rating  \n",
       "1294607       msk      msk    4.073394  \n",
       "870141        msk      msk    3.944611  \n",
       "113860        msk      msk    4.478261  \n",
       "1516344       msk      msk    4.450528  \n",
       "1023424       spb      spb    4.605860  \n",
       "1868201       msk      msk         NaN  \n",
       "3357894       spb      spb    4.518920  \n",
       "3047753       spb      spb    3.727273  \n",
       "615765        spb      spb    4.331950  \n",
       "248925        spb      spb    4.718638  "
      ]
     },
     "execution_count": 8,
     "metadata": {},
     "output_type": "execute_result"
    }
   ],
   "source": [
    "reviews = pd.read_csv('data/reviews.csv', low_memory=False)\n",
    "\n",
    "print('Reviews: ', len(reviews))\n",
    "print('Users review: ', reviews.user_id.nunique())\n",
    "\n",
    "# encode users ids as numeric\n",
    "print('Приклеим информацию по юзерам')\n",
    "reviews = reviews.merge(users, on='user_id', how='left')\n",
    "reviews = reviews.rename({'city': 'user_city'}, axis=1)\n",
    "\n",
    "print('Приклеим информацию по организациям')\n",
    "orgs.rename({'rating': 'org_rating'}, axis=1, inplace=True)\n",
    "reviews = reviews.merge(orgs[['org_id', 'city','org_rating']], on='org_id', how='left') # encode orgs ids as numeric\n",
    "reviews = reviews.rename({'city': 'org_city'}, axis=1)\n",
    "\n",
    "\n",
    "columns = ['aspects'] # create lists\n",
    "apply_to_columns(reviews, columns)\n",
    "\n",
    "print('Удалим дубли')\n",
    "len_before_drop_duplics = len(reviews)\n",
    "reviews.drop_duplicates(['user_id', 'org_id','rating','ts','user_city','org_city'], inplace=True) # Удаляем дубли\n",
    "len_after_drop_duplics = len(reviews)\n",
    "print('Выброшено дублей: ', len_before_drop_duplics - len_after_drop_duplics)\n",
    "\n",
    "reviews.sample(10)"
   ]
  },
  {
   "cell_type": "code",
   "execution_count": 9,
   "metadata": {},
   "outputs": [],
   "source": [
    "# activity.columns, reviews.columns"
   ]
  },
  {
   "cell_type": "code",
   "execution_count": 10,
   "metadata": {},
   "outputs": [
    {
     "name": "stdout",
     "output_type": "stream",
     "text": [
      "Добавим фичей\n"
     ]
    },
    {
     "data": {
      "text/html": [
       "<div>\n",
       "<style scoped>\n",
       "    .dataframe tbody tr th:only-of-type {\n",
       "        vertical-align: middle;\n",
       "    }\n",
       "\n",
       "    .dataframe tbody tr th {\n",
       "        vertical-align: top;\n",
       "    }\n",
       "\n",
       "    .dataframe thead th {\n",
       "        text-align: right;\n",
       "    }\n",
       "</style>\n",
       "<table border=\"1\" class=\"dataframe\">\n",
       "  <thead>\n",
       "    <tr style=\"text-align: right;\">\n",
       "      <th></th>\n",
       "      <th>user_id</th>\n",
       "      <th>org_id</th>\n",
       "      <th>rating</th>\n",
       "      <th>ts</th>\n",
       "      <th>aspects</th>\n",
       "      <th>user_city</th>\n",
       "      <th>org_city</th>\n",
       "      <th>org_rating</th>\n",
       "      <th>aspect_count</th>\n",
       "      <th>user_mean_rating</th>\n",
       "      <th>user_review_activity</th>\n",
       "      <th>user_aspect_activity</th>\n",
       "    </tr>\n",
       "  </thead>\n",
       "  <tbody>\n",
       "    <tr>\n",
       "      <th>0</th>\n",
       "      <td>16998268288908323644</td>\n",
       "      <td>7184895086928047809</td>\n",
       "      <td>2.0</td>\n",
       "      <td>105</td>\n",
       "      <td>NaN</td>\n",
       "      <td>msk</td>\n",
       "      <td>msk</td>\n",
       "      <td>4.038688</td>\n",
       "      <td>0</td>\n",
       "      <td>3.25</td>\n",
       "      <td>4</td>\n",
       "      <td>0</td>\n",
       "    </tr>\n",
       "    <tr>\n",
       "      <th>1</th>\n",
       "      <td>12235230637700316274</td>\n",
       "      <td>11420440322893824394</td>\n",
       "      <td>3.0</td>\n",
       "      <td>890</td>\n",
       "      <td>[17]</td>\n",
       "      <td>msk</td>\n",
       "      <td>msk</td>\n",
       "      <td>3.750000</td>\n",
       "      <td>1</td>\n",
       "      <td>3.00</td>\n",
       "      <td>7</td>\n",
       "      <td>1</td>\n",
       "    </tr>\n",
       "    <tr>\n",
       "      <th>2</th>\n",
       "      <td>2706795762761414590</td>\n",
       "      <td>11993738663105455885</td>\n",
       "      <td>3.0</td>\n",
       "      <td>936</td>\n",
       "      <td>NaN</td>\n",
       "      <td>spb</td>\n",
       "      <td>spb</td>\n",
       "      <td>4.078873</td>\n",
       "      <td>0</td>\n",
       "      <td>4.00</td>\n",
       "      <td>6</td>\n",
       "      <td>1</td>\n",
       "    </tr>\n",
       "    <tr>\n",
       "      <th>3</th>\n",
       "      <td>2522006254806484630</td>\n",
       "      <td>18200844491365025705</td>\n",
       "      <td>3.0</td>\n",
       "      <td>1048</td>\n",
       "      <td>[6]</td>\n",
       "      <td>spb</td>\n",
       "      <td>spb</td>\n",
       "      <td>4.460784</td>\n",
       "      <td>1</td>\n",
       "      <td>4.40</td>\n",
       "      <td>5</td>\n",
       "      <td>10</td>\n",
       "    </tr>\n",
       "    <tr>\n",
       "      <th>4</th>\n",
       "      <td>2035736119522953868</td>\n",
       "      <td>7143808482480365209</td>\n",
       "      <td>5.0</td>\n",
       "      <td>1185</td>\n",
       "      <td>NaN</td>\n",
       "      <td>spb</td>\n",
       "      <td>spb</td>\n",
       "      <td>4.226582</td>\n",
       "      <td>0</td>\n",
       "      <td>5.00</td>\n",
       "      <td>1</td>\n",
       "      <td>0</td>\n",
       "    </tr>\n",
       "  </tbody>\n",
       "</table>\n",
       "</div>"
      ],
      "text/plain": [
       "                user_id                org_id  rating    ts aspects user_city  \\\n",
       "0  16998268288908323644   7184895086928047809     2.0   105     NaN       msk   \n",
       "1  12235230637700316274  11420440322893824394     3.0   890    [17]       msk   \n",
       "2   2706795762761414590  11993738663105455885     3.0   936     NaN       spb   \n",
       "3   2522006254806484630  18200844491365025705     3.0  1048     [6]       spb   \n",
       "4   2035736119522953868   7143808482480365209     5.0  1185     NaN       spb   \n",
       "\n",
       "  org_city  org_rating  aspect_count  user_mean_rating  user_review_activity  \\\n",
       "0      msk    4.038688             0              3.25                     4   \n",
       "1      msk    3.750000             1              3.00                     7   \n",
       "2      spb    4.078873             0              4.00                     6   \n",
       "3      spb    4.460784             1              4.40                     5   \n",
       "4      spb    4.226582             0              5.00                     1   \n",
       "\n",
       "   user_aspect_activity  \n",
       "0                     0  \n",
       "1                     1  \n",
       "2                     1  \n",
       "3                    10  \n",
       "4                     0  "
      ]
     },
     "execution_count": 10,
     "metadata": {},
     "output_type": "execute_result"
    }
   ],
   "source": [
    "print(\"Добавим фичей\")    \n",
    "reviews['aspect_count'] = reviews['aspects'].apply(count_feature)\n",
    "activity = reviews.groupby(by='user_id', as_index = False).agg(\n",
    "    user_mean_rating = ('rating', 'mean'),\n",
    "    user_review_activity = ('rating', 'count'),\n",
    "    user_aspect_activity = ('aspect_count', 'sum'))\n",
    "\n",
    "reviews = reviews.merge(activity[['user_id', 'user_mean_rating',\n",
    "                                  'user_review_activity', 'user_aspect_activity']], on='user_id', how='left') # encode orgs ids as numeric\n",
    "reviews.head(5)\n"
   ]
  },
  {
   "cell_type": "code",
   "execution_count": null,
   "metadata": {},
   "outputs": [],
   "source": [
    " "
   ]
  },
  {
   "cell_type": "markdown",
   "metadata": {},
   "source": [
    "**Отлично, теперь с отзывами будет удобно работать.**  Посмотрим на распределение новых отзывов по дням, чтобы понять, как лучше организовать валидацию. "
   ]
  },
  {
   "cell_type": "code",
   "execution_count": null,
   "metadata": {},
   "outputs": [],
   "source": [
    "sns.displot(data=reviews, x='ts', height=8, wight=10)\n",
    "plt.title('Распределение отзывов по дням')\n",
    "plt.show()"
   ]
  },
  {
   "cell_type": "markdown",
   "metadata": {},
   "source": [
    "# Train-test split"
   ]
  },
  {
   "cell_type": "code",
   "execution_count": 12,
   "metadata": {},
   "outputs": [],
   "source": [
    "from func import clear_df, extract_unique, count_unique, filter_reviews, train_test_split, process_reviews"
   ]
  },
  {
   "cell_type": "code",
   "execution_count": 13,
   "metadata": {},
   "outputs": [
    {
     "name": "stdout",
     "output_type": "stream",
     "text": [
      "Дней 1216\n"
     ]
    }
   ],
   "source": [
    "print('Дней', reviews['ts'].max())"
   ]
  },
  {
   "cell_type": "markdown",
   "metadata": {},
   "source": [
    "**Всего в выборку попали отызывы за 1216 дней.**  Отложим в тестовую выборку отзывы за последние **100** дней."
   ]
  },
  {
   "cell_type": "code",
   "execution_count": 14,
   "metadata": {},
   "outputs": [],
   "source": [
    "train_reviews, test_reviews = train_test_split(reviews, 1116)\n",
    "X_test, y_test = process_reviews(test_reviews)"
   ]
  },
  {
   "cell_type": "markdown",
   "metadata": {},
   "source": [
    "Посмотрим, сколько всего уникальных пользователей попало в эту тестовую выборку:"
   ]
  },
  {
   "cell_type": "code",
   "execution_count": 15,
   "metadata": {},
   "outputs": [
    {
     "data": {
      "text/plain": [
       "12044"
      ]
     },
     "execution_count": 15,
     "metadata": {},
     "output_type": "execute_result"
    }
   ],
   "source": [
    "len(X_test)"
   ]
  },
  {
   "cell_type": "markdown",
   "metadata": {},
   "source": [
    "# Метрика"
   ]
  },
  {
   "cell_type": "markdown",
   "metadata": {},
   "source": [
    "Метрика принимает на вход два DataFrame, имеющих такую же структуру, как и **y_test**. `print_score` домножает реальное значение метрики на `100` так же, как и в контесте. Подобная имплементация используется для оценки **submission**."
   ]
  },
  {
   "cell_type": "code",
   "execution_count": 16,
   "metadata": {},
   "outputs": [],
   "source": [
    "from func import MNAP, print_score"
   ]
  },
  {
   "cell_type": "code",
   "execution_count": 17,
   "metadata": {},
   "outputs": [],
   "source": [
    "N = 20\n",
    "MNAP_N = MNAP(N)"
   ]
  },
  {
   "cell_type": "markdown",
   "metadata": {},
   "source": [
    "# Подходы без машинного обучения"
   ]
  },
  {
   "cell_type": "markdown",
   "metadata": {},
   "source": [
    "## Случайные N мест"
   ]
  },
  {
   "cell_type": "markdown",
   "metadata": {},
   "source": [
    "Попробуем предлагать пользователям случайные места из другого города. "
   ]
  },
  {
   "cell_type": "code",
   "execution_count": 18,
   "metadata": {},
   "outputs": [],
   "source": [
    "# spb_orgs = orgs[orgs['city'] == 'spb']['org_id']\n",
    "# msk_orgs = orgs[orgs['city'] == 'msk']['org_id']\n",
    "\n",
    "test_users_with_locations = X_test.merge(users, on='user_id')"
   ]
  },
  {
   "cell_type": "markdown",
   "metadata": {},
   "source": [
    "## N самых популярных мест"
   ]
  },
  {
   "cell_type": "markdown",
   "metadata": {},
   "source": [
    "Предыдущий подход, очевидно, не очень удачно предсказывает, какие места посетит пользователей. \n",
    "\n",
    "Попробуем улучшить стратегию: будем предлагать пользователям самые популярные места, то есть те, на которые оставлено больше всего отзывов. "
   ]
  },
  {
   "cell_type": "code",
   "execution_count": 19,
   "metadata": {},
   "outputs": [],
   "source": [
    "msk_orgs = train_reviews[(train_reviews['rating'] >= 4) & (train_reviews['org_city'] == 'msk')]['org_id']\n",
    "msk_orgs = msk_orgs.value_counts().index[:N].to_list()\n",
    "\n",
    "spb_orgs = train_reviews[(train_reviews['rating'] >= 4) & (train_reviews['org_city'] == 'spb')]['org_id']\n",
    "spb_orgs = spb_orgs.value_counts().index[:N].to_list()"
   ]
  },
  {
   "cell_type": "code",
   "execution_count": 20,
   "metadata": {},
   "outputs": [
    {
     "name": "stdout",
     "output_type": "stream",
     "text": [
      "Score: 4.24\n"
     ]
    }
   ],
   "source": [
    "choose = lambda x: spb_orgs if x['city'] == 'msk' else msk_orgs\n",
    "target = test_users_with_locations.apply(choose, axis=1)\n",
    "\n",
    "predictions = X_test.copy()\n",
    "predictions['target'] = target\n",
    "\n",
    "print_score(MNAP_N(y_test, predictions))"
   ]
  },
  {
   "cell_type": "markdown",
   "metadata": {},
   "source": [
    "Отлично, метрика немного улучшилась. Но стоит попробовать доработать эту тактику. "
   ]
  },
  {
   "cell_type": "markdown",
   "metadata": {},
   "source": [
    "## N самых популярных мест среди туристов"
   ]
  },
  {
   "cell_type": "code",
   "execution_count": 21,
   "metadata": {},
   "outputs": [],
   "source": [
    "tourist_reviews = train_reviews[train_reviews['rating'] >= 4.0]\n",
    "\n",
    "# набор отзывов только от туристов\n",
    "tourist_reviews = tourist_reviews[tourist_reviews['user_city'] != tourist_reviews['org_city']]\n",
    "\n",
    "# выбираем самые популярные места среди туристов из Москвы и Питера\n",
    "msk_orgs = tourist_reviews[tourist_reviews['org_city'] == 'msk']['org_id']\n",
    "msk_orgs = msk_orgs.value_counts().index[:N].to_list()\n",
    "\n",
    "spb_orgs = tourist_reviews[tourist_reviews['org_city'] == 'spb']['org_id']\n",
    "spb_orgs = spb_orgs.value_counts().index[:N].to_list()"
   ]
  },
  {
   "cell_type": "code",
   "execution_count": 22,
   "metadata": {},
   "outputs": [
    {
     "name": "stdout",
     "output_type": "stream",
     "text": [
      "Score: 6.44\n"
     ]
    }
   ],
   "source": [
    "choose = lambda x: spb_orgs if x['city'] == 'msk' else msk_orgs\n",
    "target = test_users_with_locations.apply(choose, axis=1)\n",
    "\n",
    "predictions = X_test.copy()\n",
    "predictions['target'] = target\n",
    "\n",
    "print_score(MNAP_N(y_test, predictions))"
   ]
  },
  {
   "cell_type": "markdown",
   "metadata": {},
   "source": [
    "Метрика улучшилась ещё!"
   ]
  },
  {
   "cell_type": "markdown",
   "metadata": {},
   "source": [
    "# N самых популярных мест среди туристов с учетом оценки заведения"
   ]
  },
  {
   "cell_type": "code",
   "execution_count": 23,
   "metadata": {},
   "outputs": [],
   "source": [
    "tourist_reviews = train_reviews[(train_reviews['rating'] >= 4.0) & (train_reviews['org_rating'] >=  4.0)]\n",
    "\n",
    "# набор отзывов только от туристов\n",
    "tourist_reviews = tourist_reviews[tourist_reviews['user_city'] != tourist_reviews['org_city']]\n",
    "\n",
    "# выбираем самые популярные места среди туристов из Москвы и Питера\n",
    "msk_orgs = tourist_reviews[tourist_reviews['org_city'] == 'msk']['org_id']\n",
    "msk_orgs = msk_orgs.value_counts().index[:N].to_list()\n",
    "\n",
    "spb_orgs = tourist_reviews[tourist_reviews['org_city'] == 'spb']['org_id']\n",
    "spb_orgs = spb_orgs.value_counts().index[:N].to_list()"
   ]
  },
  {
   "cell_type": "code",
   "execution_count": 24,
   "metadata": {},
   "outputs": [
    {
     "name": "stdout",
     "output_type": "stream",
     "text": [
      "Score: 6.50\n"
     ]
    }
   ],
   "source": [
    "choose = lambda x: spb_orgs if x['city'] == 'msk' else msk_orgs\n",
    "target = test_users_with_locations.apply(choose, axis=1)\n",
    "\n",
    "predictions = X_test.copy()\n",
    "predictions['target'] = target\n",
    "\n",
    "print_score(MNAP_N(y_test, predictions))"
   ]
  },
  {
   "cell_type": "markdown",
   "metadata": {},
   "source": [
    "Метрика улучшилась ещё немного."
   ]
  },
  {
   "cell_type": "markdown",
   "metadata": {},
   "source": [
    "## N / rubrics_count самых популярных мест из каждой рубрики"
   ]
  },
  {
   "cell_type": "code",
   "execution_count": 25,
   "metadata": {},
   "outputs": [],
   "source": [
    "from func import extract_top_by_rubrics"
   ]
  },
  {
   "cell_type": "code",
   "execution_count": 26,
   "metadata": {},
   "outputs": [
    {
     "data": {
      "text/html": [
       "<div>\n",
       "<style scoped>\n",
       "    .dataframe tbody tr th:only-of-type {\n",
       "        vertical-align: middle;\n",
       "    }\n",
       "\n",
       "    .dataframe tbody tr th {\n",
       "        vertical-align: top;\n",
       "    }\n",
       "\n",
       "    .dataframe thead th {\n",
       "        text-align: right;\n",
       "    }\n",
       "</style>\n",
       "<table border=\"1\" class=\"dataframe\">\n",
       "  <thead>\n",
       "    <tr style=\"text-align: right;\">\n",
       "      <th></th>\n",
       "      <th>org_id</th>\n",
       "      <th>city</th>\n",
       "      <th>average_bill</th>\n",
       "      <th>org_rating</th>\n",
       "      <th>rubrics_id</th>\n",
       "      <th>features_id</th>\n",
       "      <th>feature_count</th>\n",
       "    </tr>\n",
       "  </thead>\n",
       "  <tbody>\n",
       "    <tr>\n",
       "      <th>0</th>\n",
       "      <td>16848414477362211020</td>\n",
       "      <td>spb</td>\n",
       "      <td>1000.0</td>\n",
       "      <td>4.479702</td>\n",
       "      <td>[30776, 31375]</td>\n",
       "      <td>[1018, 1509, 11177, 11617, 11629, 11704, 11867...</td>\n",
       "      <td>11</td>\n",
       "    </tr>\n",
       "    <tr>\n",
       "      <th>1</th>\n",
       "      <td>1430604733320164116</td>\n",
       "      <td>spb</td>\n",
       "      <td>1000.0</td>\n",
       "      <td>4.514509</td>\n",
       "      <td>[30776, 30770]</td>\n",
       "      <td>[246, 1018, 11617, 11629, 11704, 11867, 20422,...</td>\n",
       "      <td>10</td>\n",
       "    </tr>\n",
       "  </tbody>\n",
       "</table>\n",
       "</div>"
      ],
      "text/plain": [
       "                 org_id city  average_bill  org_rating      rubrics_id  \\\n",
       "0  16848414477362211020  spb        1000.0    4.479702  [30776, 31375]   \n",
       "1   1430604733320164116  spb        1000.0    4.514509  [30776, 30770]   \n",
       "\n",
       "                                         features_id  feature_count  \n",
       "0  [1018, 1509, 11177, 11617, 11629, 11704, 11867...             11  \n",
       "1  [246, 1018, 11617, 11629, 11704, 11867, 20422,...             10  "
      ]
     },
     "execution_count": 26,
     "metadata": {},
     "output_type": "execute_result"
    }
   ],
   "source": [
    "orgs.head(2)"
   ]
  },
  {
   "cell_type": "code",
   "execution_count": 27,
   "metadata": {},
   "outputs": [],
   "source": [
    "msk_orgs = extract_top_by_rubrics(orgs, tourist_reviews[tourist_reviews['org_city'] == 'msk'], N)\n",
    "spb_orgs = extract_top_by_rubrics(orgs, tourist_reviews[tourist_reviews['org_city'] == 'spb'], N)"
   ]
  },
  {
   "cell_type": "code",
   "execution_count": 28,
   "metadata": {},
   "outputs": [
    {
     "name": "stdout",
     "output_type": "stream",
     "text": [
      "Score: 5.73\n"
     ]
    }
   ],
   "source": [
    "choose = lambda x: spb_orgs if x['city'] == 'msk' else msk_orgs\n",
    "target = test_users_with_locations.apply(choose, axis=1)\n",
    "\n",
    "predictions = X_test.copy()\n",
    "predictions['target'] = target\n",
    "\n",
    "print_score(MNAP_N(y_test, predictions))"
   ]
  },
  {
   "cell_type": "markdown",
   "metadata": {},
   "source": [
    "# Время ML! Коллаборативная фильтрация"
   ]
  },
  {
   "cell_type": "markdown",
   "metadata": {},
   "source": [
    "## Memory-based\n",
    "\n",
    "Для этой группы методов требуется явное построение матрицы __пользователь-организация__ (__interaction matrix__), где на пересечении `i`-ой строки и `j`-ого столбца будет рейтинг, который `i`-ый пользователь выставил `j`-ой организации или же пропуск, если рейтинг не был установлен. "
   ]
  },
  {
   "cell_type": "code",
   "execution_count": 29,
   "metadata": {},
   "outputs": [],
   "source": [
    "from func import reduce_reviews, create_mappings, map_ids, interaction_matrix"
   ]
  },
  {
   "cell_type": "code",
   "execution_count": null,
   "metadata": {},
   "outputs": [],
   "source": [
    " "
   ]
  },
  {
   "cell_type": "markdown",
   "metadata": {},
   "source": [
    "## ALS"
   ]
  },
  {
   "cell_type": "code",
   "execution_count": 30,
   "metadata": {},
   "outputs": [],
   "source": [
    "import implicit  # !pip install implicit"
   ]
  },
  {
   "cell_type": "code",
   "execution_count": 31,
   "metadata": {},
   "outputs": [],
   "source": [
    "def make_predictions(interactions, X_test, N):\n",
    "    '''\n",
    "    make_predictions(interactions, X_test, N)\n",
    "        Делает рекомендации для пользователей из <X_test> на основе матрицы взаимодействий. \n",
    "        \n",
    "        Parameters\n",
    "        ----------\n",
    "        interactions : scipy.sparse.csr_matrix\n",
    "            Разреженная матрица взаимодействий.\n",
    "            \n",
    "        X_test : pd.DataFrame\n",
    "            Набор тестовых пользователей, для которых нужно сделать рекомендации. \n",
    "        \n",
    "        N : int\n",
    "            Число рекомендаций для каждого пользователя. \n",
    "        \n",
    "        Returns\n",
    "        -------\n",
    "        predictions : pd.DataFrame\n",
    "            DataFrame с колонками <user_id> и <target>. \n",
    "            В <target> содержится список рекомендованных для пользователя org_id.\n",
    "        \n",
    "    '''\n",
    "    \n",
    "    \n",
    "    predictions = X_test[['user_id']].copy()\n",
    "    predictions['target'] = pd.Series(dtype=object)\n",
    "    predictions = predictions.set_index('user_id')\n",
    "    \n",
    "    \n",
    "    interactions, (train_users_len, inner_orgs_len), mappings = interactions\n",
    "    \n",
    "  \n",
    "    \n",
    "    (index_to_uid, uid_to_index), (index_to_oid, oid_to_index) = mappings\n",
    "\n",
    "    base_model = implicit.als.AlternatingLeastSquares(\n",
    "        factors=100,  iterations=150, \n",
    "        regularization=0.05,  random_state=42,\n",
    "        #num_threads = 4,\n",
    "        #calculate_training_loss=True\n",
    "    )\n",
    "    \n",
    "    base_model.fit(interactions.T)\n",
    "    \n",
    "    orgs_to_filter = list(np.arange(inner_orgs_len))\n",
    "\n",
    "    recommendations = base_model.recommend_all(\n",
    "        interactions,\n",
    "        N=N,\n",
    "        filter_already_liked_items=True,\n",
    "        filter_items=orgs_to_filter,\n",
    "        show_progress=True\n",
    "    )\n",
    "    \n",
    "    for user_id in tqdm(X_test['user_id'].values, leave=False):\n",
    "        predictions.loc[user_id, 'target'] = list(\n",
    "            map(\n",
    "                lambda org_index: index_to_oid[org_index], \n",
    "                recommendations[uid_to_index[user_id]]\n",
    "            )\n",
    "        )\n",
    "        \n",
    "    return predictions.reset_index()"
   ]
  },
  {
   "cell_type": "code",
   "execution_count": 32,
   "metadata": {},
   "outputs": [
    {
     "name": "stderr",
     "output_type": "stream",
     "text": [
      "2021-10-03 18:42:36,089 [2392] WARNING  py.warnings:109: [JupyterRequire] C:\\Users\\sasha\\anaconda3\\lib\\site-packages\\pandas\\core\\series.py:4517: SettingWithCopyWarning: \n",
      "A value is trying to be set on a copy of a slice from a DataFrame\n",
      "\n",
      "See the caveats in the documentation: https://pandas.pydata.org/pandas-docs/stable/user_guide/indexing.html#returning-a-view-versus-a-copy\n",
      "  return super().fillna(\n",
      "\n"
     ]
    },
    {
     "data": {
      "text/plain": [
       "0"
      ]
     },
     "execution_count": 32,
     "metadata": {},
     "output_type": "execute_result"
    }
   ],
   "source": [
    "#mean_rating = train_reviews['rating'].mean()\n",
    "train_reviews['rating'].fillna(0, inplace=True)\n",
    "\n",
    "\n",
    "train_reviews = train_reviews[train_reviews['rating'] >= 3]\n",
    " \n",
    "# train_reviews.dropna(inplace=True)\n",
    "train_reviews.rating.isnull().sum()"
   ]
  },
  {
   "cell_type": "code",
   "execution_count": 33,
   "metadata": {},
   "outputs": [
    {
     "name": "stdout",
     "output_type": "stream",
     "text": [
      "Собираем матрицу взаимодействий: all_users: 29832 all_orgs: 15092\n",
      "Собираем матрицу взаимодействий: all_users: 23327 all_orgs: 15092\n"
     ]
    }
   ],
   "source": [
    "msk_interactions = interaction_matrix(train_reviews,\n",
    "                                      test_users_with_locations[test_users_with_locations['city'] == 'msk'],\n",
    "                                      city = 'msk')\n",
    "\n",
    "spb_interactions = interaction_matrix(train_reviews,\n",
    "                                      test_users_with_locations[test_users_with_locations['city'] == 'spb'],\n",
    "                                      city = 'spb')       \n",
    "        \n",
    "test_msk_users = test_users_with_locations[test_users_with_locations['city'] == 'msk']\n",
    "test_spb_users = test_users_with_locations[test_users_with_locations['city'] == 'spb']"
   ]
  },
  {
   "cell_type": "code",
   "execution_count": 34,
   "metadata": {},
   "outputs": [],
   "source": [
    "# sp_m = pd.DataFrame.sparse.from_spmatrix(msk_interactions[0])\n",
    "# sp_m.isnull().sum().sum()\n",
    "# del sp_m"
   ]
  },
  {
   "cell_type": "code",
   "execution_count": 35,
   "metadata": {},
   "outputs": [],
   "source": [
    "# 100*train_reviews.rating.isnull().sum()/len(train_reviews.rating.isnull()"
   ]
  },
  {
   "cell_type": "code",
   "execution_count": 36,
   "metadata": {
    "scrolled": true
   },
   "outputs": [
    {
     "name": "stderr",
     "output_type": "stream",
     "text": [
      "2021-10-03 18:42:44,148 [2392] WARNING  root:31: [JupyterRequire] Intel MKL BLAS detected. Its highly recommend to set the environment variable 'export MKL_NUM_THREADS=1' to disable its internal multithreading\n"
     ]
    },
    {
     "data": {
      "application/vnd.jupyter.widget-view+json": {
       "model_id": "59745c692aa04da7a9e7c87b6eb4473b",
       "version_major": 2,
       "version_minor": 0
      },
      "text/plain": [
       "HBox(children=(HTML(value=''), FloatProgress(value=0.0, max=300.0), HTML(value='')))"
      ]
     },
     "metadata": {},
     "output_type": "display_data"
    },
    {
     "name": "stdout",
     "output_type": "stream",
     "text": [
      "\n"
     ]
    },
    {
     "data": {
      "application/vnd.jupyter.widget-view+json": {
       "model_id": "bd4aa698a450448da4a63e9df7e4df20",
       "version_major": 2,
       "version_minor": 0
      },
      "text/plain": [
       "HBox(children=(HTML(value=''), FloatProgress(value=0.0, max=29832.0), HTML(value='')))"
      ]
     },
     "metadata": {},
     "output_type": "display_data"
    },
    {
     "name": "stdout",
     "output_type": "stream",
     "text": [
      "\n"
     ]
    },
    {
     "data": {
      "application/vnd.jupyter.widget-view+json": {
       "model_id": "4390d0f079c240439f28c98719d19600",
       "version_major": 2,
       "version_minor": 0
      },
      "text/plain": [
       "HBox(children=(HTML(value=''), FloatProgress(value=0.0, max=9545.0), HTML(value='')))"
      ]
     },
     "metadata": {},
     "output_type": "display_data"
    },
    {
     "data": {
      "application/vnd.jupyter.widget-view+json": {
       "model_id": "2e16d371a20249f8b02bacfca4f6d7dc",
       "version_major": 2,
       "version_minor": 0
      },
      "text/plain": [
       "HBox(children=(HTML(value=''), FloatProgress(value=0.0, max=300.0), HTML(value='')))"
      ]
     },
     "metadata": {},
     "output_type": "display_data"
    },
    {
     "name": "stdout",
     "output_type": "stream",
     "text": [
      "\n"
     ]
    },
    {
     "data": {
      "application/vnd.jupyter.widget-view+json": {
       "model_id": "10985a9ed87b43319c8349ed423246dd",
       "version_major": 2,
       "version_minor": 0
      },
      "text/plain": [
       "HBox(children=(HTML(value=''), FloatProgress(value=0.0, max=23327.0), HTML(value='')))"
      ]
     },
     "metadata": {},
     "output_type": "display_data"
    },
    {
     "name": "stdout",
     "output_type": "stream",
     "text": [
      "\n"
     ]
    },
    {
     "data": {
      "application/vnd.jupyter.widget-view+json": {
       "model_id": "ab39e722098942b28e86a5305e850376",
       "version_major": 2,
       "version_minor": 0
      },
      "text/plain": [
       "HBox(children=(HTML(value=''), FloatProgress(value=0.0, max=2499.0), HTML(value='')))"
      ]
     },
     "metadata": {},
     "output_type": "display_data"
    }
   ],
   "source": [
    "msk_predictions = make_predictions(msk_interactions, test_msk_users, N)\n",
    "spb_predictions = make_predictions(spb_interactions, test_spb_users, N)\n",
    "\n",
    "predictions = pd.concat([msk_predictions, spb_predictions])"
   ]
  },
  {
   "cell_type": "code",
   "execution_count": 37,
   "metadata": {},
   "outputs": [
    {
     "name": "stdout",
     "output_type": "stream",
     "text": [
      "Score: 0.42\n"
     ]
    }
   ],
   "source": [
    "print_score(MNAP_N(y_test, predictions))"
   ]
  },
  {
   "cell_type": "markdown",
   "metadata": {},
   "source": [
    "# Submission\n",
    "\n",
    "Выберем лучший метод на валидации, переобучим его на всей выборке и сделаем предсказание на тестовой выборке. \n",
    "\n",
    "**Формат вывода:**\n",
    "Для каждого пользователя из файла `test_users.csv` необходимо приложить список из не более чем 20 организаций, относящихся к городу, отличному от города проживания пользователя."
   ]
  },
  {
   "cell_type": "markdown",
   "metadata": {},
   "source": [
    "## Without ML"
   ]
  },
  {
   "cell_type": "code",
   "execution_count": 38,
   "metadata": {},
   "outputs": [],
   "source": [
    "# набор отзывов только от туристов\n",
    "\n",
    "\n",
    "tourist_reviews = reviews[(reviews['rating'] >= 4.0) & (reviews['org_rating'] >= 4.0)]\n",
    "tourist_reviews = tourist_reviews[tourist_reviews['user_city'] != tourist_reviews['org_city']]\n",
    "\n",
    "# выбираем самые популярные места среди туристов из Москвы и Питера\n",
    "msk_orgs = tourist_reviews[tourist_reviews['org_city'] == 'msk']['org_id']\n",
    "msk_orgs = msk_orgs.value_counts().index[:N].to_list()\n",
    "\n",
    "spb_orgs = tourist_reviews[tourist_reviews['org_city'] == 'spb']['org_id']\n",
    "spb_orgs = spb_orgs.value_counts().index[:N].to_list()\n",
    "\n",
    "\n",
    "msk_orgs = str(' '.join(map(str, msk_orgs)))\n",
    "spb_orgs = str(' '.join(map(str, spb_orgs)))"
   ]
  },
  {
   "cell_type": "code",
   "execution_count": null,
   "metadata": {},
   "outputs": [],
   "source": [
    " "
   ]
  },
  {
   "cell_type": "code",
   "execution_count": 39,
   "metadata": {},
   "outputs": [
    {
     "data": {
      "text/html": [
       "<div>\n",
       "<style scoped>\n",
       "    .dataframe tbody tr th:only-of-type {\n",
       "        vertical-align: middle;\n",
       "    }\n",
       "\n",
       "    .dataframe tbody tr th {\n",
       "        vertical-align: top;\n",
       "    }\n",
       "\n",
       "    .dataframe thead th {\n",
       "        text-align: right;\n",
       "    }\n",
       "</style>\n",
       "<table border=\"1\" class=\"dataframe\">\n",
       "  <thead>\n",
       "    <tr style=\"text-align: right;\">\n",
       "      <th></th>\n",
       "      <th>user_id</th>\n",
       "      <th>city</th>\n",
       "    </tr>\n",
       "  </thead>\n",
       "  <tbody>\n",
       "    <tr>\n",
       "      <th>0</th>\n",
       "      <td>3545210947248911048</td>\n",
       "      <td>msk</td>\n",
       "    </tr>\n",
       "    <tr>\n",
       "      <th>1</th>\n",
       "      <td>15271987121288045390</td>\n",
       "      <td>msk</td>\n",
       "    </tr>\n",
       "    <tr>\n",
       "      <th>2</th>\n",
       "      <td>15016858616184265932</td>\n",
       "      <td>msk</td>\n",
       "    </tr>\n",
       "    <tr>\n",
       "      <th>3</th>\n",
       "      <td>12457244142928722989</td>\n",
       "      <td>msk</td>\n",
       "    </tr>\n",
       "    <tr>\n",
       "      <th>4</th>\n",
       "      <td>13339684649926251468</td>\n",
       "      <td>spb</td>\n",
       "    </tr>\n",
       "  </tbody>\n",
       "</table>\n",
       "</div>"
      ],
      "text/plain": [
       "                user_id city\n",
       "0   3545210947248911048  msk\n",
       "1  15271987121288045390  msk\n",
       "2  15016858616184265932  msk\n",
       "3  12457244142928722989  msk\n",
       "4  13339684649926251468  spb"
      ]
     },
     "execution_count": 39,
     "metadata": {},
     "output_type": "execute_result"
    }
   ],
   "source": [
    "test_users = pd.read_csv('data/test_users.csv')\n",
    "test_users['city'] = test_users.merge(users, on='user_id')['city']\n",
    "test_users.head()"
   ]
  },
  {
   "cell_type": "code",
   "execution_count": 40,
   "metadata": {},
   "outputs": [
    {
     "data": {
      "text/html": [
       "<div>\n",
       "<style scoped>\n",
       "    .dataframe tbody tr th:only-of-type {\n",
       "        vertical-align: middle;\n",
       "    }\n",
       "\n",
       "    .dataframe tbody tr th {\n",
       "        vertical-align: top;\n",
       "    }\n",
       "\n",
       "    .dataframe thead th {\n",
       "        text-align: right;\n",
       "    }\n",
       "</style>\n",
       "<table border=\"1\" class=\"dataframe\">\n",
       "  <thead>\n",
       "    <tr style=\"text-align: right;\">\n",
       "      <th></th>\n",
       "      <th>user_id</th>\n",
       "      <th>target</th>\n",
       "    </tr>\n",
       "  </thead>\n",
       "  <tbody>\n",
       "    <tr>\n",
       "      <th>0</th>\n",
       "      <td>3545210947248911048</td>\n",
       "      <td>12046097390037935713 5002407858008059043 14814...</td>\n",
       "    </tr>\n",
       "    <tr>\n",
       "      <th>1</th>\n",
       "      <td>15271987121288045390</td>\n",
       "      <td>12046097390037935713 5002407858008059043 14814...</td>\n",
       "    </tr>\n",
       "    <tr>\n",
       "      <th>2</th>\n",
       "      <td>15016858616184265932</td>\n",
       "      <td>12046097390037935713 5002407858008059043 14814...</td>\n",
       "    </tr>\n",
       "    <tr>\n",
       "      <th>3</th>\n",
       "      <td>12457244142928722989</td>\n",
       "      <td>12046097390037935713 5002407858008059043 14814...</td>\n",
       "    </tr>\n",
       "    <tr>\n",
       "      <th>4</th>\n",
       "      <td>13339684649926251468</td>\n",
       "      <td>15250345250621165867 9104453017196776235 16259...</td>\n",
       "    </tr>\n",
       "  </tbody>\n",
       "</table>\n",
       "</div>"
      ],
      "text/plain": [
       "                user_id                                             target\n",
       "0   3545210947248911048  12046097390037935713 5002407858008059043 14814...\n",
       "1  15271987121288045390  12046097390037935713 5002407858008059043 14814...\n",
       "2  15016858616184265932  12046097390037935713 5002407858008059043 14814...\n",
       "3  12457244142928722989  12046097390037935713 5002407858008059043 14814...\n",
       "4  13339684649926251468  15250345250621165867 9104453017196776235 16259..."
      ]
     },
     "execution_count": 40,
     "metadata": {},
     "output_type": "execute_result"
    }
   ],
   "source": [
    "choose = lambda x: spb_orgs if x['city'] == 'msk' else msk_orgs\n",
    "target = test_users.apply(choose, axis=1)\n",
    " \n",
    "predictions = test_users[['user_id']]\n",
    "predictions['target'] = target\n",
    "\n",
    "predictions.head()"
   ]
  },
  {
   "cell_type": "code",
   "execution_count": 41,
   "metadata": {},
   "outputs": [],
   "source": [
    "predictions.to_csv('answers.csv', index=None)"
   ]
  },
  {
   "cell_type": "code",
   "execution_count": null,
   "metadata": {},
   "outputs": [],
   "source": [
    " "
   ]
  },
  {
   "cell_type": "markdown",
   "metadata": {},
   "source": [
    "## With ML"
   ]
  },
  {
   "cell_type": "code",
   "execution_count": null,
   "metadata": {},
   "outputs": [],
   "source": []
  },
  {
   "cell_type": "code",
   "execution_count": 42,
   "metadata": {},
   "outputs": [],
   "source": [
    "# mean_rating = reviews['rating'].mean()\n",
    "# reviews['rating'].fillna(mean_rating, inplace=True)\n",
    "# reviews = reviews[reviews['rating'] > 3]\n",
    "# reviews"
   ]
  },
  {
   "cell_type": "code",
   "execution_count": 43,
   "metadata": {},
   "outputs": [
    {
     "name": "stdout",
     "output_type": "stream",
     "text": [
      "Собираем матрицу взаимодействий: all_users: 40014 all_orgs: 18321\n",
      "Собираем матрицу взаимодействий: all_users: 29303 all_orgs: 18321\n"
     ]
    },
    {
     "data": {
      "application/vnd.jupyter.widget-view+json": {
       "model_id": "677756a068f441eeb8a6e48d68dc56ef",
       "version_major": 2,
       "version_minor": 0
      },
      "text/plain": [
       "HBox(children=(HTML(value=''), FloatProgress(value=0.0, max=300.0), HTML(value='')))"
      ]
     },
     "metadata": {},
     "output_type": "display_data"
    },
    {
     "name": "stdout",
     "output_type": "stream",
     "text": [
      "\n"
     ]
    },
    {
     "ename": "ModelFitError",
     "evalue": "NaN encountered in factors",
     "output_type": "error",
     "traceback": [
      "\u001b[1;31m---------------------------------------------------------------------------\u001b[0m",
      "\u001b[1;31mModelFitError\u001b[0m                             Traceback (most recent call last)",
      "\u001b[1;32m<ipython-input-43-410a712f4d59>\u001b[0m in \u001b[0;36m<module>\u001b[1;34m\u001b[0m\n\u001b[0;32m     21\u001b[0m )\n\u001b[0;32m     22\u001b[0m \u001b[1;33m\u001b[0m\u001b[0m\n\u001b[1;32m---> 23\u001b[1;33m \u001b[0mmsk_predictions\u001b[0m \u001b[1;33m=\u001b[0m \u001b[0mmake_predictions\u001b[0m\u001b[1;33m(\u001b[0m\u001b[0mmsk_interactions\u001b[0m\u001b[1;33m,\u001b[0m \u001b[0mtest_msk_users\u001b[0m\u001b[1;33m,\u001b[0m \u001b[0mN\u001b[0m\u001b[1;33m)\u001b[0m\u001b[1;33m\u001b[0m\u001b[1;33m\u001b[0m\u001b[0m\n\u001b[0m\u001b[0;32m     24\u001b[0m \u001b[0mspb_predictions\u001b[0m \u001b[1;33m=\u001b[0m \u001b[0mmake_predictions\u001b[0m\u001b[1;33m(\u001b[0m\u001b[0mspb_interactions\u001b[0m\u001b[1;33m,\u001b[0m \u001b[0mtest_spb_users\u001b[0m\u001b[1;33m,\u001b[0m \u001b[0mN\u001b[0m\u001b[1;33m)\u001b[0m\u001b[1;33m\u001b[0m\u001b[1;33m\u001b[0m\u001b[0m\n\u001b[0;32m     25\u001b[0m \u001b[1;33m\u001b[0m\u001b[0m\n",
      "\u001b[1;32m<ipython-input-31-ca07e6f71e86>\u001b[0m in \u001b[0;36mmake_predictions\u001b[1;34m(interactions, X_test, N)\u001b[0m\n\u001b[0;32m     45\u001b[0m     )\n\u001b[0;32m     46\u001b[0m \u001b[1;33m\u001b[0m\u001b[0m\n\u001b[1;32m---> 47\u001b[1;33m     \u001b[0mbase_model\u001b[0m\u001b[1;33m.\u001b[0m\u001b[0mfit\u001b[0m\u001b[1;33m(\u001b[0m\u001b[0minteractions\u001b[0m\u001b[1;33m.\u001b[0m\u001b[0mT\u001b[0m\u001b[1;33m)\u001b[0m\u001b[1;33m\u001b[0m\u001b[1;33m\u001b[0m\u001b[0m\n\u001b[0m\u001b[0;32m     48\u001b[0m \u001b[1;33m\u001b[0m\u001b[0m\n\u001b[0;32m     49\u001b[0m     \u001b[0morgs_to_filter\u001b[0m \u001b[1;33m=\u001b[0m \u001b[0mlist\u001b[0m\u001b[1;33m(\u001b[0m\u001b[0mnp\u001b[0m\u001b[1;33m.\u001b[0m\u001b[0marange\u001b[0m\u001b[1;33m(\u001b[0m\u001b[0minner_orgs_len\u001b[0m\u001b[1;33m)\u001b[0m\u001b[1;33m)\u001b[0m\u001b[1;33m\u001b[0m\u001b[1;33m\u001b[0m\u001b[0m\n",
      "\u001b[1;32m~\\anaconda3\\lib\\site-packages\\implicit\\cpu\\als.py\u001b[0m in \u001b[0;36mfit\u001b[1;34m(self, item_users, show_progress)\u001b[0m\n\u001b[0;32m    191\u001b[0m             \u001b[0mlog\u001b[0m\u001b[1;33m.\u001b[0m\u001b[0minfo\u001b[0m\u001b[1;33m(\u001b[0m\u001b[1;34m\"Final training loss %.4f\"\u001b[0m\u001b[1;33m,\u001b[0m \u001b[0mloss\u001b[0m\u001b[1;33m)\u001b[0m\u001b[1;33m\u001b[0m\u001b[1;33m\u001b[0m\u001b[0m\n\u001b[0;32m    192\u001b[0m \u001b[1;33m\u001b[0m\u001b[0m\n\u001b[1;32m--> 193\u001b[1;33m         \u001b[0mself\u001b[0m\u001b[1;33m.\u001b[0m\u001b[0m_check_fit_errors\u001b[0m\u001b[1;33m(\u001b[0m\u001b[1;33m)\u001b[0m\u001b[1;33m\u001b[0m\u001b[1;33m\u001b[0m\u001b[0m\n\u001b[0m\u001b[0;32m    194\u001b[0m \u001b[1;33m\u001b[0m\u001b[0m\n\u001b[0;32m    195\u001b[0m     \u001b[1;32mdef\u001b[0m \u001b[0mrecalculate_user\u001b[0m\u001b[1;33m(\u001b[0m\u001b[0mself\u001b[0m\u001b[1;33m,\u001b[0m \u001b[0muserid\u001b[0m\u001b[1;33m,\u001b[0m \u001b[0muser_items\u001b[0m\u001b[1;33m)\u001b[0m\u001b[1;33m:\u001b[0m\u001b[1;33m\u001b[0m\u001b[1;33m\u001b[0m\u001b[0m\n",
      "\u001b[1;32mimplicit/recommender_base.pyx\u001b[0m in \u001b[0;36mimplicit.recommender_base.MatrixFactorizationBase._check_fit_errors\u001b[1;34m()\u001b[0m\n",
      "\u001b[1;31mModelFitError\u001b[0m: NaN encountered in factors"
     ]
    }
   ],
   "source": [
    "test_users = pd.read_csv('data/test_users.csv')\n",
    "test_users = test_users.merge(users, on='user_id')\n",
    "\n",
    "\n",
    "test_msk_users = test_users[test_users['city'] == 'msk'][['user_id', 'city']]\n",
    "test_spb_users = test_users[test_users['city'] == 'spb'][['user_id', 'city']]\n",
    "\n",
    "\n",
    "#reviews.dropna(inplace=True) # Мое изменение\n",
    "\n",
    "msk_interactions = interaction_matrix(\n",
    "    reviews,                                  \n",
    "    test_msk_users,\n",
    "    city = 'msk'\n",
    ")\n",
    "\n",
    "spb_interactions = interaction_matrix(\n",
    "    reviews,\n",
    "    test_spb_users,\n",
    "    city = 'spb'\n",
    ")\n",
    "\n",
    "msk_predictions = make_predictions(msk_interactions, test_msk_users, N)\n",
    "spb_predictions = make_predictions(spb_interactions, test_spb_users, N)\n",
    "\n",
    "predictions = pd.concat([msk_predictions, spb_predictions])"
   ]
  },
  {
   "cell_type": "code",
   "execution_count": null,
   "metadata": {},
   "outputs": [],
   "source": [
    "predictions['target'] = predictions['target'].apply(lambda orgs: ' '.join(map(str, orgs)))\n",
    "predictions.head()"
   ]
  },
  {
   "cell_type": "code",
   "execution_count": null,
   "metadata": {},
   "outputs": [],
   "source": [
    "predictions.to_csv('answers_ml.csv', index=None)"
   ]
  },
  {
   "cell_type": "code",
   "execution_count": null,
   "metadata": {},
   "outputs": [],
   "source": [
    "predictions['target'][0]"
   ]
  },
  {
   "cell_type": "code",
   "execution_count": null,
   "metadata": {},
   "outputs": [],
   "source": []
  },
  {
   "cell_type": "code",
   "execution_count": null,
   "metadata": {},
   "outputs": [],
   "source": [
    "print(len(reviews))\n",
    "surprise_reviews = reviews[(reviews.rating > 4) & (reviews.org_rating > 4.5)]\n",
    "print(len(surprise_reviews))"
   ]
  },
  {
   "cell_type": "markdown",
   "metadata": {},
   "source": [
    "# Surprise - SVD/KNN и другие"
   ]
  },
  {
   "cell_type": "code",
   "execution_count": 63,
   "metadata": {},
   "outputs": [],
   "source": [
    "from surprise import Reader, Dataset"
   ]
  },
  {
   "cell_type": "code",
   "execution_count": 64,
   "metadata": {},
   "outputs": [
    {
     "name": "stdout",
     "output_type": "stream",
     "text": [
      "Filtered reviews 417302\n"
     ]
    }
   ],
   "source": [
    "ratings_dict = {'itemID': list(surprise_reviews.org_id),\n",
    "                'userID': list(surprise_reviews.user_id),\n",
    "                'rating': list(surprise_reviews.rating)}\n",
    "\n",
    "surprise_reviews = pd.DataFrame(ratings_dict)\n",
    "print('Filtered reviews', len(surprise_reviews))\n",
    "\n",
    "# A reader is still needed but only the rating_scale param is required.\n",
    "# The Reader class is used to parse a file containing ratings.\n",
    "reader = Reader(rating_scale=(4.0, 5.0))\n",
    "\n",
    "# The columns must correspond to user id, item id and ratings (in that order).\n",
    "data = Dataset.load_from_df(surprise_reviews[['userID', 'itemID', 'rating']], reader)"
   ]
  },
  {
   "cell_type": "code",
   "execution_count": null,
   "metadata": {},
   "outputs": [],
   "source": [
    "surprise_reviews"
   ]
  },
  {
   "cell_type": "code",
   "execution_count": 55,
   "metadata": {},
   "outputs": [],
   "source": [
    "from surprise import SVD,SVDpp\n",
    "from surprise import NMF,BaselineOnly, NormalPredictor, KNNWithZScore,SlopeOne,CoClustering\n",
    "from surprise.model_selection import cross_validate\n",
    "from surprise.model_selection import GridSearchCV"
   ]
  },
  {
   "cell_type": "code",
   "execution_count": null,
   "metadata": {},
   "outputs": [],
   "source": [
    "# # nmf\n",
    "# #algo = NMF()\n",
    "# #cross_validate(algo, data, measures=['RMSE'], cv=5, verbose=True)\n",
    "# #evaluate(algo, data, measures=['RMSE'])\n",
    "\n",
    "# param_grid = {'n_epochs': [10, 20, 50],\n",
    "#               'lr_all':   [.002, .005],\n",
    "#               'reg_all':  [.6, .8]}\n",
    "\n",
    "# svd = SVD()\n",
    "\n",
    "# gs = GridSearchCV(svd, param_grid, measures=['rmse', 'mae'], cv=3)\n",
    "\n",
    "# gs.fit(data)\n",
    "\n",
    "# # best RMSE score\n",
    "# print(gs.best_score['rmse'])\n",
    "\n",
    "# # combination of parameters that gave the best RMSE score\n",
    "# print(gs.best_params['rmse'])"
   ]
  },
  {
   "cell_type": "code",
   "execution_count": null,
   "metadata": {},
   "outputs": [],
   "source": [
    "# svd\n",
    "algo = SVD()\n",
    "cross_validate(algo, data, measures=['RMSE', 'MAE'], cv=3, verbose=True, n_jobs=3)\n",
    "#evaluate(algo, data, measures=['RMSE'])\n"
   ]
  },
  {
   "cell_type": "code",
   "execution_count": null,
   "metadata": {},
   "outputs": [],
   "source": []
  },
  {
   "cell_type": "code",
   "execution_count": null,
   "metadata": {},
   "outputs": [],
   "source": []
  },
  {
   "cell_type": "code",
   "execution_count": null,
   "metadata": {},
   "outputs": [],
   "source": []
  },
  {
   "cell_type": "markdown",
   "metadata": {},
   "source": [
    "# NLP данные"
   ]
  },
  {
   "cell_type": "code",
   "execution_count": null,
   "metadata": {},
   "outputs": [],
   "source": []
  },
  {
   "cell_type": "code",
   "execution_count": null,
   "metadata": {},
   "outputs": [],
   "source": [
    "# !pip install lightfm"
   ]
  },
  {
   "cell_type": "markdown",
   "metadata": {},
   "source": [
    "# LightFM"
   ]
  },
  {
   "cell_type": "code",
   "execution_count": null,
   "metadata": {},
   "outputs": [
    {
     "name": "stdout",
     "output_type": "stream",
     "text": [
      "\n"
     ]
    }
   ],
   "source": [
    "from lightfm import LightFM\n",
    "from lightfm.datasets import fetch_movielens\n",
    "from lightfm.evaluation import precision_at_k\n",
    "\n",
    "# Load the MovieLens 100k dataset. Only five\n",
    "# star ratings are treated as positive.\n",
    "data = fetch_movielens(min_rating=5.0)\n",
    "\n",
    "# Instantiate and train the model\n",
    "model = LightFM(loss='warp')\n",
    "model.fit(data['train'], epochs=30, num_threads=2)\n",
    "\n",
    "# Evaluate the trained model\n",
    "test_precision = precision_at_k(model, data['test'], k=5).mean()\n",
    "test_precision"
   ]
  },
  {
   "cell_type": "code",
   "execution_count": null,
   "metadata": {},
   "outputs": [],
   "source": [
    " data['train'].toarray().shape"
   ]
  },
  {
   "cell_type": "code",
   "execution_count": null,
   "metadata": {},
   "outputs": [],
   "source": [
    " data['test'].toarray().shape"
   ]
  },
  {
   "cell_type": "code",
   "execution_count": null,
   "metadata": {},
   "outputs": [],
   "source": []
  }
 ],
 "metadata": {
  "jupytercloud": {
   "vault": {
    "secrets": [
     {
      "name": "yt_secrets",
      "uuid": "sec-01fd5qjpw0xwwpv6t83wc41tp8"
     }
    ]
   }
  },
  "kernelspec": {
   "display_name": "Python 3",
   "language": "python",
   "name": "python3"
  },
  "language_info": {
   "codemirror_mode": {
    "name": "ipython",
    "version": 3
   },
   "file_extension": ".py",
   "mimetype": "text/x-python",
   "name": "python",
   "nbconvert_exporter": "python",
   "pygments_lexer": "ipython3",
   "version": "3.8.5"
  },
  "toc": {
   "base_numbering": 1,
   "nav_menu": {},
   "number_sections": true,
   "sideBar": true,
   "skip_h1_title": false,
   "title_cell": "Table of Contents",
   "title_sidebar": "Contents",
   "toc_cell": false,
   "toc_position": {},
   "toc_section_display": true,
   "toc_window_display": false
  }
 },
 "nbformat": 4,
 "nbformat_minor": 5
}
