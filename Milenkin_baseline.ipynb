{
 "cells": [
  {
   "cell_type": "code",
   "execution_count": 57,
   "id": "01d5245e",
   "metadata": {},
   "outputs": [],
   "source": [
    "import numpy as np\n",
    "import pandas as pd\n",
    "\n",
    "import matplotlib.pyplot as plt\n",
    "import seaborn as sns\n",
    "\n",
    "from scipy import sparse\n",
    "from tqdm.notebook import tqdm\n",
    "\n",
    "%matplotlib inline"
   ]
  },
  {
   "cell_type": "markdown",
   "id": "5046abb9",
   "metadata": {},
   "source": [
    "# Сырые данные"
   ]
  },
  {
   "cell_type": "markdown",
   "id": "b9c04e42",
   "metadata": {},
   "source": [
    "## Считываем данные из .csv"
   ]
  },
  {
   "cell_type": "markdown",
   "id": "edc1e95a",
   "metadata": {},
   "source": [
    "Некоторые данные (такие как рубрики и признаки), представлены строками значений. Преобразуем их в списки чисел. "
   ]
  },
  {
   "cell_type": "code",
   "execution_count": 58,
   "id": "eb6494f9",
   "metadata": {},
   "outputs": [],
   "source": [
    "to_list = lambda rubrics: [int(rubric) for rubric in str(rubrics).split(' ')]\n",
    "def apply_to_columns(df, columns, func=to_list):\n",
    "    for column in columns:\n",
    "        df.loc[~df[column].isnull(), column] = df.loc[~df[column].isnull(), column].apply(func)"
   ]
  },
  {
   "cell_type": "markdown",
   "id": "3114b948",
   "metadata": {},
   "source": [
    "В первую очередь нам понадобятся данные по __пользователям__, __организациям__ и сами __отзывы__. "
   ]
  },
  {
   "cell_type": "code",
   "execution_count": 59,
   "id": "f2eebcce",
   "metadata": {},
   "outputs": [
    {
     "name": "stdout",
     "output_type": "stream",
     "text": [
      "Users:  1252801\n"
     ]
    },
    {
     "data": {
      "text/html": [
       "<div>\n",
       "<style scoped>\n",
       "    .dataframe tbody tr th:only-of-type {\n",
       "        vertical-align: middle;\n",
       "    }\n",
       "\n",
       "    .dataframe tbody tr th {\n",
       "        vertical-align: top;\n",
       "    }\n",
       "\n",
       "    .dataframe thead th {\n",
       "        text-align: right;\n",
       "    }\n",
       "</style>\n",
       "<table border=\"1\" class=\"dataframe\">\n",
       "  <thead>\n",
       "    <tr style=\"text-align: right;\">\n",
       "      <th></th>\n",
       "      <th>user_id</th>\n",
       "      <th>city</th>\n",
       "    </tr>\n",
       "  </thead>\n",
       "  <tbody>\n",
       "    <tr>\n",
       "      <th>0</th>\n",
       "      <td>523295021912509756</td>\n",
       "      <td>msk</td>\n",
       "    </tr>\n",
       "    <tr>\n",
       "      <th>1</th>\n",
       "      <td>11952159487361099606</td>\n",
       "      <td>msk</td>\n",
       "    </tr>\n",
       "    <tr>\n",
       "      <th>2</th>\n",
       "      <td>16879036589969590999</td>\n",
       "      <td>msk</td>\n",
       "    </tr>\n",
       "  </tbody>\n",
       "</table>\n",
       "</div>"
      ],
      "text/plain": [
       "                user_id city\n",
       "0    523295021912509756  msk\n",
       "1  11952159487361099606  msk\n",
       "2  16879036589969590999  msk"
      ]
     },
     "execution_count": 59,
     "metadata": {},
     "output_type": "execute_result"
    }
   ],
   "source": [
    "users = pd.read_csv('data/users.csv') # Информация о городе проживания пользователя:\n",
    "print('Users: ', users['user_id'].nunique())\n",
    "users.head(3)"
   ]
  },
  {
   "cell_type": "markdown",
   "id": "f5658d71",
   "metadata": {},
   "source": [
    "# NLP"
   ]
  },
  {
   "cell_type": "markdown",
   "id": "21847ee9",
   "metadata": {},
   "source": [
    "Описание извлекаемых из отзывов аспектов. Множество аспектов извлекается из отзыва с помощью NLP-алгоритма и может быть неточным.\n"
   ]
  },
  {
   "cell_type": "code",
   "execution_count": 60,
   "id": "626295ec",
   "metadata": {},
   "outputs": [
    {
     "data": {
      "text/html": [
       "<div>\n",
       "<style scoped>\n",
       "    .dataframe tbody tr th:only-of-type {\n",
       "        vertical-align: middle;\n",
       "    }\n",
       "\n",
       "    .dataframe tbody tr th {\n",
       "        vertical-align: top;\n",
       "    }\n",
       "\n",
       "    .dataframe thead th {\n",
       "        text-align: right;\n",
       "    }\n",
       "</style>\n",
       "<table border=\"1\" class=\"dataframe\">\n",
       "  <thead>\n",
       "    <tr style=\"text-align: right;\">\n",
       "      <th></th>\n",
       "      <th>aspect_id</th>\n",
       "      <th>aspect_name</th>\n",
       "    </tr>\n",
       "  </thead>\n",
       "  <tbody>\n",
       "    <tr>\n",
       "      <th>103</th>\n",
       "      <td>320</td>\n",
       "      <td>Мясной Ресторан</td>\n",
       "    </tr>\n",
       "    <tr>\n",
       "      <th>124</th>\n",
       "      <td>357</td>\n",
       "      <td>Танцевальный Бар</td>\n",
       "    </tr>\n",
       "    <tr>\n",
       "      <th>34</th>\n",
       "      <td>249</td>\n",
       "      <td>Вино</td>\n",
       "    </tr>\n",
       "    <tr>\n",
       "      <th>11</th>\n",
       "      <td>12</td>\n",
       "      <td>Пицца</td>\n",
       "    </tr>\n",
       "    <tr>\n",
       "      <th>2</th>\n",
       "      <td>3</td>\n",
       "      <td>Интерьер</td>\n",
       "    </tr>\n",
       "    <tr>\n",
       "      <th>31</th>\n",
       "      <td>97</td>\n",
       "      <td>Столовая</td>\n",
       "    </tr>\n",
       "    <tr>\n",
       "      <th>133</th>\n",
       "      <td>372</td>\n",
       "      <td>Спагетти</td>\n",
       "    </tr>\n",
       "    <tr>\n",
       "      <th>102</th>\n",
       "      <td>319</td>\n",
       "      <td>Рыбный Ресторан</td>\n",
       "    </tr>\n",
       "    <tr>\n",
       "      <th>22</th>\n",
       "      <td>24</td>\n",
       "      <td>Караоке</td>\n",
       "    </tr>\n",
       "    <tr>\n",
       "      <th>106</th>\n",
       "      <td>323</td>\n",
       "      <td>Пироговая</td>\n",
       "    </tr>\n",
       "  </tbody>\n",
       "</table>\n",
       "</div>"
      ],
      "text/plain": [
       "     aspect_id       aspect_name\n",
       "103        320   Мясной Ресторан\n",
       "124        357  Танцевальный Бар\n",
       "34         249              Вино\n",
       "11          12             Пицца\n",
       "2            3          Интерьер\n",
       "31          97          Столовая\n",
       "133        372          Спагетти\n",
       "102        319   Рыбный Ресторан\n",
       "22          24           Караоке\n",
       "106        323         Пироговая"
      ]
     },
     "execution_count": 60,
     "metadata": {},
     "output_type": "execute_result"
    }
   ],
   "source": [
    "aspects = pd.read_csv('data/aspects.csv')\n",
    "aspects.sample(10)"
   ]
  },
  {
   "cell_type": "markdown",
   "id": "9fbea21d",
   "metadata": {},
   "source": [
    "Описание особенностей организаций. Как правило, множество особенностей организации заполняется ее владельцем \n",
    "и может быть неточным."
   ]
  },
  {
   "cell_type": "code",
   "execution_count": 61,
   "id": "170453b5",
   "metadata": {},
   "outputs": [
    {
     "data": {
      "text/html": [
       "<div>\n",
       "<style scoped>\n",
       "    .dataframe tbody tr th:only-of-type {\n",
       "        vertical-align: middle;\n",
       "    }\n",
       "\n",
       "    .dataframe tbody tr th {\n",
       "        vertical-align: top;\n",
       "    }\n",
       "\n",
       "    .dataframe thead th {\n",
       "        text-align: right;\n",
       "    }\n",
       "</style>\n",
       "<table border=\"1\" class=\"dataframe\">\n",
       "  <thead>\n",
       "    <tr style=\"text-align: right;\">\n",
       "      <th></th>\n",
       "      <th>feature_id</th>\n",
       "      <th>feature_name</th>\n",
       "    </tr>\n",
       "  </thead>\n",
       "  <tbody>\n",
       "    <tr>\n",
       "      <th>32</th>\n",
       "      <td>21216</td>\n",
       "      <td>organic_food</td>\n",
       "    </tr>\n",
       "    <tr>\n",
       "      <th>52</th>\n",
       "      <td>3501754799</td>\n",
       "      <td>pickup</td>\n",
       "    </tr>\n",
       "    <tr>\n",
       "      <th>2</th>\n",
       "      <td>288</td>\n",
       "      <td>accepted_credit_cards</td>\n",
       "    </tr>\n",
       "    <tr>\n",
       "      <th>48</th>\n",
       "      <td>3501685156</td>\n",
       "      <td>table_games</td>\n",
       "    </tr>\n",
       "    <tr>\n",
       "      <th>31</th>\n",
       "      <td>20422</td>\n",
       "      <td>payment_by_credit_card</td>\n",
       "    </tr>\n",
       "    <tr>\n",
       "      <th>33</th>\n",
       "      <td>21247</td>\n",
       "      <td>sports_broadcasts</td>\n",
       "    </tr>\n",
       "    <tr>\n",
       "      <th>23</th>\n",
       "      <td>11634</td>\n",
       "      <td>free_delivery</td>\n",
       "    </tr>\n",
       "    <tr>\n",
       "      <th>54</th>\n",
       "      <td>3501769434</td>\n",
       "      <td>coffee_shop</td>\n",
       "    </tr>\n",
       "    <tr>\n",
       "      <th>28</th>\n",
       "      <td>11867</td>\n",
       "      <td>business_lunch</td>\n",
       "    </tr>\n",
       "    <tr>\n",
       "      <th>21</th>\n",
       "      <td>11617</td>\n",
       "      <td>takeaway</td>\n",
       "    </tr>\n",
       "  </tbody>\n",
       "</table>\n",
       "</div>"
      ],
      "text/plain": [
       "    feature_id            feature_name\n",
       "32       21216            organic_food\n",
       "52  3501754799                  pickup\n",
       "2          288   accepted_credit_cards\n",
       "48  3501685156             table_games\n",
       "31       20422  payment_by_credit_card\n",
       "33       21247       sports_broadcasts\n",
       "23       11634           free_delivery\n",
       "54  3501769434             coffee_shop\n",
       "28       11867          business_lunch\n",
       "21       11617                takeaway"
      ]
     },
     "execution_count": 61,
     "metadata": {},
     "output_type": "execute_result"
    }
   ],
   "source": [
    "features = pd.read_csv('data/features.csv')\n",
    "features.sample(10)"
   ]
  },
  {
   "cell_type": "code",
   "execution_count": 62,
   "id": "6bcc6ca6",
   "metadata": {},
   "outputs": [
    {
     "data": {
      "text/html": [
       "<div>\n",
       "<style scoped>\n",
       "    .dataframe tbody tr th:only-of-type {\n",
       "        vertical-align: middle;\n",
       "    }\n",
       "\n",
       "    .dataframe tbody tr th {\n",
       "        vertical-align: top;\n",
       "    }\n",
       "\n",
       "    .dataframe thead th {\n",
       "        text-align: right;\n",
       "    }\n",
       "</style>\n",
       "<table border=\"1\" class=\"dataframe\">\n",
       "  <thead>\n",
       "    <tr style=\"text-align: right;\">\n",
       "      <th></th>\n",
       "      <th>org_id</th>\n",
       "      <th>city</th>\n",
       "      <th>average_bill</th>\n",
       "      <th>rating</th>\n",
       "      <th>rubrics_id</th>\n",
       "      <th>features_id</th>\n",
       "    </tr>\n",
       "  </thead>\n",
       "  <tbody>\n",
       "    <tr>\n",
       "      <th>0</th>\n",
       "      <td>16848414477362211020</td>\n",
       "      <td>spb</td>\n",
       "      <td>1000.0</td>\n",
       "      <td>4.479702</td>\n",
       "      <td>[30776, 31375]</td>\n",
       "      <td>[1018, 1509, 11177, 11617, 11629, 11704, 11867...</td>\n",
       "    </tr>\n",
       "    <tr>\n",
       "      <th>1</th>\n",
       "      <td>1430604733320164116</td>\n",
       "      <td>spb</td>\n",
       "      <td>1000.0</td>\n",
       "      <td>4.514509</td>\n",
       "      <td>[30776, 30770]</td>\n",
       "      <td>[246, 1018, 11617, 11629, 11704, 11867, 20422,...</td>\n",
       "    </tr>\n",
       "    <tr>\n",
       "      <th>2</th>\n",
       "      <td>9880309324224147401</td>\n",
       "      <td>spb</td>\n",
       "      <td>1000.0</td>\n",
       "      <td>3.884615</td>\n",
       "      <td>[30770, 30774]</td>\n",
       "      <td>[1018, 11177, 11617, 11629, 11704, 11867, 2042...</td>\n",
       "    </tr>\n",
       "    <tr>\n",
       "      <th>3</th>\n",
       "      <td>5617879987171966456</td>\n",
       "      <td>spb</td>\n",
       "      <td>1000.0</td>\n",
       "      <td>NaN</td>\n",
       "      <td>[30774, 30775]</td>\n",
       "      <td>[1018, 1509, 10596, 11177, 11629, 11634, 11704...</td>\n",
       "    </tr>\n",
       "    <tr>\n",
       "      <th>4</th>\n",
       "      <td>5241461680470612149</td>\n",
       "      <td>spb</td>\n",
       "      <td>1000.0</td>\n",
       "      <td>4.532468</td>\n",
       "      <td>[30776]</td>\n",
       "      <td>[1018, 11177, 11617, 11629, 11704, 11867, 2042...</td>\n",
       "    </tr>\n",
       "  </tbody>\n",
       "</table>\n",
       "</div>"
      ],
      "text/plain": [
       "                 org_id city  average_bill    rating      rubrics_id  \\\n",
       "0  16848414477362211020  spb        1000.0  4.479702  [30776, 31375]   \n",
       "1   1430604733320164116  spb        1000.0  4.514509  [30776, 30770]   \n",
       "2   9880309324224147401  spb        1000.0  3.884615  [30770, 30774]   \n",
       "3   5617879987171966456  spb        1000.0       NaN  [30774, 30775]   \n",
       "4   5241461680470612149  spb        1000.0  4.532468         [30776]   \n",
       "\n",
       "                                         features_id  \n",
       "0  [1018, 1509, 11177, 11617, 11629, 11704, 11867...  \n",
       "1  [246, 1018, 11617, 11629, 11704, 11867, 20422,...  \n",
       "2  [1018, 11177, 11617, 11629, 11704, 11867, 2042...  \n",
       "3  [1018, 1509, 10596, 11177, 11629, 11634, 11704...  \n",
       "4  [1018, 11177, 11617, 11629, 11704, 11867, 2042...  "
      ]
     },
     "execution_count": 62,
     "metadata": {},
     "output_type": "execute_result"
    }
   ],
   "source": [
    "orgs = pd.read_csv('data/organisations.csv')\n",
    "\n",
    "columns = ['rubrics_id', 'features_id'] # create lists\n",
    "apply_to_columns(orgs, columns)\n",
    "\n",
    "orgs.head(5)"
   ]
  },
  {
   "cell_type": "markdown",
   "id": "698fe5fa",
   "metadata": {},
   "source": [
    "`organisations.csv` - Информация об организациях:\n",
    "\n",
    "* `org_id:` идентификатор организации\n",
    "* `city_id:` город организации\n",
    "* `average_bill:` средний чек в рублях (округленный с точностью до 500 рублей)\n",
    "* `avg_rating:` средний рейтинг (в том числе с учетом не перечисленных в файле reviews.csv отзывов и оценок)\n",
    "* `rubric_id:` рубрика опрганизации\n",
    "* `feature_ids:` набор известных особенностей данной организации."
   ]
  },
  {
   "cell_type": "code",
   "execution_count": 63,
   "id": "c0e3260a",
   "metadata": {},
   "outputs": [
    {
     "data": {
      "text/html": [
       "<div>\n",
       "<style scoped>\n",
       "    .dataframe tbody tr th:only-of-type {\n",
       "        vertical-align: middle;\n",
       "    }\n",
       "\n",
       "    .dataframe tbody tr th {\n",
       "        vertical-align: top;\n",
       "    }\n",
       "\n",
       "    .dataframe thead th {\n",
       "        text-align: right;\n",
       "    }\n",
       "</style>\n",
       "<table border=\"1\" class=\"dataframe\">\n",
       "  <thead>\n",
       "    <tr style=\"text-align: right;\">\n",
       "      <th></th>\n",
       "      <th>org_id</th>\n",
       "      <th>city</th>\n",
       "      <th>average_bill</th>\n",
       "      <th>rating</th>\n",
       "      <th>rubrics_id</th>\n",
       "      <th>features_id</th>\n",
       "      <th>feature_count</th>\n",
       "    </tr>\n",
       "  </thead>\n",
       "  <tbody>\n",
       "    <tr>\n",
       "      <th>9549</th>\n",
       "      <td>10737582216015295829</td>\n",
       "      <td>msk</td>\n",
       "      <td>NaN</td>\n",
       "      <td>4.92</td>\n",
       "      <td>[31401]</td>\n",
       "      <td>[10447, 20422]</td>\n",
       "      <td>2</td>\n",
       "    </tr>\n",
       "    <tr>\n",
       "      <th>12363</th>\n",
       "      <td>5838832638823781722</td>\n",
       "      <td>msk</td>\n",
       "      <td>500.0</td>\n",
       "      <td>4.50</td>\n",
       "      <td>[31495]</td>\n",
       "      <td>[1018, 11177, 11617, 11704, 20422, 273469383]</td>\n",
       "      <td>6</td>\n",
       "    </tr>\n",
       "    <tr>\n",
       "      <th>60707</th>\n",
       "      <td>1836634166154754270</td>\n",
       "      <td>msk</td>\n",
       "      <td>NaN</td>\n",
       "      <td>5.00</td>\n",
       "      <td>[30770]</td>\n",
       "      <td>[20422, 2020795524]</td>\n",
       "      <td>2</td>\n",
       "    </tr>\n",
       "  </tbody>\n",
       "</table>\n",
       "</div>"
      ],
      "text/plain": [
       "                     org_id city  average_bill  rating rubrics_id  \\\n",
       "9549   10737582216015295829  msk           NaN    4.92    [31401]   \n",
       "12363   5838832638823781722  msk         500.0    4.50    [31495]   \n",
       "60707   1836634166154754270  msk           NaN    5.00    [30770]   \n",
       "\n",
       "                                         features_id  feature_count  \n",
       "9549                                  [10447, 20422]              2  \n",
       "12363  [1018, 11177, 11617, 11704, 20422, 273469383]              6  \n",
       "60707                            [20422, 2020795524]              2  "
      ]
     },
     "execution_count": 63,
     "metadata": {},
     "output_type": "execute_result"
    }
   ],
   "source": [
    "def count_feature(x):\n",
    "    try: return len(x)\n",
    "    except: return 0\n",
    "\n",
    "orgs['feature_count'] = orgs['features_id'].apply(count_feature)\n",
    "\n",
    "orgs.sample(3)"
   ]
  },
  {
   "cell_type": "code",
   "execution_count": null,
   "id": "93a822ea",
   "metadata": {},
   "outputs": [],
   "source": [
    " "
   ]
  },
  {
   "cell_type": "code",
   "execution_count": 64,
   "id": "881a30f4",
   "metadata": {},
   "outputs": [],
   "source": [
    "# # orgs.feature_count.hist()\n",
    "# orgs.average_bill.value_counts()"
   ]
  },
  {
   "cell_type": "markdown",
   "id": "9949976a",
   "metadata": {},
   "source": [
    " "
   ]
  },
  {
   "cell_type": "markdown",
   "id": "6419614d",
   "metadata": {},
   "source": [
    "Чтобы не делать __join__ каждый раз, когда нам потребуется узнать, из какого города организация или пользователь, сразу добавим эту информацию в отзывы - `reviews.csv` - обучающее множество собрано за `X = 1217` дней, тестовое множество – за последующие `Y = 107` дней.\n",
    "\n",
    "В этом файле дана информация об отзывах и оценках, оставленных некоторым множеством жителей Москвы и Санкт-Петерубрга в течение обучающего периода:\n",
    "\n",
    "* `user_id`: идентификатор пользователя\n",
    "* `org_id`: идентификатор организации\n",
    "* `ts`: время отзыва (в днях от начала обучающего периода)\n",
    "* `rating`: поставленная оценка\n",
    "* `aspect_ids`: набор упомянутых в тексте отзыва аспектов."
   ]
  },
  {
   "cell_type": "code",
   "execution_count": 65,
   "id": "bdf9c177",
   "metadata": {},
   "outputs": [
    {
     "name": "stdout",
     "output_type": "stream",
     "text": [
      "Reviews:  3640835\n",
      "Users review:  1252801\n",
      "Приклеим информацию по юзерам\n",
      "Приклеим информацию по организациям\n",
      "Удалим дубли\n",
      "Выброшено дублей:  58038\n"
     ]
    },
    {
     "data": {
      "text/html": [
       "<div>\n",
       "<style scoped>\n",
       "    .dataframe tbody tr th:only-of-type {\n",
       "        vertical-align: middle;\n",
       "    }\n",
       "\n",
       "    .dataframe tbody tr th {\n",
       "        vertical-align: top;\n",
       "    }\n",
       "\n",
       "    .dataframe thead th {\n",
       "        text-align: right;\n",
       "    }\n",
       "</style>\n",
       "<table border=\"1\" class=\"dataframe\">\n",
       "  <thead>\n",
       "    <tr style=\"text-align: right;\">\n",
       "      <th></th>\n",
       "      <th>user_id</th>\n",
       "      <th>org_id</th>\n",
       "      <th>rating</th>\n",
       "      <th>ts</th>\n",
       "      <th>aspects</th>\n",
       "      <th>user_city</th>\n",
       "      <th>org_city</th>\n",
       "      <th>org_rating</th>\n",
       "    </tr>\n",
       "  </thead>\n",
       "  <tbody>\n",
       "    <tr>\n",
       "      <th>2590543</th>\n",
       "      <td>6794806474361658617</td>\n",
       "      <td>17449310556511053368</td>\n",
       "      <td>4.0</td>\n",
       "      <td>436</td>\n",
       "      <td>NaN</td>\n",
       "      <td>spb</td>\n",
       "      <td>spb</td>\n",
       "      <td>4.462428</td>\n",
       "    </tr>\n",
       "    <tr>\n",
       "      <th>2037747</th>\n",
       "      <td>14830066253731475063</td>\n",
       "      <td>11642510571342462316</td>\n",
       "      <td>5.0</td>\n",
       "      <td>779</td>\n",
       "      <td>NaN</td>\n",
       "      <td>msk</td>\n",
       "      <td>msk</td>\n",
       "      <td>4.626263</td>\n",
       "    </tr>\n",
       "    <tr>\n",
       "      <th>3454986</th>\n",
       "      <td>15474960006067312773</td>\n",
       "      <td>7349575975764022325</td>\n",
       "      <td>5.0</td>\n",
       "      <td>970</td>\n",
       "      <td>NaN</td>\n",
       "      <td>msk</td>\n",
       "      <td>msk</td>\n",
       "      <td>4.444444</td>\n",
       "    </tr>\n",
       "    <tr>\n",
       "      <th>776148</th>\n",
       "      <td>3220537195765978359</td>\n",
       "      <td>5587443500834325077</td>\n",
       "      <td>5.0</td>\n",
       "      <td>370</td>\n",
       "      <td>[7, 38]</td>\n",
       "      <td>msk</td>\n",
       "      <td>msk</td>\n",
       "      <td>4.458694</td>\n",
       "    </tr>\n",
       "    <tr>\n",
       "      <th>3191201</th>\n",
       "      <td>4864131267870421172</td>\n",
       "      <td>12505232768941548563</td>\n",
       "      <td>4.0</td>\n",
       "      <td>1115</td>\n",
       "      <td>NaN</td>\n",
       "      <td>msk</td>\n",
       "      <td>msk</td>\n",
       "      <td>4.413793</td>\n",
       "    </tr>\n",
       "    <tr>\n",
       "      <th>1425779</th>\n",
       "      <td>3689745262013259045</td>\n",
       "      <td>12070475576098814794</td>\n",
       "      <td>5.0</td>\n",
       "      <td>1215</td>\n",
       "      <td>NaN</td>\n",
       "      <td>msk</td>\n",
       "      <td>msk</td>\n",
       "      <td>4.176471</td>\n",
       "    </tr>\n",
       "    <tr>\n",
       "      <th>2540637</th>\n",
       "      <td>12063859672478847904</td>\n",
       "      <td>1002401688084545392</td>\n",
       "      <td>5.0</td>\n",
       "      <td>580</td>\n",
       "      <td>NaN</td>\n",
       "      <td>msk</td>\n",
       "      <td>msk</td>\n",
       "      <td>4.492007</td>\n",
       "    </tr>\n",
       "    <tr>\n",
       "      <th>2916917</th>\n",
       "      <td>14123633295053930265</td>\n",
       "      <td>16417590888904748029</td>\n",
       "      <td>5.0</td>\n",
       "      <td>345</td>\n",
       "      <td>NaN</td>\n",
       "      <td>msk</td>\n",
       "      <td>msk</td>\n",
       "      <td>3.766667</td>\n",
       "    </tr>\n",
       "    <tr>\n",
       "      <th>943445</th>\n",
       "      <td>1632253034035400958</td>\n",
       "      <td>1593380652788320661</td>\n",
       "      <td>5.0</td>\n",
       "      <td>918</td>\n",
       "      <td>NaN</td>\n",
       "      <td>spb</td>\n",
       "      <td>spb</td>\n",
       "      <td>4.351190</td>\n",
       "    </tr>\n",
       "    <tr>\n",
       "      <th>2855881</th>\n",
       "      <td>13259836703708758524</td>\n",
       "      <td>4750022828396262408</td>\n",
       "      <td>5.0</td>\n",
       "      <td>986</td>\n",
       "      <td>[6]</td>\n",
       "      <td>msk</td>\n",
       "      <td>msk</td>\n",
       "      <td>4.270737</td>\n",
       "    </tr>\n",
       "  </tbody>\n",
       "</table>\n",
       "</div>"
      ],
      "text/plain": [
       "                      user_id                org_id  rating    ts  aspects  \\\n",
       "2590543   6794806474361658617  17449310556511053368     4.0   436      NaN   \n",
       "2037747  14830066253731475063  11642510571342462316     5.0   779      NaN   \n",
       "3454986  15474960006067312773   7349575975764022325     5.0   970      NaN   \n",
       "776148    3220537195765978359   5587443500834325077     5.0   370  [7, 38]   \n",
       "3191201   4864131267870421172  12505232768941548563     4.0  1115      NaN   \n",
       "1425779   3689745262013259045  12070475576098814794     5.0  1215      NaN   \n",
       "2540637  12063859672478847904   1002401688084545392     5.0   580      NaN   \n",
       "2916917  14123633295053930265  16417590888904748029     5.0   345      NaN   \n",
       "943445    1632253034035400958   1593380652788320661     5.0   918      NaN   \n",
       "2855881  13259836703708758524   4750022828396262408     5.0   986      [6]   \n",
       "\n",
       "        user_city org_city  org_rating  \n",
       "2590543       spb      spb    4.462428  \n",
       "2037747       msk      msk    4.626263  \n",
       "3454986       msk      msk    4.444444  \n",
       "776148        msk      msk    4.458694  \n",
       "3191201       msk      msk    4.413793  \n",
       "1425779       msk      msk    4.176471  \n",
       "2540637       msk      msk    4.492007  \n",
       "2916917       msk      msk    3.766667  \n",
       "943445        spb      spb    4.351190  \n",
       "2855881       msk      msk    4.270737  "
      ]
     },
     "execution_count": 65,
     "metadata": {},
     "output_type": "execute_result"
    }
   ],
   "source": [
    "reviews = pd.read_csv('data/reviews.csv', low_memory=False)\n",
    "\n",
    "print('Reviews: ', len(reviews))\n",
    "print('Users review: ', reviews.user_id.nunique())\n",
    "\n",
    "# encode users ids as numeric\n",
    "print('Приклеим информацию по юзерам')\n",
    "reviews = reviews.merge(users, on='user_id', how='left')\n",
    "reviews = reviews.rename({'city': 'user_city'}, axis=1)\n",
    "\n",
    "print('Приклеим информацию по организациям')\n",
    "orgs.rename({'rating': 'org_rating'}, axis=1, inplace=True)\n",
    "reviews = reviews.merge(orgs[['org_id', 'city','org_rating']], on='org_id', how='left') # encode orgs ids as numeric\n",
    "reviews = reviews.rename({'city': 'org_city'}, axis=1)\n",
    "\n",
    "\n",
    "columns = ['aspects'] # create lists\n",
    "apply_to_columns(reviews, columns)\n",
    "\n",
    "print('Удалим дубли')\n",
    "len_before_drop_duplics = len(reviews)\n",
    "reviews.drop_duplicates(['user_id', 'org_id','rating','ts','user_city','org_city'], inplace=True) # Удаляем дубли\n",
    "len_after_drop_duplics = len(reviews)\n",
    "print('Выброшено дублей: ', len_before_drop_duplics - len_after_drop_duplics)\n",
    "\n",
    "reviews.sample(10)"
   ]
  },
  {
   "cell_type": "code",
   "execution_count": 66,
   "id": "f97dff18",
   "metadata": {},
   "outputs": [],
   "source": [
    "# activity.columns, reviews.columns"
   ]
  },
  {
   "cell_type": "code",
   "execution_count": 67,
   "id": "db4b462e",
   "metadata": {},
   "outputs": [
    {
     "name": "stdout",
     "output_type": "stream",
     "text": [
      "Добавим фичей\n"
     ]
    },
    {
     "data": {
      "text/html": [
       "<div>\n",
       "<style scoped>\n",
       "    .dataframe tbody tr th:only-of-type {\n",
       "        vertical-align: middle;\n",
       "    }\n",
       "\n",
       "    .dataframe tbody tr th {\n",
       "        vertical-align: top;\n",
       "    }\n",
       "\n",
       "    .dataframe thead th {\n",
       "        text-align: right;\n",
       "    }\n",
       "</style>\n",
       "<table border=\"1\" class=\"dataframe\">\n",
       "  <thead>\n",
       "    <tr style=\"text-align: right;\">\n",
       "      <th></th>\n",
       "      <th>user_id</th>\n",
       "      <th>org_id</th>\n",
       "      <th>rating</th>\n",
       "      <th>ts</th>\n",
       "      <th>aspects</th>\n",
       "      <th>user_city</th>\n",
       "      <th>org_city</th>\n",
       "      <th>org_rating</th>\n",
       "      <th>aspect_count</th>\n",
       "      <th>user_mean_rating</th>\n",
       "      <th>user_review_activity</th>\n",
       "      <th>user_aspect_activity</th>\n",
       "    </tr>\n",
       "  </thead>\n",
       "  <tbody>\n",
       "    <tr>\n",
       "      <th>0</th>\n",
       "      <td>16998268288908323644</td>\n",
       "      <td>7184895086928047809</td>\n",
       "      <td>2.0</td>\n",
       "      <td>105</td>\n",
       "      <td>NaN</td>\n",
       "      <td>msk</td>\n",
       "      <td>msk</td>\n",
       "      <td>4.038688</td>\n",
       "      <td>0</td>\n",
       "      <td>3.25</td>\n",
       "      <td>4</td>\n",
       "      <td>0</td>\n",
       "    </tr>\n",
       "    <tr>\n",
       "      <th>1</th>\n",
       "      <td>12235230637700316274</td>\n",
       "      <td>11420440322893824394</td>\n",
       "      <td>3.0</td>\n",
       "      <td>890</td>\n",
       "      <td>[17]</td>\n",
       "      <td>msk</td>\n",
       "      <td>msk</td>\n",
       "      <td>3.750000</td>\n",
       "      <td>1</td>\n",
       "      <td>3.00</td>\n",
       "      <td>7</td>\n",
       "      <td>1</td>\n",
       "    </tr>\n",
       "    <tr>\n",
       "      <th>2</th>\n",
       "      <td>2706795762761414590</td>\n",
       "      <td>11993738663105455885</td>\n",
       "      <td>3.0</td>\n",
       "      <td>936</td>\n",
       "      <td>NaN</td>\n",
       "      <td>spb</td>\n",
       "      <td>spb</td>\n",
       "      <td>4.078873</td>\n",
       "      <td>0</td>\n",
       "      <td>4.00</td>\n",
       "      <td>6</td>\n",
       "      <td>1</td>\n",
       "    </tr>\n",
       "    <tr>\n",
       "      <th>3</th>\n",
       "      <td>2522006254806484630</td>\n",
       "      <td>18200844491365025705</td>\n",
       "      <td>3.0</td>\n",
       "      <td>1048</td>\n",
       "      <td>[6]</td>\n",
       "      <td>spb</td>\n",
       "      <td>spb</td>\n",
       "      <td>4.460784</td>\n",
       "      <td>1</td>\n",
       "      <td>4.40</td>\n",
       "      <td>5</td>\n",
       "      <td>10</td>\n",
       "    </tr>\n",
       "    <tr>\n",
       "      <th>4</th>\n",
       "      <td>2035736119522953868</td>\n",
       "      <td>7143808482480365209</td>\n",
       "      <td>5.0</td>\n",
       "      <td>1185</td>\n",
       "      <td>NaN</td>\n",
       "      <td>spb</td>\n",
       "      <td>spb</td>\n",
       "      <td>4.226582</td>\n",
       "      <td>0</td>\n",
       "      <td>5.00</td>\n",
       "      <td>1</td>\n",
       "      <td>0</td>\n",
       "    </tr>\n",
       "  </tbody>\n",
       "</table>\n",
       "</div>"
      ],
      "text/plain": [
       "                user_id                org_id  rating    ts aspects user_city  \\\n",
       "0  16998268288908323644   7184895086928047809     2.0   105     NaN       msk   \n",
       "1  12235230637700316274  11420440322893824394     3.0   890    [17]       msk   \n",
       "2   2706795762761414590  11993738663105455885     3.0   936     NaN       spb   \n",
       "3   2522006254806484630  18200844491365025705     3.0  1048     [6]       spb   \n",
       "4   2035736119522953868   7143808482480365209     5.0  1185     NaN       spb   \n",
       "\n",
       "  org_city  org_rating  aspect_count  user_mean_rating  user_review_activity  \\\n",
       "0      msk    4.038688             0              3.25                     4   \n",
       "1      msk    3.750000             1              3.00                     7   \n",
       "2      spb    4.078873             0              4.00                     6   \n",
       "3      spb    4.460784             1              4.40                     5   \n",
       "4      spb    4.226582             0              5.00                     1   \n",
       "\n",
       "   user_aspect_activity  \n",
       "0                     0  \n",
       "1                     1  \n",
       "2                     1  \n",
       "3                    10  \n",
       "4                     0  "
      ]
     },
     "execution_count": 67,
     "metadata": {},
     "output_type": "execute_result"
    }
   ],
   "source": [
    "print(\"Добавим фичей\")    \n",
    "reviews['aspect_count'] = reviews['aspects'].apply(count_feature)\n",
    "activity = reviews.groupby(by='user_id', as_index = False).agg(\n",
    "    user_mean_rating = ('rating', 'mean'),\n",
    "    user_review_activity = ('rating', 'count'),\n",
    "    user_aspect_activity = ('aspect_count', 'sum'))\n",
    "\n",
    "reviews = reviews.merge(activity[['user_id', 'user_mean_rating',\n",
    "                                  'user_review_activity', 'user_aspect_activity']], on='user_id', how='left') # encode orgs ids as numeric\n",
    "reviews.head(5)\n"
   ]
  },
  {
   "cell_type": "code",
   "execution_count": null,
   "id": "6fc083d6",
   "metadata": {},
   "outputs": [],
   "source": [
    " "
   ]
  },
  {
   "cell_type": "markdown",
   "id": "7b19f2a5",
   "metadata": {},
   "source": [
    "**Отлично, теперь с отзывами будет удобно работать.**  Посмотрим на распределение новых отзывов по дням, чтобы понять, как лучше организовать валидацию. "
   ]
  },
  {
   "cell_type": "code",
   "execution_count": 68,
   "id": "3a20d2ce",
   "metadata": {},
   "outputs": [
    {
     "data": {
      "image/png": "[encoded data removed]",
      "text/plain": [
       "<Figure size 576x576 with 1 Axes>"
      ]
     },
     "metadata": {
      "needs_background": "light"
     },
     "output_type": "display_data"
    }
   ],
   "source": [
    "sns.displot(data=reviews, x='ts', height=8)\n",
    "plt.title('Распределение отзывов по дням')\n",
    "plt.show()"
   ]
  },
  {
   "cell_type": "markdown",
   "id": "1ed415be",
   "metadata": {},
   "source": [
    "# Train-test split"
   ]
  },
  {
   "cell_type": "code",
   "execution_count": 69,
   "id": "8cd3ee1f",
   "metadata": {},
   "outputs": [],
   "source": [
    "from func import clear_df, extract_unique, count_unique, filter_reviews, train_test_split, process_reviews"
   ]
  },
  {
   "cell_type": "code",
   "execution_count": 70,
   "id": "e1918c53",
   "metadata": {},
   "outputs": [
    {
     "name": "stdout",
     "output_type": "stream",
     "text": [
      "Дней 1216\n"
     ]
    }
   ],
   "source": [
    "print('Дней', reviews['ts'].max())"
   ]
  },
  {
   "cell_type": "markdown",
   "id": "c3d5c08f",
   "metadata": {},
   "source": [
    "**Всего в выборку попали отызывы за 1216 дней.**  Отложим в тестовую выборку отзывы за последние **100** дней."
   ]
  },
  {
   "cell_type": "code",
   "execution_count": 71,
   "id": "c380fe42",
   "metadata": {},
   "outputs": [],
   "source": [
    "train_reviews, test_reviews = train_test_split(reviews, 1116)\n",
    "X_test, y_test = process_reviews(test_reviews)"
   ]
  },
  {
   "cell_type": "markdown",
   "id": "b3f028dc",
   "metadata": {},
   "source": [
    "Посмотрим, сколько всего уникальных пользователей попало в эту тестовую выборку:"
   ]
  },
  {
   "cell_type": "code",
   "execution_count": 72,
   "id": "8ae10b91",
   "metadata": {},
   "outputs": [
    {
     "data": {
      "text/plain": [
       "12044"
      ]
     },
     "execution_count": 72,
     "metadata": {},
     "output_type": "execute_result"
    }
   ],
   "source": [
    "len(X_test)"
   ]
  },
  {
   "cell_type": "markdown",
   "id": "09e04f8b",
   "metadata": {},
   "source": [
    "# Метрика"
   ]
  },
  {
   "cell_type": "markdown",
   "id": "c8d58bb7",
   "metadata": {},
   "source": [
    "Метрика принимает на вход два DataFrame, имеющих такую же структуру, как и **y_test**. `print_score` домножает реальное значение метрики на `100` так же, как и в контесте. Подобная имплементация используется для оценки **submission**."
   ]
  },
  {
   "cell_type": "code",
   "execution_count": 73,
   "id": "c7a0534f",
   "metadata": {},
   "outputs": [],
   "source": [
    "from func import MNAP, print_score"
   ]
  },
  {
   "cell_type": "code",
   "execution_count": 74,
   "id": "9c33d0d1",
   "metadata": {},
   "outputs": [],
   "source": [
    "N = 20\n",
    "MNAP_N = MNAP(N)"
   ]
  },
  {
   "cell_type": "markdown",
   "id": "07f9e4e2",
   "metadata": {},
   "source": [
    "# Подходы без машинного обучения"
   ]
  },
  {
   "cell_type": "code",
   "execution_count": 75,
   "id": "dbdf59c8",
   "metadata": {},
   "outputs": [],
   "source": [
    "spb_orgs = orgs[orgs['city'] == 'spb']['org_id']\n",
    "msk_orgs = orgs[orgs['city'] == 'msk']['org_id']\n",
    "test_users_with_locations = X_test.merge(users, on='user_id')"
   ]
  },
  {
   "cell_type": "markdown",
   "id": "0876f157",
   "metadata": {},
   "source": [
    "## N самых популярных мест"
   ]
  },
  {
   "cell_type": "markdown",
   "id": "ac348e1b",
   "metadata": {},
   "source": [
    "Предыдущий подход, очевидно, не очень удачно предсказывает, какие места посетит пользователей. \n",
    "\n",
    "Попробуем улучшить стратегию: будем предлагать пользователям самые популярные места, то есть те, на которые оставлено больше всего отзывов. "
   ]
  },
  {
   "cell_type": "code",
   "execution_count": 76,
   "id": "10c73d5e",
   "metadata": {},
   "outputs": [],
   "source": [
    "msk_orgs = train_reviews[(train_reviews['rating'] >= 4) & (train_reviews['org_city'] == 'msk')]['org_id']\n",
    "msk_orgs = msk_orgs.value_counts().index[:N].to_list()\n",
    "\n",
    "spb_orgs = train_reviews[(train_reviews['rating'] >= 4) & (train_reviews['org_city'] == 'spb')]['org_id']\n",
    "spb_orgs = spb_orgs.value_counts().index[:N].to_list()"
   ]
  },
  {
   "cell_type": "code",
   "execution_count": 77,
   "id": "7bb05cc8",
   "metadata": {},
   "outputs": [
    {
     "name": "stdout",
     "output_type": "stream",
     "text": [
      "Score: 4.24\n"
     ]
    }
   ],
   "source": [
    "choose = lambda x: spb_orgs if x['city'] == 'msk' else msk_orgs\n",
    "target = test_users_with_locations.apply(choose, axis=1)\n",
    "\n",
    "predictions = X_test.copy()\n",
    "predictions['target'] = target\n",
    "\n",
    "print_score(MNAP_N(y_test, predictions))"
   ]
  },
  {
   "cell_type": "markdown",
   "id": "74320847",
   "metadata": {},
   "source": [
    "Отлично, метрика немного улучшилась. Но стоит попробовать доработать эту тактику. "
   ]
  },
  {
   "cell_type": "markdown",
   "id": "b08c13ec",
   "metadata": {},
   "source": [
    "## N самых популярных мест среди туристов"
   ]
  },
  {
   "cell_type": "code",
   "execution_count": 78,
   "id": "4ff06b57",
   "metadata": {},
   "outputs": [],
   "source": [
    "tourist_reviews = train_reviews[train_reviews['rating'] >= 4.0]\n",
    "\n",
    "# набор отзывов только от туристов\n",
    "tourist_reviews = tourist_reviews[tourist_reviews['user_city'] != tourist_reviews['org_city']]\n",
    "\n",
    "# выбираем самые популярные места среди туристов из Москвы и Питера\n",
    "msk_orgs = tourist_reviews[tourist_reviews['org_city'] == 'msk']['org_id']\n",
    "msk_orgs = msk_orgs.value_counts().index[:N].to_list()\n",
    "\n",
    "spb_orgs = tourist_reviews[tourist_reviews['org_city'] == 'spb']['org_id']\n",
    "spb_orgs = spb_orgs.value_counts().index[:N].to_list()"
   ]
  },
  {
   "cell_type": "code",
   "execution_count": 79,
   "id": "bc617423",
   "metadata": {},
   "outputs": [
    {
     "name": "stdout",
     "output_type": "stream",
     "text": [
      "Score: 6.44\n"
     ]
    }
   ],
   "source": [
    "choose = lambda x: spb_orgs if x['city'] == 'msk' else msk_orgs\n",
    "target = test_users_with_locations.apply(choose, axis=1)\n",
    "\n",
    "predictions = X_test.copy()\n",
    "predictions['target'] = target\n",
    "\n",
    "print_score(MNAP_N(y_test, predictions))"
   ]
  },
  {
   "cell_type": "markdown",
   "id": "80a2d001",
   "metadata": {},
   "source": [
    "Метрика улучшилась ещё!"
   ]
  },
  {
   "cell_type": "markdown",
   "id": "fe737b31",
   "metadata": {},
   "source": [
    "## N самых популярных мест среди туристов с учетом оценки заведения"
   ]
  },
  {
   "cell_type": "code",
   "execution_count": 80,
   "id": "b3ed7c0c",
   "metadata": {},
   "outputs": [],
   "source": [
    "tourist_reviews = train_reviews[(train_reviews['rating'] >= 4.0) & (train_reviews['org_rating'] >=  4.0)]\n",
    "\n",
    "# набор отзывов только от туристов\n",
    "tourist_reviews = tourist_reviews[tourist_reviews['user_city'] != tourist_reviews['org_city']]\n",
    "\n",
    "# выбираем самые популярные места среди туристов из Москвы и Питера\n",
    "msk_orgs = tourist_reviews[tourist_reviews['org_city'] == 'msk']['org_id']\n",
    "msk_orgs = msk_orgs.value_counts().index[:N].to_list()\n",
    "\n",
    "spb_orgs = tourist_reviews[tourist_reviews['org_city'] == 'spb']['org_id']\n",
    "spb_orgs = spb_orgs.value_counts().index[:N].to_list()"
   ]
  },
  {
   "cell_type": "code",
   "execution_count": 81,
   "id": "b8ddc4d6",
   "metadata": {},
   "outputs": [
    {
     "name": "stdout",
     "output_type": "stream",
     "text": [
      "Score: 6.50\n"
     ]
    }
   ],
   "source": [
    "choose = lambda x: spb_orgs if x['city'] == 'msk' else msk_orgs\n",
    "target = test_users_with_locations.apply(choose, axis=1)\n",
    "\n",
    "predictions = X_test.copy()\n",
    "predictions['target'] = target\n",
    "\n",
    "print_score(MNAP_N(y_test, predictions))"
   ]
  },
  {
   "cell_type": "markdown",
   "id": "b74c88b8",
   "metadata": {},
   "source": [
    "Метрика улучшилась ещё немного."
   ]
  },
  {
   "cell_type": "markdown",
   "id": "a6284304",
   "metadata": {},
   "source": [
    "## N / rubrics_count самых популярных мест из каждой рубрики"
   ]
  },
  {
   "cell_type": "code",
   "execution_count": 82,
   "id": "b3d3d87c",
   "metadata": {},
   "outputs": [],
   "source": [
    "from func import extract_top_by_rubrics"
   ]
  },
  {
   "cell_type": "code",
   "execution_count": 83,
   "id": "d71624bf",
   "metadata": {},
   "outputs": [
    {
     "data": {
      "text/html": [
       "<div>\n",
       "<style scoped>\n",
       "    .dataframe tbody tr th:only-of-type {\n",
       "        vertical-align: middle;\n",
       "    }\n",
       "\n",
       "    .dataframe tbody tr th {\n",
       "        vertical-align: top;\n",
       "    }\n",
       "\n",
       "    .dataframe thead th {\n",
       "        text-align: right;\n",
       "    }\n",
       "</style>\n",
       "<table border=\"1\" class=\"dataframe\">\n",
       "  <thead>\n",
       "    <tr style=\"text-align: right;\">\n",
       "      <th></th>\n",
       "      <th>org_id</th>\n",
       "      <th>city</th>\n",
       "      <th>average_bill</th>\n",
       "      <th>org_rating</th>\n",
       "      <th>rubrics_id</th>\n",
       "      <th>features_id</th>\n",
       "      <th>feature_count</th>\n",
       "    </tr>\n",
       "  </thead>\n",
       "  <tbody>\n",
       "    <tr>\n",
       "      <th>0</th>\n",
       "      <td>16848414477362211020</td>\n",
       "      <td>spb</td>\n",
       "      <td>1000.0</td>\n",
       "      <td>4.479702</td>\n",
       "      <td>[30776, 31375]</td>\n",
       "      <td>[1018, 1509, 11177, 11617, 11629, 11704, 11867...</td>\n",
       "      <td>11</td>\n",
       "    </tr>\n",
       "    <tr>\n",
       "      <th>1</th>\n",
       "      <td>1430604733320164116</td>\n",
       "      <td>spb</td>\n",
       "      <td>1000.0</td>\n",
       "      <td>4.514509</td>\n",
       "      <td>[30776, 30770]</td>\n",
       "      <td>[246, 1018, 11617, 11629, 11704, 11867, 20422,...</td>\n",
       "      <td>10</td>\n",
       "    </tr>\n",
       "  </tbody>\n",
       "</table>\n",
       "</div>"
      ],
      "text/plain": [
       "                 org_id city  average_bill  org_rating      rubrics_id  \\\n",
       "0  16848414477362211020  spb        1000.0    4.479702  [30776, 31375]   \n",
       "1   1430604733320164116  spb        1000.0    4.514509  [30776, 30770]   \n",
       "\n",
       "                                         features_id  feature_count  \n",
       "0  [1018, 1509, 11177, 11617, 11629, 11704, 11867...             11  \n",
       "1  [246, 1018, 11617, 11629, 11704, 11867, 20422,...             10  "
      ]
     },
     "execution_count": 83,
     "metadata": {},
     "output_type": "execute_result"
    }
   ],
   "source": [
    "orgs.head(2)"
   ]
  },
  {
   "cell_type": "code",
   "execution_count": 84,
   "id": "e02ed0a5",
   "metadata": {},
   "outputs": [],
   "source": [
    "msk_orgs = extract_top_by_rubrics(orgs, tourist_reviews[tourist_reviews['org_city'] == 'msk'], N)\n",
    "spb_orgs = extract_top_by_rubrics(orgs, tourist_reviews[tourist_reviews['org_city'] == 'spb'], N)"
   ]
  },
  {
   "cell_type": "code",
   "execution_count": 85,
   "id": "cdf02527",
   "metadata": {},
   "outputs": [
    {
     "name": "stdout",
     "output_type": "stream",
     "text": [
      "Score: 5.73\n"
     ]
    }
   ],
   "source": [
    "choose = lambda x: spb_orgs if x['city'] == 'msk' else msk_orgs\n",
    "target = test_users_with_locations.apply(choose, axis=1)\n",
    "\n",
    "predictions = X_test.copy()\n",
    "predictions['target'] = target\n",
    "\n",
    "print_score(MNAP_N(y_test, predictions))"
   ]
  },
  {
   "cell_type": "markdown",
   "id": "e3dd4d94",
   "metadata": {},
   "source": [
    "# Время ML! Коллаборативная фильтрация"
   ]
  },
  {
   "cell_type": "markdown",
   "id": "76594850",
   "metadata": {},
   "source": [
    "## Memory-based\n",
    "\n",
    "Для этой группы методов требуется явное построение матрицы __пользователь-организация__ (__interaction matrix__), где на пересечении `i`-ой строки и `j`-ого столбца будет рейтинг, который `i`-ый пользователь выставил `j`-ой организации или же пропуск, если рейтинг не был установлен. "
   ]
  },
  {
   "cell_type": "code",
   "execution_count": 86,
   "id": "1116b307",
   "metadata": {},
   "outputs": [],
   "source": [
    "from func import reduce_reviews, create_mappings, map_ids, interaction_matrix"
   ]
  },
  {
   "cell_type": "markdown",
   "id": "ce1adb5c",
   "metadata": {},
   "source": [
    "## ALS"
   ]
  },
  {
   "cell_type": "code",
   "execution_count": 87,
   "id": "7b3fbdb2",
   "metadata": {},
   "outputs": [],
   "source": [
    "import implicit  # !pip install implicit"
   ]
  },
  {
   "cell_type": "code",
   "execution_count": 101,
   "id": "2b70ef2b",
   "metadata": {},
   "outputs": [],
   "source": [
    "def make_predictions(interactions, X_test, N, mod='ALS'):\n",
    "    '''\n",
    "    make_predictions(interactions, X_test, N)\n",
    "        Делает рекомендации для пользователей из <X_test> на основе матрицы взаимодействий. \n",
    "        \n",
    "        Parameters\n",
    "        ----------\n",
    "        interactions : scipy.sparse.csr_matrix\n",
    "            Разреженная матрица взаимодействий.\n",
    "            \n",
    "        X_test : pd.DataFrame\n",
    "            Набор тестовых пользователей, для которых нужно сделать рекомендации. \n",
    "        \n",
    "        N : int\n",
    "            Число рекомендаций для каждого пользователя. \n",
    "        \n",
    "        Returns\n",
    "        -------\n",
    "        predictions : pd.DataFrame\n",
    "            DataFrame с колонками <user_id> и <target>. \n",
    "            В <target> содержится список рекомендованных для пользователя org_id.\n",
    "        \n",
    "    '''\n",
    "    \n",
    "    \n",
    "    predictions = X_test[['user_id']].copy()\n",
    "    predictions['target'] = pd.Series(dtype=object)\n",
    "    predictions = predictions.set_index('user_id')\n",
    "    \n",
    "    \n",
    "    interactions, (train_users_len, inner_orgs_len), mappings = interactions\n",
    "    (index_to_uid, uid_to_index), (index_to_oid, oid_to_index) = mappings\n",
    "\n",
    "    base_model = implicit.als.AlternatingLeastSquares(#use_gpu=True, \n",
    "        factors=30,  iterations=1000, \n",
    "        regularization=0.05,  random_state=42,\n",
    "        num_threads = 4,\n",
    "        #calculate_training_loss=True\n",
    "    )\n",
    "    base_model.fit(interactions.T)\n",
    "\n",
    "    \n",
    "    orgs_to_filter = list(np.arange(inner_orgs_len))\n",
    "\n",
    "    recommendations = base_model.recommend_all(\n",
    "        interactions,\n",
    "        N=N,\n",
    "        filter_already_liked_items=True,\n",
    "        filter_items=orgs_to_filter,\n",
    "        show_progress=True\n",
    "    )\n",
    "    \n",
    "    for user_id in tqdm(X_test['user_id'].values, leave=False):\n",
    "        predictions.loc[user_id, 'target'] = list(\n",
    "            map(\n",
    "                lambda org_index: index_to_oid[org_index], \n",
    "                recommendations[uid_to_index[user_id]]\n",
    "            )\n",
    "        )\n",
    "        \n",
    "    return predictions.reset_index()"
   ]
  },
  {
   "cell_type": "code",
   "execution_count": 102,
   "id": "3fa13871",
   "metadata": {},
   "outputs": [
    {
     "data": {
      "text/plain": [
       "0"
      ]
     },
     "execution_count": 102,
     "metadata": {},
     "output_type": "execute_result"
    }
   ],
   "source": [
    "#mean_rating = train_reviews['rating'].mean()\n",
    "train_reviews['rating'].fillna(0, inplace=True)\n",
    "\n",
    "\n",
    "train_reviews = train_reviews[train_reviews['rating'] >= 3]\n",
    " \n",
    "# train_reviews.dropna(inplace=True)\n",
    "train_reviews.rating.isnull().sum()"
   ]
  },
  {
   "cell_type": "code",
   "execution_count": 103,
   "id": "34fb2ddb",
   "metadata": {},
   "outputs": [],
   "source": [
    "# train_reviews.isnull().sum()"
   ]
  },
  {
   "cell_type": "code",
   "execution_count": 104,
   "id": "9ed43fb3",
   "metadata": {},
   "outputs": [
    {
     "name": "stdout",
     "output_type": "stream",
     "text": [
      "Собираем матрицу взаимодействий: all_users: 29832 all_orgs: 15092\n",
      "Собираем матрицу взаимодействий: all_users: 23327 all_orgs: 15092\n"
     ]
    },
    {
     "data": {
      "application/vnd.jupyter.widget-view+json": {
       "model_id": "d02ece44151648d68a421128cd249ef6",
       "version_major": 2,
       "version_minor": 0
      },
      "text/plain": [
       "  0%|          | 0/1000 [00:00<?, ?it/s]"
      ]
     },
     "metadata": {},
     "output_type": "display_data"
    },
    {
     "ename": "KeyboardInterrupt",
     "evalue": "",
     "output_type": "error",
     "traceback": [
      "\u001b[0;31m---------------------------------------------------------------------------\u001b[0m",
      "\u001b[0;31mKeyboardInterrupt\u001b[0m                         Traceback (most recent call last)",
      "\u001b[0;32m<ipython-input-104-621c87074527>\u001b[0m in \u001b[0;36m<module>\u001b[0;34m\u001b[0m\n\u001b[1;32m     11\u001b[0m \u001b[0;34m\u001b[0m\u001b[0m\n\u001b[1;32m     12\u001b[0m \u001b[0;31m# Делаем предсказания\u001b[0m\u001b[0;34m\u001b[0m\u001b[0;34m\u001b[0m\u001b[0;34m\u001b[0m\u001b[0m\n\u001b[0;32m---> 13\u001b[0;31m \u001b[0mmsk_predictions\u001b[0m \u001b[0;34m=\u001b[0m \u001b[0mmake_predictions\u001b[0m\u001b[0;34m(\u001b[0m\u001b[0mmsk_interactions\u001b[0m\u001b[0;34m,\u001b[0m \u001b[0mtest_msk_users\u001b[0m\u001b[0;34m,\u001b[0m \u001b[0mN\u001b[0m\u001b[0;34m)\u001b[0m\u001b[0;34m\u001b[0m\u001b[0;34m\u001b[0m\u001b[0m\n\u001b[0m\u001b[1;32m     14\u001b[0m \u001b[0mspb_predictions\u001b[0m \u001b[0;34m=\u001b[0m \u001b[0mmake_predictions\u001b[0m\u001b[0;34m(\u001b[0m\u001b[0mspb_interactions\u001b[0m\u001b[0;34m,\u001b[0m \u001b[0mtest_spb_users\u001b[0m\u001b[0;34m,\u001b[0m \u001b[0mN\u001b[0m\u001b[0;34m)\u001b[0m\u001b[0;34m\u001b[0m\u001b[0;34m\u001b[0m\u001b[0m\n\u001b[1;32m     15\u001b[0m \u001b[0;34m\u001b[0m\u001b[0m\n",
      "\u001b[0;32m<ipython-input-101-219a8fb524e8>\u001b[0m in \u001b[0;36mmake_predictions\u001b[0;34m(interactions, X_test, N, mod)\u001b[0m\n\u001b[1;32m     38\u001b[0m         \u001b[0;31m#calculate_training_loss=True\u001b[0m\u001b[0;34m\u001b[0m\u001b[0;34m\u001b[0m\u001b[0;34m\u001b[0m\u001b[0m\n\u001b[1;32m     39\u001b[0m     )\n\u001b[0;32m---> 40\u001b[0;31m     \u001b[0mbase_model\u001b[0m\u001b[0;34m.\u001b[0m\u001b[0mfit\u001b[0m\u001b[0;34m(\u001b[0m\u001b[0minteractions\u001b[0m\u001b[0;34m.\u001b[0m\u001b[0mT\u001b[0m\u001b[0;34m)\u001b[0m\u001b[0;34m\u001b[0m\u001b[0;34m\u001b[0m\u001b[0m\n\u001b[0m\u001b[1;32m     41\u001b[0m \u001b[0;34m\u001b[0m\u001b[0m\n\u001b[1;32m     42\u001b[0m \u001b[0;34m\u001b[0m\u001b[0m\n",
      "\u001b[0;32m/home/kaggle/lib64/python3.6/site-packages/implicit/cpu/als.py\u001b[0m in \u001b[0;36mfit\u001b[0;34m(self, item_users, show_progress)\u001b[0m\n\u001b[1;32m    164\u001b[0m                     \u001b[0mself\u001b[0m\u001b[0;34m.\u001b[0m\u001b[0mitem_factors\u001b[0m\u001b[0;34m,\u001b[0m\u001b[0;34m\u001b[0m\u001b[0;34m\u001b[0m\u001b[0m\n\u001b[1;32m    165\u001b[0m                     \u001b[0mself\u001b[0m\u001b[0;34m.\u001b[0m\u001b[0mregularization\u001b[0m\u001b[0;34m,\u001b[0m\u001b[0;34m\u001b[0m\u001b[0;34m\u001b[0m\u001b[0m\n\u001b[0;32m--> 166\u001b[0;31m                     \u001b[0mnum_threads\u001b[0m\u001b[0;34m=\u001b[0m\u001b[0mself\u001b[0m\u001b[0;34m.\u001b[0m\u001b[0mnum_threads\u001b[0m\u001b[0;34m,\u001b[0m\u001b[0;34m\u001b[0m\u001b[0;34m\u001b[0m\u001b[0m\n\u001b[0m\u001b[1;32m    167\u001b[0m                 )\n\u001b[1;32m    168\u001b[0m                 solver(\n",
      "\u001b[0;31mKeyboardInterrupt\u001b[0m: "
     ]
    }
   ],
   "source": [
    "msk_interactions = interaction_matrix(train_reviews,\n",
    "                                      test_users_with_locations[test_users_with_locations['city'] == 'msk'],\n",
    "                                      city = 'msk')\n",
    "\n",
    "spb_interactions = interaction_matrix(train_reviews,\n",
    "                                      test_users_with_locations[test_users_with_locations['city'] == 'spb'],\n",
    "                                      city = 'spb')       \n",
    "        \n",
    "test_msk_users = test_users_with_locations[test_users_with_locations['city'] == 'msk']\n",
    "test_spb_users = test_users_with_locations[test_users_with_locations['city'] == 'spb']\n",
    "\n",
    "# Делаем предсказания\n",
    "msk_predictions = make_predictions(msk_interactions, test_msk_users, N)\n",
    "spb_predictions = make_predictions(spb_interactions, test_spb_users, N)\n",
    "\n",
    "predictions = pd.concat([msk_predictions, spb_predictions])\n",
    "\n",
    "print_score(MNAP_N(y_test, predictions))"
   ]
  },
  {
   "cell_type": "markdown",
   "id": "91fbfaf9",
   "metadata": {},
   "source": [
    "# Submission\n",
    "\n",
    "Выберем лучший метод на валидации, переобучим его на всей выборке и сделаем предсказание на тестовой выборке. \n",
    "\n",
    "**Формат вывода:**\n",
    "Для каждого пользователя из файла `test_users.csv` необходимо приложить список из не более чем 20 организаций, относящихся к городу, отличному от города проживания пользователя."
   ]
  },
  {
   "cell_type": "markdown",
   "id": "5b9ef4ae",
   "metadata": {},
   "source": [
    "## Without ML"
   ]
  },
  {
   "cell_type": "code",
   "execution_count": null,
   "id": "e74c4578",
   "metadata": {},
   "outputs": [],
   "source": [
    "# набор отзывов только от туристов\n",
    "\n",
    "\n",
    "tourist_reviews = reviews[(reviews['rating'] >= 4.0) & (reviews['org_rating'] >= 4.0)]\n",
    "tourist_reviews = tourist_reviews[tourist_reviews['user_city'] != tourist_reviews['org_city']]\n",
    "\n",
    "# выбираем самые популярные места среди туристов из Москвы и Питера\n",
    "msk_orgs = tourist_reviews[tourist_reviews['org_city'] == 'msk']['org_id']\n",
    "msk_orgs = msk_orgs.value_counts().index[:N].to_list()\n",
    "\n",
    "spb_orgs = tourist_reviews[tourist_reviews['org_city'] == 'spb']['org_id']\n",
    "spb_orgs = spb_orgs.value_counts().index[:N].to_list()\n",
    "\n",
    "\n",
    "msk_orgs = str(' '.join(map(str, msk_orgs)))\n",
    "spb_orgs = str(' '.join(map(str, spb_orgs)))"
   ]
  },
  {
   "cell_type": "code",
   "execution_count": 116,
   "id": "2ca9786a",
   "metadata": {},
   "outputs": [
    {
     "data": {
      "text/html": [
       "<div>\n",
       "<style scoped>\n",
       "    .dataframe tbody tr th:only-of-type {\n",
       "        vertical-align: middle;\n",
       "    }\n",
       "\n",
       "    .dataframe tbody tr th {\n",
       "        vertical-align: top;\n",
       "    }\n",
       "\n",
       "    .dataframe thead th {\n",
       "        text-align: right;\n",
       "    }\n",
       "</style>\n",
       "<table border=\"1\" class=\"dataframe\">\n",
       "  <thead>\n",
       "    <tr style=\"text-align: right;\">\n",
       "      <th></th>\n",
       "      <th>user_id</th>\n",
       "      <th>city</th>\n",
       "    </tr>\n",
       "  </thead>\n",
       "  <tbody>\n",
       "    <tr>\n",
       "      <th>0</th>\n",
       "      <td>3545210947248911048</td>\n",
       "      <td>msk</td>\n",
       "    </tr>\n",
       "    <tr>\n",
       "      <th>1</th>\n",
       "      <td>15271987121288045390</td>\n",
       "      <td>msk</td>\n",
       "    </tr>\n",
       "    <tr>\n",
       "      <th>2</th>\n",
       "      <td>15016858616184265932</td>\n",
       "      <td>msk</td>\n",
       "    </tr>\n",
       "  </tbody>\n",
       "</table>\n",
       "</div>"
      ],
      "text/plain": [
       "                user_id city\n",
       "0   3545210947248911048  msk\n",
       "1  15271987121288045390  msk\n",
       "2  15016858616184265932  msk"
      ]
     },
     "execution_count": 116,
     "metadata": {},
     "output_type": "execute_result"
    }
   ],
   "source": [
    "test_users = pd.read_csv('data/test_users.csv')\n",
    "test_users['city'] = test_users.merge(users, on='user_id')['city']\n",
    "test_users.head(3)"
   ]
  },
  {
   "cell_type": "code",
   "execution_count": null,
   "id": "47796f5e",
   "metadata": {},
   "outputs": [],
   "source": [
    "choose = lambda x: spb_orgs if x['city'] == 'msk' else msk_orgs\n",
    "target = test_users.apply(choose, axis=1)\n",
    " \n",
    "predictions = test_users[['user_id']]\n",
    "predictions['target'] = target\n",
    "\n",
    "predictions.head()"
   ]
  },
  {
   "cell_type": "code",
   "execution_count": null,
   "id": "fd6c20b9",
   "metadata": {},
   "outputs": [],
   "source": [
    "predictions.to_csv('answers.csv', index=None)"
   ]
  },
  {
   "cell_type": "code",
   "execution_count": null,
   "id": "8d2660f2",
   "metadata": {},
   "outputs": [],
   "source": [
    " "
   ]
  },
  {
   "cell_type": "markdown",
   "id": "207906fe",
   "metadata": {},
   "source": [
    "## With ML"
   ]
  },
  {
   "cell_type": "code",
   "execution_count": null,
   "id": "0ff0c82a",
   "metadata": {},
   "outputs": [],
   "source": []
  },
  {
   "cell_type": "code",
   "execution_count": null,
   "id": "5a77a84a",
   "metadata": {},
   "outputs": [],
   "source": [
    "mean_rating = reviews['rating'].mean()\n",
    "reviews['rating'].fillna(mean_rating, inplace=True)\n",
    "reviews = reviews[reviews['rating'] > 3]\n",
    "reviews.head()"
   ]
  },
  {
   "cell_type": "code",
   "execution_count": null,
   "id": "74a764b6",
   "metadata": {},
   "outputs": [],
   "source": [
    "test_users = pd.read_csv('data/test_users.csv')\n",
    "test_users = test_users.merge(users, on='user_id')\n",
    "\n",
    "msk_interactions = interaction_matrix(\n",
    "    reviews,                                  \n",
    "    test_users[test_users['city'] == 'msk'][['user_id', 'city']],\n",
    "    city = 'msk'\n",
    ")\n",
    "\n",
    "spb_interactions = interaction_matrix(\n",
    "    reviews,\n",
    "    test_users[test_users['city'] == 'spb'][['user_id', 'city']],\n",
    "    city = 'spb'\n",
    ")\n",
    "\n",
    "msk_predictions = make_predictions(msk_interactions, test_msk_users, N)\n",
    "spb_predictions = make_predictions(spb_interactions, test_spb_users, N)\n",
    "\n",
    "predictions = pd.concat([msk_predictions, spb_predictions])"
   ]
  },
  {
   "cell_type": "code",
   "execution_count": null,
   "id": "5e16f0e8",
   "metadata": {},
   "outputs": [],
   "source": [
    "predictions['target'] = predictions['target'].apply(lambda orgs: ' '.join(map(str, orgs)))\n",
    "predictions.head(2)"
   ]
  },
  {
   "cell_type": "code",
   "execution_count": null,
   "id": "2a053a8e",
   "metadata": {},
   "outputs": [],
   "source": [
    "predictions.to_csv('answers_ml.csv', index=None)"
   ]
  },
  {
   "cell_type": "code",
   "execution_count": null,
   "id": "71659cf8",
   "metadata": {},
   "outputs": [],
   "source": [
    " "
   ]
  },
  {
   "cell_type": "code",
   "execution_count": null,
   "id": "7eb4c44f",
   "metadata": {},
   "outputs": [],
   "source": []
  },
  {
   "cell_type": "code",
   "execution_count": null,
   "id": "72479ac3",
   "metadata": {},
   "outputs": [],
   "source": [
    " "
   ]
  },
  {
   "cell_type": "markdown",
   "id": "4661ef5a",
   "metadata": {},
   "source": [
    "# Surprise - SVD/KNN и другие (Андрей/Саша)"
   ]
  },
  {
   "cell_type": "code",
   "execution_count": 106,
   "id": "0f8557a3",
   "metadata": {},
   "outputs": [],
   "source": [
    "from surprise import Reader, Dataset\n",
    "\n",
    "from surprise import SVD,SVDpp\n",
    "from surprise import NMF,BaselineOnly, NormalPredictor, KNNWithZScore, SlopeOne, CoClustering\n",
    "from surprise.model_selection import cross_validate\n",
    "from surprise.model_selection import GridSearchCV"
   ]
  },
  {
   "cell_type": "code",
   "execution_count": 107,
   "id": "e98def2a",
   "metadata": {},
   "outputs": [
    {
     "name": "stdout",
     "output_type": "stream",
     "text": [
      "3582797\n",
      "2921849\n"
     ]
    }
   ],
   "source": [
    "print(len(reviews))\n",
    "surprise_reviews = reviews[(reviews.rating > 2) & (reviews.org_rating > 3.9)]\n",
    "print(len(surprise_reviews))"
   ]
  },
  {
   "cell_type": "code",
   "execution_count": 108,
   "id": "8a0becbe",
   "metadata": {},
   "outputs": [
    {
     "name": "stdout",
     "output_type": "stream",
     "text": [
      "Filtered reviews 2921849\n"
     ]
    }
   ],
   "source": [
    "ratings_dict = {'itemID': list(surprise_reviews.org_id),\n",
    "                'userID': list(surprise_reviews.user_id),\n",
    "                'rating': list(surprise_reviews.rating)}\n",
    "\n",
    "surprise_reviews = pd.DataFrame(ratings_dict)\n",
    "print('Filtered reviews', len(surprise_reviews))\n",
    "\n",
    "# A reader is still needed but only the rating_scale param is required.\n",
    "# The Reader class is used to parse a file containing ratings.\n",
    "reader = Reader(rating_scale=(4.0, 5.0))\n",
    "\n",
    "# The columns must correspond to user id, item id and ratings (in that order).\n",
    "data = Dataset.load_from_df(surprise_reviews[['userID', 'itemID', 'rating']], reader)"
   ]
  },
  {
   "cell_type": "code",
   "execution_count": 109,
   "id": "be25bc75",
   "metadata": {},
   "outputs": [],
   "source": [
    "# !smi-nvidia"
   ]
  },
  {
   "cell_type": "code",
   "execution_count": 110,
   "id": "1dce1aac",
   "metadata": {},
   "outputs": [
    {
     "data": {
      "text/html": [
       "<div>\n",
       "<style scoped>\n",
       "    .dataframe tbody tr th:only-of-type {\n",
       "        vertical-align: middle;\n",
       "    }\n",
       "\n",
       "    .dataframe tbody tr th {\n",
       "        vertical-align: top;\n",
       "    }\n",
       "\n",
       "    .dataframe thead th {\n",
       "        text-align: right;\n",
       "    }\n",
       "</style>\n",
       "<table border=\"1\" class=\"dataframe\">\n",
       "  <thead>\n",
       "    <tr style=\"text-align: right;\">\n",
       "      <th></th>\n",
       "      <th>itemID</th>\n",
       "      <th>userID</th>\n",
       "      <th>rating</th>\n",
       "    </tr>\n",
       "  </thead>\n",
       "  <tbody>\n",
       "    <tr>\n",
       "      <th>0</th>\n",
       "      <td>11993738663105455885</td>\n",
       "      <td>2706795762761414590</td>\n",
       "      <td>3.0</td>\n",
       "    </tr>\n",
       "    <tr>\n",
       "      <th>1</th>\n",
       "      <td>18200844491365025705</td>\n",
       "      <td>2522006254806484630</td>\n",
       "      <td>3.0</td>\n",
       "    </tr>\n",
       "    <tr>\n",
       "      <th>2</th>\n",
       "      <td>7143808482480365209</td>\n",
       "      <td>2035736119522953868</td>\n",
       "      <td>5.0</td>\n",
       "    </tr>\n",
       "    <tr>\n",
       "      <th>3</th>\n",
       "      <td>5094937364114858089</td>\n",
       "      <td>11502321723490708343</td>\n",
       "      <td>5.0</td>\n",
       "    </tr>\n",
       "    <tr>\n",
       "      <th>4</th>\n",
       "      <td>8786304251059473262</td>\n",
       "      <td>780616808613468272</td>\n",
       "      <td>5.0</td>\n",
       "    </tr>\n",
       "  </tbody>\n",
       "</table>\n",
       "</div>"
      ],
      "text/plain": [
       "                 itemID                userID  rating\n",
       "0  11993738663105455885   2706795762761414590     3.0\n",
       "1  18200844491365025705   2522006254806484630     3.0\n",
       "2   7143808482480365209   2035736119522953868     5.0\n",
       "3   5094937364114858089  11502321723490708343     5.0\n",
       "4   8786304251059473262    780616808613468272     5.0"
      ]
     },
     "execution_count": 110,
     "metadata": {},
     "output_type": "execute_result"
    }
   ],
   "source": [
    "surprise_reviews.head()"
   ]
  },
  {
   "cell_type": "code",
   "execution_count": 112,
   "id": "3111e916",
   "metadata": {},
   "outputs": [],
   "source": [
    "# svd\n",
    "algo = SVD(verbose = True, reg_all = 0.05)\n",
    "# cross_validate(algo, data, measures=['RMSE', 'MAE'], cv=3, verbose=True, n_jobs=120)\n",
    "# #evaluate(algo, data, measures=['RMSE'])\n"
   ]
  },
  {
   "cell_type": "code",
   "execution_count": 113,
   "id": "82b29ed3",
   "metadata": {},
   "outputs": [
    {
     "name": "stdout",
     "output_type": "stream",
     "text": [
      "Processing epoch 0\n",
      "Processing epoch 1\n",
      "Processing epoch 2\n",
      "Processing epoch 3\n",
      "Processing epoch 4\n",
      "Processing epoch 5\n",
      "Processing epoch 6\n",
      "Processing epoch 7\n",
      "Processing epoch 8\n",
      "Processing epoch 9\n",
      "Processing epoch 10\n",
      "Processing epoch 11\n",
      "Processing epoch 12\n",
      "Processing epoch 13\n",
      "Processing epoch 14\n",
      "Processing epoch 15\n",
      "Processing epoch 16\n",
      "Processing epoch 17\n",
      "Processing epoch 18\n",
      "Processing epoch 19\n"
     ]
    },
    {
     "data": {
      "text/plain": [
       "<surprise.prediction_algorithms.matrix_factorization.SVD at 0x7fff766996a0>"
      ]
     },
     "execution_count": 113,
     "metadata": {},
     "output_type": "execute_result"
    }
   ],
   "source": [
    "trainset = data.build_full_trainset()\n",
    "algo.fit(trainset)"
   ]
  },
  {
   "cell_type": "code",
   "execution_count": 120,
   "id": "05e248ed",
   "metadata": {},
   "outputs": [
    {
     "ename": "TypeError",
     "evalue": "predict() missing 1 required positional argument: 'iid'",
     "output_type": "error",
     "traceback": [
      "\u001b[0;31m---------------------------------------------------------------------------\u001b[0m",
      "\u001b[0;31mTypeError\u001b[0m                                 Traceback (most recent call last)",
      "\u001b[0;32m<ipython-input-120-39cd6b98715c>\u001b[0m in \u001b[0;36m<module>\u001b[0;34m\u001b[0m\n\u001b[0;32m----> 1\u001b[0;31m \u001b[0malgo\u001b[0m\u001b[0;34m.\u001b[0m\u001b[0mpredict\u001b[0m\u001b[0;34m(\u001b[0m\u001b[0muid\u001b[0m\u001b[0;34m=\u001b[0m\u001b[0;36m3545210947248911048\u001b[0m\u001b[0;34m)\u001b[0m\u001b[0;34m\u001b[0m\u001b[0;34m\u001b[0m\u001b[0m\n\u001b[0m",
      "\u001b[0;31mTypeError\u001b[0m: predict() missing 1 required positional argument: 'iid'"
     ]
    }
   ],
   "source": [
    "algo.predict(uid=3545210947248911048, )"
   ]
  },
  {
   "cell_type": "code",
   "execution_count": 128,
   "id": "b9a91c5d",
   "metadata": {},
   "outputs": [],
   "source": [
    "# import difflib\n",
    "# import random\n",
    "\n",
    "# def get_book_id(book_title, metadata):\n",
    "    \n",
    "#     \"\"\"\n",
    "#     Gets the book ID for a book title based on the closest match in the metadata dataframe.\n",
    "#     \"\"\"\n",
    "    \n",
    "#     existing_titles = list(metadata['itemID'].values)\n",
    "#     closest_titles = difflib.get_close_matches(book_title, existing_titles)\n",
    "#     book_id = metadata[metadata['title'] == closest_titles[0]]['id'].values[0]\n",
    "#     return book_id\n",
    "\n",
    "# def get_book_info(book_id, metadata):\n",
    "    \n",
    "#     \"\"\"\n",
    "#     Returns some basic information about a book given the book id and the metadata dataframe.\n",
    "#     \"\"\"\n",
    "    \n",
    "#     book_info = metadata[metadata['id'] == book_id][['id', 'isbn', \n",
    "#                                                     'authors', 'title', 'original_title']]\n",
    "#     return book_info.to_dict(orient='records')\n",
    "\n",
    "# def predict_review(user_id, book_title, model, metadata):\n",
    "    \n",
    "#     \"\"\"\n",
    "#     Predicts the review (on a scale of 1-5) that a user would assign to a specific book. \n",
    "#     \"\"\"\n",
    "    \n",
    "#     book_id = get_book_id(book_title, metadata)\n",
    "#     review_prediction = model.predict(uid=user_id, iid=book_id)\n",
    "#     return review_prediction.est\n",
    "\n",
    "# def generate_recommendation(user_id, model, metadata, thresh=4):\n",
    "    \n",
    "#     \"\"\"\n",
    "#     Generates a book recommendation for a user based on a rating threshold. Only\n",
    "#     books with a predicted rating at or above the threshold will be recommended\n",
    "#     \"\"\"\n",
    "    \n",
    "#     book_titles = list(metadata['title'].values)\n",
    "#     random.shuffle(book_titles)\n",
    "    \n",
    "#     for book_title in book_titles:\n",
    "#         rating = predict_review(user_id, book_title, model, metadata)\n",
    "#         if rating >= thresh:\n",
    "#             book_id = get_book_id(book_title, metadata)\n",
    "#             return get_book_info(book_id, metadata)"
   ]
  },
  {
   "cell_type": "code",
   "execution_count": 147,
   "id": "4f164e3f",
   "metadata": {},
   "outputs": [
    {
     "data": {
      "text/html": [
       "<div>\n",
       "<style scoped>\n",
       "    .dataframe tbody tr th:only-of-type {\n",
       "        vertical-align: middle;\n",
       "    }\n",
       "\n",
       "    .dataframe tbody tr th {\n",
       "        vertical-align: top;\n",
       "    }\n",
       "\n",
       "    .dataframe thead th {\n",
       "        text-align: right;\n",
       "    }\n",
       "</style>\n",
       "<table border=\"1\" class=\"dataframe\">\n",
       "  <thead>\n",
       "    <tr style=\"text-align: right;\">\n",
       "      <th></th>\n",
       "      <th>itemID</th>\n",
       "      <th>userID</th>\n",
       "      <th>rating</th>\n",
       "    </tr>\n",
       "  </thead>\n",
       "  <tbody>\n",
       "    <tr>\n",
       "      <th>496427</th>\n",
       "      <td>2916719444900146374</td>\n",
       "      <td>6068627806756752881</td>\n",
       "      <td>5.0</td>\n",
       "    </tr>\n",
       "    <tr>\n",
       "      <th>329649</th>\n",
       "      <td>12909766905446674254</td>\n",
       "      <td>13241629906923134089</td>\n",
       "      <td>5.0</td>\n",
       "    </tr>\n",
       "    <tr>\n",
       "      <th>1872752</th>\n",
       "      <td>9769434490200935948</td>\n",
       "      <td>6257039458331332559</td>\n",
       "      <td>5.0</td>\n",
       "    </tr>\n",
       "    <tr>\n",
       "      <th>329516</th>\n",
       "      <td>10961612776411136990</td>\n",
       "      <td>11183345847208725480</td>\n",
       "      <td>5.0</td>\n",
       "    </tr>\n",
       "    <tr>\n",
       "      <th>1872396</th>\n",
       "      <td>4851991569272774544</td>\n",
       "      <td>18296098592076528643</td>\n",
       "      <td>5.0</td>\n",
       "    </tr>\n",
       "    <tr>\n",
       "      <th>...</th>\n",
       "      <td>...</td>\n",
       "      <td>...</td>\n",
       "      <td>...</td>\n",
       "    </tr>\n",
       "    <tr>\n",
       "      <th>1233459</th>\n",
       "      <td>17014869523848664233</td>\n",
       "      <td>7223741147335986199</td>\n",
       "      <td>3.0</td>\n",
       "    </tr>\n",
       "    <tr>\n",
       "      <th>1233472</th>\n",
       "      <td>7899702990879432924</td>\n",
       "      <td>14181091909821710449</td>\n",
       "      <td>3.0</td>\n",
       "    </tr>\n",
       "    <tr>\n",
       "      <th>2106087</th>\n",
       "      <td>12402423256803525160</td>\n",
       "      <td>14471692731518354347</td>\n",
       "      <td>3.0</td>\n",
       "    </tr>\n",
       "    <tr>\n",
       "      <th>246566</th>\n",
       "      <td>4743791168256622584</td>\n",
       "      <td>7889570908919377547</td>\n",
       "      <td>3.0</td>\n",
       "    </tr>\n",
       "    <tr>\n",
       "      <th>0</th>\n",
       "      <td>11993738663105455885</td>\n",
       "      <td>2706795762761414590</td>\n",
       "      <td>3.0</td>\n",
       "    </tr>\n",
       "  </tbody>\n",
       "</table>\n",
       "<p>2921849 rows × 3 columns</p>\n",
       "</div>"
      ],
      "text/plain": [
       "                       itemID                userID  rating\n",
       "496427    2916719444900146374   6068627806756752881     5.0\n",
       "329649   12909766905446674254  13241629906923134089     5.0\n",
       "1872752   9769434490200935948   6257039458331332559     5.0\n",
       "329516   10961612776411136990  11183345847208725480     5.0\n",
       "1872396   4851991569272774544  18296098592076528643     5.0\n",
       "...                       ...                   ...     ...\n",
       "1233459  17014869523848664233   7223741147335986199     3.0\n",
       "1233472   7899702990879432924  14181091909821710449     3.0\n",
       "2106087  12402423256803525160  14471692731518354347     3.0\n",
       "246566    4743791168256622584   7889570908919377547     3.0\n",
       "0        11993738663105455885   2706795762761414590     3.0\n",
       "\n",
       "[2921849 rows x 3 columns]"
      ]
     },
     "execution_count": 147,
     "metadata": {},
     "output_type": "execute_result"
    }
   ],
   "source": [
    "surprise_reviews.sort_values(by='rating', inplace=True, ascending=False)\n",
    "surprise_reviews"
   ]
  },
  {
   "cell_type": "code",
   "execution_count": 152,
   "id": "5ea496b0",
   "metadata": {},
   "outputs": [
    {
     "data": {
      "application/vnd.jupyter.widget-view+json": {
       "model_id": "c51dc038a41649fc89438d596cb8fe50",
       "version_major": 2,
       "version_minor": 0
      },
      "text/plain": [
       "  0%|          | 0/16967 [00:00<?, ?it/s]"
      ]
     },
     "metadata": {},
     "output_type": "display_data"
    }
   ],
   "source": [
    "final_preds_dict = {}\n",
    "preds_item = {}\n",
    "\n",
    "thresh = 4.5\n",
    "\n",
    "users = test_users['user_id'].values\n",
    "items  = surprise_reviews['itemID'].values\n",
    "\n",
    "def rep_dict(d, val, MIN):\n",
    "    for k in d.keys():\n",
    "        if d[k]==MIN:\n",
    "            d[k]=val\n",
    "            return d\n",
    "\n",
    "\n",
    "for user in tqdm(users):\n",
    "    for item in items[:50]: # TODO убрать костыль\n",
    "        \n",
    "        pred = algo.predict(uid=user, iid=item)\n",
    "        rating = pred.est\n",
    "        \n",
    "        if len(preds_item)==0 or len(preds_item) <= 20: # warm start\n",
    "            preds_item[item] = rating\n",
    "        \n",
    "        elif rating > thresh:\n",
    "            MIN = min(preds_item.values())\n",
    "            if rating > MIN:\n",
    "                preds_item = rep_dict(preds_item, rating, MIN)\n",
    "                \n",
    "            preds_item[item] = rating\n",
    "            \n",
    "#             print(pred)\n",
    "        \n",
    "    final_preds_dict[user] = preds_item.keys()\n",
    "\n",
    "        \n",
    "        #print()\n",
    "    "
   ]
  },
  {
   "cell_type": "code",
   "execution_count": 154,
   "id": "75354e5c",
   "metadata": {},
   "outputs": [
    {
     "data": {
      "text/html": [
       "<div>\n",
       "<style scoped>\n",
       "    .dataframe tbody tr th:only-of-type {\n",
       "        vertical-align: middle;\n",
       "    }\n",
       "\n",
       "    .dataframe tbody tr th {\n",
       "        vertical-align: top;\n",
       "    }\n",
       "\n",
       "    .dataframe thead th {\n",
       "        text-align: right;\n",
       "    }\n",
       "</style>\n",
       "<table border=\"1\" class=\"dataframe\">\n",
       "  <thead>\n",
       "    <tr style=\"text-align: right;\">\n",
       "      <th></th>\n",
       "      <th>user_id</th>\n",
       "      <th>city</th>\n",
       "    </tr>\n",
       "  </thead>\n",
       "  <tbody>\n",
       "    <tr>\n",
       "      <th>0</th>\n",
       "      <td>3545210947248911048</td>\n",
       "      <td>msk</td>\n",
       "    </tr>\n",
       "    <tr>\n",
       "      <th>1</th>\n",
       "      <td>15271987121288045390</td>\n",
       "      <td>msk</td>\n",
       "    </tr>\n",
       "    <tr>\n",
       "      <th>2</th>\n",
       "      <td>15016858616184265932</td>\n",
       "      <td>msk</td>\n",
       "    </tr>\n",
       "    <tr>\n",
       "      <th>3</th>\n",
       "      <td>12457244142928722989</td>\n",
       "      <td>msk</td>\n",
       "    </tr>\n",
       "    <tr>\n",
       "      <th>4</th>\n",
       "      <td>13339684649926251468</td>\n",
       "      <td>spb</td>\n",
       "    </tr>\n",
       "    <tr>\n",
       "      <th>...</th>\n",
       "      <td>...</td>\n",
       "      <td>...</td>\n",
       "    </tr>\n",
       "    <tr>\n",
       "      <th>16962</th>\n",
       "      <td>1191875913294598364</td>\n",
       "      <td>msk</td>\n",
       "    </tr>\n",
       "    <tr>\n",
       "      <th>16963</th>\n",
       "      <td>3866507700167344338</td>\n",
       "      <td>msk</td>\n",
       "    </tr>\n",
       "    <tr>\n",
       "      <th>16964</th>\n",
       "      <td>11434952144484188987</td>\n",
       "      <td>msk</td>\n",
       "    </tr>\n",
       "    <tr>\n",
       "      <th>16965</th>\n",
       "      <td>7010426792722803474</td>\n",
       "      <td>spb</td>\n",
       "    </tr>\n",
       "    <tr>\n",
       "      <th>16966</th>\n",
       "      <td>10418580312382148954</td>\n",
       "      <td>msk</td>\n",
       "    </tr>\n",
       "  </tbody>\n",
       "</table>\n",
       "<p>16967 rows × 2 columns</p>\n",
       "</div>"
      ],
      "text/plain": [
       "                    user_id city\n",
       "0       3545210947248911048  msk\n",
       "1      15271987121288045390  msk\n",
       "2      15016858616184265932  msk\n",
       "3      12457244142928722989  msk\n",
       "4      13339684649926251468  spb\n",
       "...                     ...  ...\n",
       "16962   1191875913294598364  msk\n",
       "16963   3866507700167344338  msk\n",
       "16964  11434952144484188987  msk\n",
       "16965   7010426792722803474  spb\n",
       "16966  10418580312382148954  msk\n",
       "\n",
       "[16967 rows x 2 columns]"
      ]
     },
     "execution_count": 154,
     "metadata": {},
     "output_type": "execute_result"
    }
   ],
   "source": [
    "# #final_preds_dict\n",
    "\n",
    "# for k, v in final_preds_dict.items():\n",
    "    \n",
    "    \n",
    "# test_users"
   ]
  },
  {
   "cell_type": "markdown",
   "id": "bd6df8fe",
   "metadata": {},
   "source": [
    "# Использование NLP данных (Андрей)"
   ]
  },
  {
   "cell_type": "code",
   "execution_count": null,
   "id": "7e11241e",
   "metadata": {},
   "outputs": [],
   "source": [
    "# рекомендации org для test_users на основе тестовых данных"
   ]
  },
  {
   "cell_type": "code",
   "execution_count": null,
   "id": "3120dfc3",
   "metadata": {},
   "outputs": [],
   "source": []
  },
  {
   "cell_type": "code",
   "execution_count": null,
   "id": "23c3a3ef",
   "metadata": {},
   "outputs": [],
   "source": []
  },
  {
   "cell_type": "markdown",
   "id": "900ffee7",
   "metadata": {},
   "source": [
    "# LightFM (Саша)"
   ]
  },
  {
   "cell_type": "code",
   "execution_count": null,
   "id": "74deaae2",
   "metadata": {},
   "outputs": [],
   "source": [
    "# def make_predictions_LightFM(interactions, X_test, N, mod='ALS'):\n",
    "#     '''\n",
    "#     make_predictions(interactions, X_test, N)\n",
    "#         Делает рекомендации для пользователей из <X_test> на основе матрицы взаимодействий. \n",
    "        \n",
    "#         Parameters\n",
    "#         ----------\n",
    "#         interactions : scipy.sparse.csr_matrix\n",
    "#             Разреженная матрица взаимодействий.\n",
    "            \n",
    "#         X_test : pd.DataFrame\n",
    "#             Набор тестовых пользователей, для которых нужно сделать рекомендации. \n",
    "        \n",
    "#         N : int\n",
    "#             Число рекомендаций для каждого пользователя. \n",
    "        \n",
    "#         Returns\n",
    "#         -------\n",
    "#         predictions : pd.DataFrame\n",
    "#             DataFrame с колонками <user_id> и <target>. \n",
    "#             В <target> содержится список рекомендованных для пользователя org_id.\n",
    "        \n",
    "#     '''\n",
    "    \n",
    "    \n",
    "#     predictions = X_test[['user_id']].copy()\n",
    "#     predictions['target'] = pd.Series(dtype=object)\n",
    "#     predictions = predictions.set_index('user_id')\n",
    "    \n",
    "    \n",
    "#     interactions, (train_users_len, inner_orgs_len), mappings = interactions\n",
    "    \n",
    "  \n",
    "    \n",
    "#     (index_to_uid, uid_to_index), (index_to_oid, oid_to_index) = mappings\n",
    "\n",
    "    \n",
    "#     base_model = LightFM(loss='warp')\n",
    "#     base_model.fit(train,\n",
    "#               user_features=user_features,\n",
    "#               item_features=item_features,\n",
    "#               epochs=20)\n",
    "#     predictions = base_model.predict(test_user_ids,\n",
    "#                                 test_item_ids,\n",
    "#                                 # user_features=user_features,\n",
    "#                                 item_features=item_features)\n",
    "\n",
    "\n",
    "    \n",
    "# #     base_model = implicit.als.AlternatingLeastSquares(\n",
    "# #         factors=100,  iterations=150, \n",
    "# #         regularization=0.05,  random_state=42,\n",
    "# #         #num_threads = 4,\n",
    "# #         #calculate_training_loss=True\n",
    "# #     )\n",
    "# #     base_model.fit(interactions.T)\n",
    "\n",
    "    \n",
    "    \n",
    "    \n",
    "    \n",
    "#     orgs_to_filter = list(np.arange(inner_orgs_len))\n",
    "\n",
    "#     recommendations = base_model.recommend_all(\n",
    "#         interactions,\n",
    "#         N=N,\n",
    "#         filter_already_liked_items=True,\n",
    "#         filter_items=orgs_to_filter,\n",
    "#         show_progress=True\n",
    "#     )\n",
    "    \n",
    "#     for user_id in tqdm(X_test['user_id'].values, leave=False):\n",
    "#         predictions.loc[user_id, 'target'] = list(\n",
    "#             map(\n",
    "#                 lambda org_index: index_to_oid[org_index], \n",
    "#                 recommendations[uid_to_index[user_id]]\n",
    "#             )\n",
    "#         )\n",
    "        \n",
    "#     return predictions.reset_index()"
   ]
  },
  {
   "cell_type": "code",
   "execution_count": null,
   "id": "0c9c9a6d",
   "metadata": {},
   "outputs": [],
   "source": [
    "msk_interactions = interaction_matrix(train_reviews,\n",
    "                                      test_users_with_locations[test_users_with_locations['city'] == 'msk'],\n",
    "                                      city = 'msk')\n",
    " \n",
    "# Делаем предсказания\n",
    "msk_predictions = make_predictions(msk_interactions, \n",
    "                                   test_users_with_locations[test_users_with_locations['city'] == 'msk'], N)\n",
    " \n",
    "\n",
    "predictions = pd.concat([msk_predictions, spb_predictions])\n",
    "\n",
    "print_score(MNAP_N(y_test, predictions))"
   ]
  },
  {
   "cell_type": "code",
   "execution_count": null,
   "id": "38fc75fc",
   "metadata": {},
   "outputs": [],
   "source": []
  },
  {
   "cell_type": "code",
   "execution_count": null,
   "id": "ba4265f3",
   "metadata": {},
   "outputs": [],
   "source": []
  },
  {
   "cell_type": "code",
   "execution_count": 51,
   "id": "4eb503eb",
   "metadata": {},
   "outputs": [
    {
     "ename": "ModuleNotFoundError",
     "evalue": "No module named 'lightfm'",
     "output_type": "error",
     "traceback": [
      "\u001b[0;31m---------------------------------------------------------------------------\u001b[0m",
      "\u001b[0;31mModuleNotFoundError\u001b[0m                       Traceback (most recent call last)",
      "\u001b[0;32m<ipython-input-51-a094b2abacc3>\u001b[0m in \u001b[0;36m<module>\u001b[0;34m\u001b[0m\n\u001b[0;32m----> 1\u001b[0;31m \u001b[0;32mfrom\u001b[0m \u001b[0mlightfm\u001b[0m \u001b[0;32mimport\u001b[0m \u001b[0mLightFM\u001b[0m\u001b[0;34m\u001b[0m\u001b[0;34m\u001b[0m\u001b[0m\n\u001b[0m\u001b[1;32m      2\u001b[0m \u001b[0;32mfrom\u001b[0m \u001b[0mlightfm\u001b[0m\u001b[0;34m.\u001b[0m\u001b[0mdatasets\u001b[0m \u001b[0;32mimport\u001b[0m \u001b[0mfetch_movielens\u001b[0m\u001b[0;34m\u001b[0m\u001b[0;34m\u001b[0m\u001b[0m\n\u001b[1;32m      3\u001b[0m \u001b[0;32mfrom\u001b[0m \u001b[0mlightfm\u001b[0m\u001b[0;34m.\u001b[0m\u001b[0mevaluation\u001b[0m \u001b[0;32mimport\u001b[0m \u001b[0mprecision_at_k\u001b[0m\u001b[0;34m\u001b[0m\u001b[0;34m\u001b[0m\u001b[0m\n\u001b[1;32m      4\u001b[0m \u001b[0;34m\u001b[0m\u001b[0m\n\u001b[1;32m      5\u001b[0m \u001b[0;31m# Instantiate and train the model\u001b[0m\u001b[0;34m\u001b[0m\u001b[0;34m\u001b[0m\u001b[0;34m\u001b[0m\u001b[0m\n",
      "\u001b[0;31mModuleNotFoundError\u001b[0m: No module named 'lightfm'"
     ]
    }
   ],
   "source": [
    "from lightfm import LightFM\n",
    "from lightfm.datasets import fetch_movielens\n",
    "from lightfm.evaluation import precision_at_k\n",
    "\n",
    "# Instantiate and train the model\n",
    "\n",
    "\n",
    "predictions = X_test[['user_id']].copy()\n",
    "predictions['target'] = pd.Series(dtype=object)\n",
    "predictions = predictions.set_index('user_id')\n",
    "\n",
    "\n",
    "msk_interactions = interaction_matrix(train_reviews,\n",
    "                                      test_users_with_locations[test_users_with_locations['city'] == 'msk'],\n",
    "                                      city = 'msk')\n",
    "\n",
    "interactions, (train_users_len, inner_orgs_len), mappings = msk_interactions\n",
    "(index_to_uid, uid_to_index), (index_to_oid, oid_to_index) = mappings"
   ]
  },
  {
   "cell_type": "code",
   "execution_count": null,
   "id": "b1fd4f12",
   "metadata": {},
   "outputs": [],
   "source": [
    "model = LightFM(loss='warp')\n",
    "\n",
    "model.fit(interactions,\n",
    "#           user_features=user_features,\n",
    "#           item_features=item_features,\n",
    "          epochs=20)\n",
    "print('Обучился')\n",
    "test_item_ids = np.arange(inner_orgs_len)\n",
    "test_user_ids = np.arange(train_users_len)\n",
    "\n",
    "predictions = model.predict(test_user_ids,\n",
    "                            test_item_ids,\n",
    "#                             user_features=user_features,\n",
    "#                             item_features=item_features\n",
    "                           )\n",
    "\n",
    "\n",
    "# # Evaluate the trained model\n",
    "# test_precision = precision_at_k(model, data['test'], k=5).mean()\n",
    "# test_precision"
   ]
  },
  {
   "cell_type": "code",
   "execution_count": null,
   "id": "09842091",
   "metadata": {},
   "outputs": [],
   "source": [
    " "
   ]
  }
 ],
 "metadata": {
  "jupytercloud": {
   "vault": {
    "secrets": [
     {
      "name": "yt_secrets",
      "uuid": "sec-01fd5qjpw0xwwpv6t83wc41tp8"
     }
    ]
   }
  },
  "kernelspec": {
   "display_name": "Python 3",
   "language": "python",
   "name": "python3"
  },
  "language_info": {
   "codemirror_mode": {
    "name": "ipython",
    "version": 3
   },
   "file_extension": ".py",
   "mimetype": "text/x-python",
   "name": "python",
   "nbconvert_exporter": "python",
   "pygments_lexer": "ipython3",
   "version": "3.6.8"
  },
  "toc": {
   "base_numbering": 1,
   "nav_menu": {},
   "number_sections": true,
   "sideBar": true,
   "skip_h1_title": false,
   "title_cell": "Table of Contents",
   "title_sidebar": "Contents",
   "toc_cell": false,
   "toc_position": {},
   "toc_section_display": true,
   "toc_window_display": false
  }
 },
 "nbformat": 4,
 "nbformat_minor": 5
}
