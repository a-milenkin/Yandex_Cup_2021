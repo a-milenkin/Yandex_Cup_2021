{
 "cells": [
  {
   "cell_type": "markdown",
   "id": "44ddad4e",
   "metadata": {},
   "source": [
    "# __Использованные материалы__"
   ]
  },
  {
   "cell_type": "markdown",
   "id": "1acffaa9",
   "metadata": {},
   "source": [
    "* [LightFM Github](https://github.com/lyst/lightfm)\n",
    "* [LightFM documentation](https://making.lyst.com/lightfm/docs/quickstart.html)\n",
    "* [Google recommendation systems course](https://developers.google.com/machine-learning/recommendation)\n",
    "* [Recommender system using Bayesian personalized ranking](https://towardsdatascience.com/recommender-system-using-bayesian-personalized-ranking-d30e98bba0b9)\n",
    "* [Learning to Rank Sketchfab Models with LightFM](https://www.ethanrosenthal.com/2016/11/07/implicit-mf-part-2/)\n",
    "* [How to build a Movie Recommender System in Python using LightFm](https://towardsdatascience.com/how-to-build-a-movie-recommender-system-in-python-using-lightfm-8fa49d7cbe3b)\n",
    "* [The Movies Dataset](https://www.kaggle.com/rounakbanik/the-movies-dataset/home?select=ratings_small.csv)"
   ]
  },
  {
   "cell_type": "markdown",
   "id": "68bcf4f4",
   "metadata": {},
   "source": [
    "# __Краткое введение__"
   ]
  },
  {
   "cell_type": "markdown",
   "id": "2818c48b",
   "metadata": {},
   "source": [
    "__LightFM__ - это реализация на Python'е ряда популярных алгоритмов рекомендаций, включая эффективную реализацию BPR и WARP. Он прост в использовании, быстр (благодаря многопоточности) и дает высококачественные результаты. <br>\n",
    "Существуют две основные стратегии создания рекомендательных систем: \n",
    "* __Content-based Filtering__\n",
    "* __Collaborative filtering__\n",
    "\n",
    "На практике чаще всего они используются в совокупности.<br>\n",
    "<em>Далее для удобства будет использоваться термин item, который подразумевает под собой сущности, рекомендуемые системой.</em>\n",
    "\n",
    "### __Content-based Filtering__ \n",
    "Данный подход предполагает работу с метаданными пользователя, которые собираются различными способами:\n",
    "* __explicit__ - пользователь заполняет анкеты для выявление предпочтений, к примеру оценивает какой-то item по дифференцированной шкале.<br>\n",
    "* __implicit__ - все действия пользователя протоколируются для выявления предпочтений, к примеру переход по ссылками, информация о компьютере пользователя и тп.<br>\n",
    "\n",
    "### __Collaborative filtering__ \n",
    "Данный подход использует группировку пользователей и item'ов по каким-то сходствам/критериям. Будет реализоваться следующая логика \"Пользователям, которым понравился item $X$, также нравились item'ы $Y$\". Похожесть как правило определяется следующими методами:<br>\n",
    "* __Content-based__ - на основании характеристик item'ов и пользователей.<br>\n",
    "* __Transaction-based__ - на основании того, входили ли item'ы в одну транзакцию, а пользователи совершали схожие действия.<br>\n",
    "\n",
    "### Machine-learned ranking \n",
    "В __LightFM__ представлены два классических подхода MLR'а:\n",
    "* __Bayesian Personalized Ranking (BLR)__ \n",
    "* __Weighted Approximate-Rank Pairwise (WARP)__ \n",
    "\n",
    "### Bayesian Personalized Ranking \n",
    "Основная идея заключается в выборке и попарном сравнение положительных и отрицательных item'ов. Алгоритм в упрощенном виде можно представить следующим образом:\n",
    "1. Случайным образом возьмем пользователя $u$ и item $i$, который ранее был выбран пользователем, в таком случае item $i$ будет считаться <em>положительным.</em>\n",
    "2. Случайным образом возьмем item $j$, который был выбран пользователем <em>реже</em>, чем $i$ (в том числе, который пользователь никогда не выбирал), в таком случае item $j$ будет считаться <em>отрицательным.</em>\n",
    "3. Вычисляем оценку $p_{ui}$ и $p_{uj}$ пользователя $u$, а также положительного item'а $i$ и отрицательного item'а $j$ соответственно.\n",
    "4. Находим разницу между положительными и отрицательными оценками, как $x_{uij} = p_{ui} - p_{uj}.$ \n",
    "5. Пропускаем эту разницу через сигмоид и используем ее для вычисления веса для обновления всех параметров модели с помощью градиентного шага(SGD).\n",
    "\n",
    "### Weighted Approximate-Rank Pairwise\n",
    "Концепция данного подхода схожа с BPR, за исключением случаев, когда происходит градиентный шаг:\n",
    "* В BPR градиентный шаг происходит каждый раз с разницей в качестве веса.\n",
    "* WARP совершает градиентный шаг только в случае неверного предсказания (т.е. оценка отрицательного item'а больше положительного). Если предсказание было верным, то продолжаем выбирать отрицательные item'ы, пока не получим неверный прогноз или не достигнем некоторого порогового значения.\n",
    "\n",
    "Для этих целей WARP предоставляет два гиперпараметра:\n",
    "1. __Margin__ - определяет насколько ошибочным должен быть прогноз для совершения градиентного шага. \n",
    "2. __Cutoff__ - определяет сколько раз мы готовы выбирать отрицательные примеры, пытаясь получить неверное предсказание, прежде чем откажемся и перейдем к следующему пользователю.\n",
    "\n",
    "<em>Автор статьи [Learning to Rank Sketchfab Models with LightFM](https://www.ethanrosenthal.com/2016/11/07/implicit-mf-part-2/) утверждает, что на практике вероятнее всего WARP предпочтительнее для большинства рекомендательных систем, нежели BPR.</em>"
   ]
  },
  {
   "cell_type": "code",
   "execution_count": 1,
   "id": "90cfed69",
   "metadata": {},
   "outputs": [],
   "source": [
    "import matplotlib.pyplot as plt\n",
    "import numpy as np\n",
    "import pandas as pd\n",
    "import csv\n",
    "import itertools\n",
    "from lightfm import LightFM\n",
    "from lightfm.evaluation import precision_at_k\n",
    "from scipy.sparse import coo_matrix"
   ]
  },
  {
   "cell_type": "code",
   "execution_count": null,
   "id": "dea1c273",
   "metadata": {},
   "outputs": [],
   "source": []
  },
  {
   "cell_type": "code",
   "execution_count": 3,
   "id": "20941603",
   "metadata": {},
   "outputs": [],
   "source": [
    "#rating_dataset = pd.read_csv('LightFM-Dataset/ratings.csv', low_memory=False)[['userId','movieId','rating']].dropna()\n",
    "#rating_dataset\n",
    "\n",
    "rating_dataset = pd.read_csv(\"tourist_ml.csv\").drop(['Unnamed: 0','ts','aspects','org_city','user_city'],axis=1)\n",
    "rating_dataset = rating_dataset.dropna()\n",
    "test = pd.read_csv(\"test_users.csv\")"
   ]
  },
  {
   "cell_type": "code",
   "execution_count": 4,
   "id": "d6df95fd",
   "metadata": {},
   "outputs": [
    {
     "name": "stdout",
     "output_type": "stream",
     "text": [
      "Shape User-Ratings unfiltered:\t(129009, 3)\n",
      "Shape User-Ratings filtered:\t(14700, 3)\n"
     ]
    }
   ],
   "source": [
    "# Убираем фильмы и пользователей с малым количеством отзывов\n",
    "filter_movies = (rating_dataset['org_id'].value_counts()>5)\n",
    "filter_movies = filter_movies[filter_movies].index.tolist()\n",
    "\n",
    "filter_users = (rating_dataset['user_id'].value_counts()>5)\n",
    "filter_users = filter_users[filter_users].index.tolist()\n",
    "\n",
    "rating_dataset_filtered = rating_dataset[(rating_dataset['org_id'].isin(filter_movies)) & (rating_dataset['user_id'].isin(filter_users))]\n",
    "del filter_movies, filter_users\n",
    "print('Shape User-Ratings unfiltered:\\t{}'.format(rating_dataset.shape))\n",
    "print('Shape User-Ratings filtered:\\t{}'.format(rating_dataset_filtered.shape))"
   ]
  },
  {
   "cell_type": "code",
   "execution_count": 5,
   "id": "d16493dc",
   "metadata": {},
   "outputs": [
    {
     "data": {
      "text/html": [
       "<div>\n",
       "<style scoped>\n",
       "    .dataframe tbody tr th:only-of-type {\n",
       "        vertical-align: middle;\n",
       "    }\n",
       "\n",
       "    .dataframe tbody tr th {\n",
       "        vertical-align: top;\n",
       "    }\n",
       "\n",
       "    .dataframe thead th {\n",
       "        text-align: right;\n",
       "    }\n",
       "</style>\n",
       "<table border=\"1\" class=\"dataframe\">\n",
       "  <thead>\n",
       "    <tr style=\"text-align: right;\">\n",
       "      <th></th>\n",
       "      <th>user_id</th>\n",
       "      <th>org_id</th>\n",
       "      <th>rating</th>\n",
       "    </tr>\n",
       "  </thead>\n",
       "  <tbody>\n",
       "    <tr>\n",
       "      <th>4</th>\n",
       "      <td>8757574242792609967</td>\n",
       "      <td>17298320470833172098</td>\n",
       "      <td>5.0</td>\n",
       "    </tr>\n",
       "    <tr>\n",
       "      <th>5</th>\n",
       "      <td>15654974577179003730</td>\n",
       "      <td>17298320470833172098</td>\n",
       "      <td>4.0</td>\n",
       "    </tr>\n",
       "    <tr>\n",
       "      <th>7</th>\n",
       "      <td>14285448944900664538</td>\n",
       "      <td>17298320470833172098</td>\n",
       "      <td>5.0</td>\n",
       "    </tr>\n",
       "    <tr>\n",
       "      <th>33</th>\n",
       "      <td>12105152658854232373</td>\n",
       "      <td>13351482607452884539</td>\n",
       "      <td>5.0</td>\n",
       "    </tr>\n",
       "    <tr>\n",
       "      <th>35</th>\n",
       "      <td>11069843890910646151</td>\n",
       "      <td>13351482607452884539</td>\n",
       "      <td>5.0</td>\n",
       "    </tr>\n",
       "    <tr>\n",
       "      <th>45</th>\n",
       "      <td>10599355457902438963</td>\n",
       "      <td>13351482607452884539</td>\n",
       "      <td>5.0</td>\n",
       "    </tr>\n",
       "    <tr>\n",
       "      <th>48</th>\n",
       "      <td>430316536897877171</td>\n",
       "      <td>13351482607452884539</td>\n",
       "      <td>5.0</td>\n",
       "    </tr>\n",
       "    <tr>\n",
       "      <th>49</th>\n",
       "      <td>14162972200781047346</td>\n",
       "      <td>13351482607452884539</td>\n",
       "      <td>4.0</td>\n",
       "    </tr>\n",
       "    <tr>\n",
       "      <th>50</th>\n",
       "      <td>12412921146234634345</td>\n",
       "      <td>13351482607452884539</td>\n",
       "      <td>5.0</td>\n",
       "    </tr>\n",
       "    <tr>\n",
       "      <th>52</th>\n",
       "      <td>8552988110114386274</td>\n",
       "      <td>13351482607452884539</td>\n",
       "      <td>5.0</td>\n",
       "    </tr>\n",
       "  </tbody>\n",
       "</table>\n",
       "</div>"
      ],
      "text/plain": [
       "                 user_id                org_id  rating\n",
       "4    8757574242792609967  17298320470833172098     5.0\n",
       "5   15654974577179003730  17298320470833172098     4.0\n",
       "7   14285448944900664538  17298320470833172098     5.0\n",
       "33  12105152658854232373  13351482607452884539     5.0\n",
       "35  11069843890910646151  13351482607452884539     5.0\n",
       "45  10599355457902438963  13351482607452884539     5.0\n",
       "48    430316536897877171  13351482607452884539     5.0\n",
       "49  14162972200781047346  13351482607452884539     4.0\n",
       "50  12412921146234634345  13351482607452884539     5.0\n",
       "52   8552988110114386274  13351482607452884539     5.0"
      ]
     },
     "execution_count": 5,
     "metadata": {},
     "output_type": "execute_result"
    }
   ],
   "source": [
    "rating_dataset_filtered.head(10)"
   ]
  },
  {
   "cell_type": "code",
   "execution_count": 6,
   "id": "4f2c033b",
   "metadata": {},
   "outputs": [
    {
     "data": {
      "text/html": [
       "<div>\n",
       "<style scoped>\n",
       "    .dataframe tbody tr th:only-of-type {\n",
       "        vertical-align: middle;\n",
       "    }\n",
       "\n",
       "    .dataframe tbody tr th {\n",
       "        vertical-align: top;\n",
       "    }\n",
       "\n",
       "    .dataframe thead th {\n",
       "        text-align: right;\n",
       "    }\n",
       "</style>\n",
       "<table border=\"1\" class=\"dataframe\">\n",
       "  <thead>\n",
       "    <tr style=\"text-align: right;\">\n",
       "      <th></th>\n",
       "      <th>user_id</th>\n",
       "      <th>org_id</th>\n",
       "      <th>rating</th>\n",
       "    </tr>\n",
       "  </thead>\n",
       "  <tbody>\n",
       "    <tr>\n",
       "      <th>0</th>\n",
       "      <td>4480388664705836035</td>\n",
       "      <td>12383317104504770478</td>\n",
       "      <td>5.0</td>\n",
       "    </tr>\n",
       "    <tr>\n",
       "      <th>1</th>\n",
       "      <td>9906950084234981209</td>\n",
       "      <td>12046097390037935713</td>\n",
       "      <td>5.0</td>\n",
       "    </tr>\n",
       "    <tr>\n",
       "      <th>2</th>\n",
       "      <td>2202175419747836582</td>\n",
       "      <td>9133246752306196616</td>\n",
       "      <td>4.0</td>\n",
       "    </tr>\n",
       "    <tr>\n",
       "      <th>3</th>\n",
       "      <td>13006972244157624602</td>\n",
       "      <td>6654697229156652408</td>\n",
       "      <td>5.0</td>\n",
       "    </tr>\n",
       "    <tr>\n",
       "      <th>4</th>\n",
       "      <td>16802718425220669434</td>\n",
       "      <td>5002407858008059043</td>\n",
       "      <td>5.0</td>\n",
       "    </tr>\n",
       "    <tr>\n",
       "      <th>5</th>\n",
       "      <td>12093738264124809931</td>\n",
       "      <td>13534187238651328288</td>\n",
       "      <td>5.0</td>\n",
       "    </tr>\n",
       "    <tr>\n",
       "      <th>6</th>\n",
       "      <td>729783763263957353</td>\n",
       "      <td>12046097390037935713</td>\n",
       "      <td>5.0</td>\n",
       "    </tr>\n",
       "    <tr>\n",
       "      <th>7</th>\n",
       "      <td>13928435909890617267</td>\n",
       "      <td>6406273720434949141</td>\n",
       "      <td>5.0</td>\n",
       "    </tr>\n",
       "    <tr>\n",
       "      <th>8</th>\n",
       "      <td>1378766229221299885</td>\n",
       "      <td>3970345774375409173</td>\n",
       "      <td>5.0</td>\n",
       "    </tr>\n",
       "    <tr>\n",
       "      <th>9</th>\n",
       "      <td>2299607915947807517</td>\n",
       "      <td>11017596977107312062</td>\n",
       "      <td>4.0</td>\n",
       "    </tr>\n",
       "  </tbody>\n",
       "</table>\n",
       "</div>"
      ],
      "text/plain": [
       "                user_id                org_id  rating\n",
       "0   4480388664705836035  12383317104504770478     5.0\n",
       "1   9906950084234981209  12046097390037935713     5.0\n",
       "2   2202175419747836582   9133246752306196616     4.0\n",
       "3  13006972244157624602   6654697229156652408     5.0\n",
       "4  16802718425220669434   5002407858008059043     5.0\n",
       "5  12093738264124809931  13534187238651328288     5.0\n",
       "6    729783763263957353  12046097390037935713     5.0\n",
       "7  13928435909890617267   6406273720434949141     5.0\n",
       "8   1378766229221299885   3970345774375409173     5.0\n",
       "9   2299607915947807517  11017596977107312062     4.0"
      ]
     },
     "execution_count": 6,
     "metadata": {},
     "output_type": "execute_result"
    }
   ],
   "source": [
    "rating_dataset_filtered_shuffled = rating_dataset_filtered.sample(frac=1).reset_index(drop=True)\n",
    "rating_dataset_filtered_shuffled.head(10)"
   ]
  },
  {
   "cell_type": "code",
   "execution_count": 7,
   "id": "f3f23d76",
   "metadata": {},
   "outputs": [],
   "source": [
    "n = 1000\n",
    "rating_dataset_train = rating_dataset_filtered_shuffled[:-n]\n",
    "rating_dataset_test = rating_dataset_filtered_shuffled[-n:]"
   ]
  },
  {
   "cell_type": "code",
   "execution_count": 8,
   "id": "f356e82b",
   "metadata": {},
   "outputs": [
    {
     "data": {
      "text/html": [
       "<div>\n",
       "<style scoped>\n",
       "    .dataframe tbody tr th:only-of-type {\n",
       "        vertical-align: middle;\n",
       "    }\n",
       "\n",
       "    .dataframe tbody tr th {\n",
       "        vertical-align: top;\n",
       "    }\n",
       "\n",
       "    .dataframe thead th {\n",
       "        text-align: right;\n",
       "    }\n",
       "</style>\n",
       "<table border=\"1\" class=\"dataframe\">\n",
       "  <thead>\n",
       "    <tr style=\"text-align: right;\">\n",
       "      <th></th>\n",
       "      <th>user_id</th>\n",
       "      <th>org_id</th>\n",
       "      <th>rating</th>\n",
       "    </tr>\n",
       "  </thead>\n",
       "  <tbody>\n",
       "    <tr>\n",
       "      <th>0</th>\n",
       "      <td>4480388664705836035</td>\n",
       "      <td>12383317104504770478</td>\n",
       "      <td>5.0</td>\n",
       "    </tr>\n",
       "    <tr>\n",
       "      <th>1</th>\n",
       "      <td>9906950084234981209</td>\n",
       "      <td>12046097390037935713</td>\n",
       "      <td>5.0</td>\n",
       "    </tr>\n",
       "    <tr>\n",
       "      <th>2</th>\n",
       "      <td>2202175419747836582</td>\n",
       "      <td>9133246752306196616</td>\n",
       "      <td>4.0</td>\n",
       "    </tr>\n",
       "    <tr>\n",
       "      <th>3</th>\n",
       "      <td>13006972244157624602</td>\n",
       "      <td>6654697229156652408</td>\n",
       "      <td>5.0</td>\n",
       "    </tr>\n",
       "    <tr>\n",
       "      <th>4</th>\n",
       "      <td>16802718425220669434</td>\n",
       "      <td>5002407858008059043</td>\n",
       "      <td>5.0</td>\n",
       "    </tr>\n",
       "    <tr>\n",
       "      <th>...</th>\n",
       "      <td>...</td>\n",
       "      <td>...</td>\n",
       "      <td>...</td>\n",
       "    </tr>\n",
       "    <tr>\n",
       "      <th>13695</th>\n",
       "      <td>7827265382646728537</td>\n",
       "      <td>4473403246015165215</td>\n",
       "      <td>5.0</td>\n",
       "    </tr>\n",
       "    <tr>\n",
       "      <th>13696</th>\n",
       "      <td>5911873803745116534</td>\n",
       "      <td>4139051656129080881</td>\n",
       "      <td>4.0</td>\n",
       "    </tr>\n",
       "    <tr>\n",
       "      <th>13697</th>\n",
       "      <td>15349821504867194719</td>\n",
       "      <td>14814427257061788801</td>\n",
       "      <td>4.0</td>\n",
       "    </tr>\n",
       "    <tr>\n",
       "      <th>13698</th>\n",
       "      <td>8757574242792609967</td>\n",
       "      <td>15215970200910572311</td>\n",
       "      <td>4.0</td>\n",
       "    </tr>\n",
       "    <tr>\n",
       "      <th>13699</th>\n",
       "      <td>10624095972093297421</td>\n",
       "      <td>14334848998231241649</td>\n",
       "      <td>5.0</td>\n",
       "    </tr>\n",
       "  </tbody>\n",
       "</table>\n",
       "<p>13700 rows × 3 columns</p>\n",
       "</div>"
      ],
      "text/plain": [
       "                    user_id                org_id  rating\n",
       "0       4480388664705836035  12383317104504770478     5.0\n",
       "1       9906950084234981209  12046097390037935713     5.0\n",
       "2       2202175419747836582   9133246752306196616     4.0\n",
       "3      13006972244157624602   6654697229156652408     5.0\n",
       "4      16802718425220669434   5002407858008059043     5.0\n",
       "...                     ...                   ...     ...\n",
       "13695   7827265382646728537   4473403246015165215     5.0\n",
       "13696   5911873803745116534   4139051656129080881     4.0\n",
       "13697  15349821504867194719  14814427257061788801     4.0\n",
       "13698   8757574242792609967  15215970200910572311     4.0\n",
       "13699  10624095972093297421  14334848998231241649     5.0\n",
       "\n",
       "[13700 rows x 3 columns]"
      ]
     },
     "execution_count": 8,
     "metadata": {},
     "output_type": "execute_result"
    }
   ],
   "source": [
    "rating_dataset_train"
   ]
  },
  {
   "cell_type": "code",
   "execution_count": 9,
   "id": "83456c7d",
   "metadata": {},
   "outputs": [
    {
     "name": "stdout",
     "output_type": "stream",
     "text": [
      "Shape User-Movie-Matrix:\t(2049, 2)\n"
     ]
    },
    {
     "data": {
      "text/html": [
       "<div>\n",
       "<style scoped>\n",
       "    .dataframe tbody tr th:only-of-type {\n",
       "        vertical-align: middle;\n",
       "    }\n",
       "\n",
       "    .dataframe tbody tr th {\n",
       "        vertical-align: top;\n",
       "    }\n",
       "\n",
       "    .dataframe thead th {\n",
       "        text-align: right;\n",
       "    }\n",
       "</style>\n",
       "<table border=\"1\" class=\"dataframe\">\n",
       "  <thead>\n",
       "    <tr style=\"text-align: right;\">\n",
       "      <th>rating</th>\n",
       "      <th>4.0</th>\n",
       "      <th>5.0</th>\n",
       "    </tr>\n",
       "    <tr>\n",
       "      <th>user_id</th>\n",
       "      <th></th>\n",
       "      <th></th>\n",
       "    </tr>\n",
       "  </thead>\n",
       "  <tbody>\n",
       "    <tr>\n",
       "      <th>7301819280750949143</th>\n",
       "      <td>NaN</td>\n",
       "      <td>8.066922e+18</td>\n",
       "    </tr>\n",
       "    <tr>\n",
       "      <th>5838200518413306716</th>\n",
       "      <td>7.153213e+18</td>\n",
       "      <td>9.170923e+18</td>\n",
       "    </tr>\n",
       "    <tr>\n",
       "      <th>9245314847965133927</th>\n",
       "      <td>NaN</td>\n",
       "      <td>1.001442e+19</td>\n",
       "    </tr>\n",
       "  </tbody>\n",
       "</table>\n",
       "</div>"
      ],
      "text/plain": [
       "rating                        4.0           5.0\n",
       "user_id                                        \n",
       "7301819280750949143           NaN  8.066922e+18\n",
       "5838200518413306716  7.153213e+18  9.170923e+18\n",
       "9245314847965133927           NaN  1.001442e+19"
      ]
     },
     "execution_count": 9,
     "metadata": {},
     "output_type": "execute_result"
    }
   ],
   "source": [
    "#Создадим User-Movie-matrix\n",
    "user_movie_matrix = rating_dataset_train.pivot_table(index='user_id', columns='rating', values='org_id')\n",
    "print('Shape User-Movie-Matrix:\\t{}'.format(user_movie_matrix.shape))\n",
    "user_movie_matrix.sample(3)"
   ]
  },
  {
   "cell_type": "code",
   "execution_count": 10,
   "id": "c5edce29",
   "metadata": {},
   "outputs": [],
   "source": [
    "#Создадим маппинг для пользователей и фильмов\n",
    "user_id_mapping = {id:i for i, id in enumerate(rating_dataset_filtered['user_id'].unique())}\n",
    "movie_id_mapping = {id:i for i, id in enumerate(rating_dataset_filtered['rating'].unique())}\n",
    "#Применим его к обучающему и тренировочному набору\n",
    "train_user_data = rating_dataset_train['user_id'].map(user_id_mapping)\n",
    "train_movie_data = rating_dataset_train['rating'].map(movie_id_mapping)\n",
    "\n",
    "test_user_data = rating_dataset_test['user_id'].map(user_id_mapping)\n",
    "test_movie_data = rating_dataset_test['rating'].map(movie_id_mapping)"
   ]
  },
  {
   "cell_type": "code",
   "execution_count": 11,
   "id": "058a2f5b",
   "metadata": {},
   "outputs": [],
   "source": [
    "#Создадим разреженную матрицу рейтинга\n",
    "shape = (len(user_id_mapping), len(movie_id_mapping))\n",
    "train_matrix = coo_matrix((rating_dataset_train['org_id'].values, (train_user_data.astype(int), train_movie_data.astype(int))), shape=shape)\n",
    "test_matrix = coo_matrix((rating_dataset_test['org_id'].values, (test_user_data.astype(int), test_movie_data.astype(int))), shape=shape)"
   ]
  },
  {
   "cell_type": "code",
   "execution_count": 12,
   "id": "d72e6fb4",
   "metadata": {},
   "outputs": [
    {
     "name": "stdout",
     "output_type": "stream",
     "text": [
      "311 ms ± 26.3 ms per loop (mean ± std. dev. of 7 runs, 1 loop each)\n"
     ]
    }
   ],
   "source": [
    "#Создадим модель LightFM и обучим ем\n",
    "model = LightFM(loss='warp')\n",
    "%timeit model.fit(train_matrix, epochs=30, num_threads=2)"
   ]
  },
  {
   "cell_type": "code",
   "execution_count": 13,
   "id": "a886beaf",
   "metadata": {},
   "outputs": [
    {
     "name": "stdout",
     "output_type": "stream",
     "text": [
      "Train precision at k=20:\t0.0802\n",
      "Test precision at k=20:\t\t0.0539\n"
     ]
    }
   ],
   "source": [
    "k = 20\n",
    "print('Train precision at k={}:\\t{:.4f}'.format(k, precision_at_k(model, train_matrix, k=k).mean()))\n",
    "print('Test precision at k={}:\\t\\t{:.4f}'.format(k, precision_at_k(model, test_matrix, k=k).mean()))"
   ]
  },
  {
   "cell_type": "code",
   "execution_count": 14,
   "id": "71740081",
   "metadata": {},
   "outputs": [
    {
     "name": "stdout",
     "output_type": "stream",
     "text": [
      "Train precision at k=20:\t0.0802\n",
      "Test precision at k=20:\t\t0.0539\n"
     ]
    }
   ],
   "source": [
    "#Старая версия модели с урезанным датасетом показывала подобные результаты\n",
    "k = 20\n",
    "print('Train precision at k={}:\\t{:.4f}'.format(k, precision_at_k(model, train_matrix, k=k).mean()))\n",
    "print('Test precision at k={}:\\t\\t{:.4f}'.format(k, precision_at_k(model, test_matrix, k=k).mean()))"
   ]
  },
  {
   "cell_type": "code",
   "execution_count": null,
   "id": "7881f43b",
   "metadata": {},
   "outputs": [],
   "source": []
  }
 ],
 "metadata": {
  "kernelspec": {
   "display_name": "Python 3",
   "language": "python",
   "name": "python3"
  },
  "language_info": {
   "codemirror_mode": {
    "name": "ipython",
    "version": 3
   },
   "file_extension": ".py",
   "mimetype": "text/x-python",
   "name": "python",
   "nbconvert_exporter": "python",
   "pygments_lexer": "ipython3",
   "version": "3.8.8"
  }
 },
 "nbformat": 4,
 "nbformat_minor": 5
}
